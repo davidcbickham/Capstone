{
 "cells": [
  {
   "cell_type": "markdown",
   "metadata": {},
   "source": [
    "# Clustering Tracks with HDBSCAN"
   ]
  },
  {
   "cell_type": "markdown",
   "metadata": {},
   "source": [
    "In this notebook we will use an unsupervised clustering alorithm known as HDBSCAN to see if we can identify informative groupings or clusters of tracks that may inform future recommendation engines. We'll follow some of the same pre-processing steps using multilabel binarizer and Singular Value Decomposition (dimensionality reduction)."
   ]
  },
  {
   "cell_type": "markdown",
   "metadata": {},
   "source": [
    "## Importing Librabries"
   ]
  },
  {
   "cell_type": "code",
   "execution_count": 3,
   "metadata": {},
   "outputs": [],
   "source": [
    "import pandas as pd\n",
    "import numpy as np\n",
    "from sklearn.decomposition import TruncatedSVD\n",
    "import matplotlib.pyplot as plt\n",
    "from sklearn.preprocessing import StandardScaler\n",
    "\n",
    "import hdbscan\n",
    "\n",
    "np.random.seed(42)\n",
    "\n",
    "%matplotlib inline"
   ]
  },
  {
   "cell_type": "markdown",
   "metadata": {},
   "source": [
    "## Importing Dataset"
   ]
  },
  {
   "cell_type": "markdown",
   "metadata": {},
   "source": [
    "The df_combined data includes all track meta data, artist meta data, and audio features for every song in our track library"
   ]
  },
  {
   "cell_type": "code",
   "execution_count": 4,
   "metadata": {},
   "outputs": [],
   "source": [
    "df = pd.read_csv('../data/df_combined.csv')"
   ]
  },
  {
   "cell_type": "code",
   "execution_count": 5,
   "metadata": {},
   "outputs": [
    {
     "data": {
      "text/plain": [
       "(37028, 26)"
      ]
     },
     "execution_count": 5,
     "metadata": {},
     "output_type": "execute_result"
    }
   ],
   "source": [
    "df.shape"
   ]
  },
  {
   "cell_type": "code",
   "execution_count": 6,
   "metadata": {},
   "outputs": [
    {
     "data": {
      "text/html": [
       "<div>\n",
       "<style scoped>\n",
       "    .dataframe tbody tr th:only-of-type {\n",
       "        vertical-align: middle;\n",
       "    }\n",
       "\n",
       "    .dataframe tbody tr th {\n",
       "        vertical-align: top;\n",
       "    }\n",
       "\n",
       "    .dataframe thead th {\n",
       "        text-align: right;\n",
       "    }\n",
       "</style>\n",
       "<table border=\"1\" class=\"dataframe\">\n",
       "  <thead>\n",
       "    <tr style=\"text-align: right;\">\n",
       "      <th></th>\n",
       "      <th>Unnamed: 0</th>\n",
       "      <th>track_id</th>\n",
       "      <th>track_name</th>\n",
       "      <th>artist_id</th>\n",
       "      <th>artist_name</th>\n",
       "      <th>album_id</th>\n",
       "      <th>album_name</th>\n",
       "      <th>playlist_id</th>\n",
       "      <th>track_popularity</th>\n",
       "      <th>track_duration</th>\n",
       "      <th>...</th>\n",
       "      <th>mode</th>\n",
       "      <th>speechiness</th>\n",
       "      <th>acousticness</th>\n",
       "      <th>instrumentalness</th>\n",
       "      <th>liveness</th>\n",
       "      <th>valence</th>\n",
       "      <th>tempo</th>\n",
       "      <th>artist_genres</th>\n",
       "      <th>related_artist_names</th>\n",
       "      <th>playlist_name</th>\n",
       "    </tr>\n",
       "  </thead>\n",
       "  <tbody>\n",
       "    <tr>\n",
       "      <th>0</th>\n",
       "      <td>0</td>\n",
       "      <td>7DQ5CZjAQdhgDgdnSXxJ7Z</td>\n",
       "      <td>Solid Gold</td>\n",
       "      <td>6n28c9qs9hNGriNa72b26u</td>\n",
       "      <td>PNAU</td>\n",
       "      <td>3g0mfsWlOOUNheV5L3kQKs</td>\n",
       "      <td>Solid Gold</td>\n",
       "      <td>37i9dQZF1DX4dyzvuaRJ0n</td>\n",
       "      <td>58.0</td>\n",
       "      <td>208367.0</td>\n",
       "      <td>...</td>\n",
       "      <td>0.0</td>\n",
       "      <td>0.0541</td>\n",
       "      <td>0.0978</td>\n",
       "      <td>0.000001</td>\n",
       "      <td>0.0836</td>\n",
       "      <td>0.2950</td>\n",
       "      <td>104.983</td>\n",
       "      <td>['alternative dance', 'aussietronica', 'austra...</td>\n",
       "      <td>['Eye of the Enemy', 'Cypecore', 'Rise to Fall...</td>\n",
       "      <td>mint</td>\n",
       "    </tr>\n",
       "    <tr>\n",
       "      <th>1</th>\n",
       "      <td>1</td>\n",
       "      <td>5p1ex0pXv6jSPJ6QbumQpD</td>\n",
       "      <td>Piece Of Your Heart</td>\n",
       "      <td>0xRXCcSX89eobfrshSVdyu</td>\n",
       "      <td>MEDUZA</td>\n",
       "      <td>0agqVZjOqVtqHkq3pTFPXb</td>\n",
       "      <td>Piece Of Your Heart</td>\n",
       "      <td>37i9dQZF1DX4dyzvuaRJ0n</td>\n",
       "      <td>87.0</td>\n",
       "      <td>152913.0</td>\n",
       "      <td>...</td>\n",
       "      <td>0.0</td>\n",
       "      <td>0.0295</td>\n",
       "      <td>0.0404</td>\n",
       "      <td>0.000160</td>\n",
       "      <td>0.0740</td>\n",
       "      <td>0.6310</td>\n",
       "      <td>124.080</td>\n",
       "      <td>[]</td>\n",
       "      <td>['Eye of the Enemy', 'Cypecore', 'Rise to Fall...</td>\n",
       "      <td>mint</td>\n",
       "    </tr>\n",
       "    <tr>\n",
       "      <th>2</th>\n",
       "      <td>2</td>\n",
       "      <td>1ahVFh0ViDZr8LvkEVlq3B</td>\n",
       "      <td>No Sleep (feat. Bonn)</td>\n",
       "      <td>60d24wfXkVzDSfLS6hyCjZ</td>\n",
       "      <td>Martin Garrix</td>\n",
       "      <td>7KJTuTXYSnBGNgAxte3CSg</td>\n",
       "      <td>No Sleep (feat. Bonn)</td>\n",
       "      <td>37i9dQZF1DX4dyzvuaRJ0n</td>\n",
       "      <td>84.0</td>\n",
       "      <td>207094.0</td>\n",
       "      <td>...</td>\n",
       "      <td>1.0</td>\n",
       "      <td>0.0326</td>\n",
       "      <td>0.1290</td>\n",
       "      <td>0.000000</td>\n",
       "      <td>0.1210</td>\n",
       "      <td>0.3270</td>\n",
       "      <td>128.133</td>\n",
       "      <td>['big room', 'edm', 'pop', 'progressive house'...</td>\n",
       "      <td>['AREA21', 'Borgeous', 'KSHMR', 'Dimitri Vegas...</td>\n",
       "      <td>mint</td>\n",
       "    </tr>\n",
       "    <tr>\n",
       "      <th>3</th>\n",
       "      <td>3</td>\n",
       "      <td>6nDKrPlXdpomGBgAlO7UdP</td>\n",
       "      <td>SOS</td>\n",
       "      <td>1vCWHaC5f2uS3yhpwWbIA6</td>\n",
       "      <td>Avicii</td>\n",
       "      <td>7Jx7doYIXITyR2LQB0Hvbc</td>\n",
       "      <td>SOS</td>\n",
       "      <td>37i9dQZF1DX4dyzvuaRJ0n</td>\n",
       "      <td>95.0</td>\n",
       "      <td>157202.0</td>\n",
       "      <td>...</td>\n",
       "      <td>0.0</td>\n",
       "      <td>0.0715</td>\n",
       "      <td>0.2720</td>\n",
       "      <td>0.000000</td>\n",
       "      <td>0.1190</td>\n",
       "      <td>0.3760</td>\n",
       "      <td>100.001</td>\n",
       "      <td>['big room', 'dance pop', 'edm', 'pop']</td>\n",
       "      <td>['Alesso', 'Afrojack', 'Swedish House Mafia', ...</td>\n",
       "      <td>mint</td>\n",
       "    </tr>\n",
       "    <tr>\n",
       "      <th>4</th>\n",
       "      <td>4</td>\n",
       "      <td>5TL9e2xgtvJFtNCBsq1CgX</td>\n",
       "      <td>Changa - Blanke Remix</td>\n",
       "      <td>6n28c9qs9hNGriNa72b26u</td>\n",
       "      <td>PNAU</td>\n",
       "      <td>5kwv2A2qAK8pN007hSA56t</td>\n",
       "      <td>Changa</td>\n",
       "      <td>37i9dQZF1DX4dyzvuaRJ0n</td>\n",
       "      <td>59.0</td>\n",
       "      <td>188470.0</td>\n",
       "      <td>...</td>\n",
       "      <td>1.0</td>\n",
       "      <td>0.0431</td>\n",
       "      <td>0.0330</td>\n",
       "      <td>0.119000</td>\n",
       "      <td>0.2720</td>\n",
       "      <td>0.0654</td>\n",
       "      <td>110.086</td>\n",
       "      <td>['alternative dance', 'aussietronica', 'austra...</td>\n",
       "      <td>['Eye of the Enemy', 'Cypecore', 'Rise to Fall...</td>\n",
       "      <td>mint</td>\n",
       "    </tr>\n",
       "  </tbody>\n",
       "</table>\n",
       "<p>5 rows × 26 columns</p>\n",
       "</div>"
      ],
      "text/plain": [
       "   Unnamed: 0                track_id             track_name  \\\n",
       "0           0  7DQ5CZjAQdhgDgdnSXxJ7Z             Solid Gold   \n",
       "1           1  5p1ex0pXv6jSPJ6QbumQpD    Piece Of Your Heart   \n",
       "2           2  1ahVFh0ViDZr8LvkEVlq3B  No Sleep (feat. Bonn)   \n",
       "3           3  6nDKrPlXdpomGBgAlO7UdP                    SOS   \n",
       "4           4  5TL9e2xgtvJFtNCBsq1CgX  Changa - Blanke Remix   \n",
       "\n",
       "                artist_id    artist_name                album_id  \\\n",
       "0  6n28c9qs9hNGriNa72b26u           PNAU  3g0mfsWlOOUNheV5L3kQKs   \n",
       "1  0xRXCcSX89eobfrshSVdyu         MEDUZA  0agqVZjOqVtqHkq3pTFPXb   \n",
       "2  60d24wfXkVzDSfLS6hyCjZ  Martin Garrix  7KJTuTXYSnBGNgAxte3CSg   \n",
       "3  1vCWHaC5f2uS3yhpwWbIA6         Avicii  7Jx7doYIXITyR2LQB0Hvbc   \n",
       "4  6n28c9qs9hNGriNa72b26u           PNAU  5kwv2A2qAK8pN007hSA56t   \n",
       "\n",
       "              album_name             playlist_id  track_popularity  \\\n",
       "0             Solid Gold  37i9dQZF1DX4dyzvuaRJ0n              58.0   \n",
       "1    Piece Of Your Heart  37i9dQZF1DX4dyzvuaRJ0n              87.0   \n",
       "2  No Sleep (feat. Bonn)  37i9dQZF1DX4dyzvuaRJ0n              84.0   \n",
       "3                    SOS  37i9dQZF1DX4dyzvuaRJ0n              95.0   \n",
       "4                 Changa  37i9dQZF1DX4dyzvuaRJ0n              59.0   \n",
       "\n",
       "   track_duration  ...  mode  speechiness  acousticness  instrumentalness  \\\n",
       "0        208367.0  ...   0.0       0.0541        0.0978          0.000001   \n",
       "1        152913.0  ...   0.0       0.0295        0.0404          0.000160   \n",
       "2        207094.0  ...   1.0       0.0326        0.1290          0.000000   \n",
       "3        157202.0  ...   0.0       0.0715        0.2720          0.000000   \n",
       "4        188470.0  ...   1.0       0.0431        0.0330          0.119000   \n",
       "\n",
       "   liveness  valence    tempo  \\\n",
       "0    0.0836   0.2950  104.983   \n",
       "1    0.0740   0.6310  124.080   \n",
       "2    0.1210   0.3270  128.133   \n",
       "3    0.1190   0.3760  100.001   \n",
       "4    0.2720   0.0654  110.086   \n",
       "\n",
       "                                       artist_genres  \\\n",
       "0  ['alternative dance', 'aussietronica', 'austra...   \n",
       "1                                                 []   \n",
       "2  ['big room', 'edm', 'pop', 'progressive house'...   \n",
       "3            ['big room', 'dance pop', 'edm', 'pop']   \n",
       "4  ['alternative dance', 'aussietronica', 'austra...   \n",
       "\n",
       "                                related_artist_names  playlist_name  \n",
       "0  ['Eye of the Enemy', 'Cypecore', 'Rise to Fall...           mint  \n",
       "1  ['Eye of the Enemy', 'Cypecore', 'Rise to Fall...           mint  \n",
       "2  ['AREA21', 'Borgeous', 'KSHMR', 'Dimitri Vegas...           mint  \n",
       "3  ['Alesso', 'Afrojack', 'Swedish House Mafia', ...           mint  \n",
       "4  ['Eye of the Enemy', 'Cypecore', 'Rise to Fall...           mint  \n",
       "\n",
       "[5 rows x 26 columns]"
      ]
     },
     "execution_count": 6,
     "metadata": {},
     "output_type": "execute_result"
    }
   ],
   "source": [
    "df.head()"
   ]
  },
  {
   "cell_type": "markdown",
   "metadata": {},
   "source": [
    "Dropping extra index column"
   ]
  },
  {
   "cell_type": "code",
   "execution_count": 7,
   "metadata": {},
   "outputs": [],
   "source": [
    "df.drop('Unnamed: 0', axis = 1, inplace=True)"
   ]
  },
  {
   "cell_type": "markdown",
   "metadata": {},
   "source": [
    "### Creating Song/Artist Identifier"
   ]
  },
  {
   "cell_type": "markdown",
   "metadata": {},
   "source": [
    "For our final recommendation system we'll want to input a track and return the most similar songs based on the Cosine Similarity score. To better identify tracks in the library, we'll create a new field which is a combination of the `track_name`, `artist_name`, and `playlist_name'. This field will become our unique identifier for a given song"
   ]
  },
  {
   "cell_type": "code",
   "execution_count": 8,
   "metadata": {},
   "outputs": [],
   "source": [
    "df['track_artist_playlist'] = df['track_name']+'_'+df['artist_name']+'_'+df['playlist_name']"
   ]
  },
  {
   "cell_type": "code",
   "execution_count": 9,
   "metadata": {},
   "outputs": [
    {
     "data": {
      "text/html": [
       "<div>\n",
       "<style scoped>\n",
       "    .dataframe tbody tr th:only-of-type {\n",
       "        vertical-align: middle;\n",
       "    }\n",
       "\n",
       "    .dataframe tbody tr th {\n",
       "        vertical-align: top;\n",
       "    }\n",
       "\n",
       "    .dataframe thead th {\n",
       "        text-align: right;\n",
       "    }\n",
       "</style>\n",
       "<table border=\"1\" class=\"dataframe\">\n",
       "  <thead>\n",
       "    <tr style=\"text-align: right;\">\n",
       "      <th></th>\n",
       "      <th>track_id</th>\n",
       "      <th>track_name</th>\n",
       "      <th>artist_id</th>\n",
       "      <th>artist_name</th>\n",
       "      <th>album_id</th>\n",
       "      <th>album_name</th>\n",
       "      <th>playlist_id</th>\n",
       "      <th>track_popularity</th>\n",
       "      <th>track_duration</th>\n",
       "      <th>artist_popularity</th>\n",
       "      <th>...</th>\n",
       "      <th>speechiness</th>\n",
       "      <th>acousticness</th>\n",
       "      <th>instrumentalness</th>\n",
       "      <th>liveness</th>\n",
       "      <th>valence</th>\n",
       "      <th>tempo</th>\n",
       "      <th>artist_genres</th>\n",
       "      <th>related_artist_names</th>\n",
       "      <th>playlist_name</th>\n",
       "      <th>track_artist_playlist</th>\n",
       "    </tr>\n",
       "  </thead>\n",
       "  <tbody>\n",
       "    <tr>\n",
       "      <th>0</th>\n",
       "      <td>7DQ5CZjAQdhgDgdnSXxJ7Z</td>\n",
       "      <td>Solid Gold</td>\n",
       "      <td>6n28c9qs9hNGriNa72b26u</td>\n",
       "      <td>PNAU</td>\n",
       "      <td>3g0mfsWlOOUNheV5L3kQKs</td>\n",
       "      <td>Solid Gold</td>\n",
       "      <td>37i9dQZF1DX4dyzvuaRJ0n</td>\n",
       "      <td>58.0</td>\n",
       "      <td>208367.0</td>\n",
       "      <td>65</td>\n",
       "      <td>...</td>\n",
       "      <td>0.0541</td>\n",
       "      <td>0.0978</td>\n",
       "      <td>0.000001</td>\n",
       "      <td>0.0836</td>\n",
       "      <td>0.2950</td>\n",
       "      <td>104.983</td>\n",
       "      <td>['alternative dance', 'aussietronica', 'austra...</td>\n",
       "      <td>['Eye of the Enemy', 'Cypecore', 'Rise to Fall...</td>\n",
       "      <td>mint</td>\n",
       "      <td>Solid Gold_PNAU_mint</td>\n",
       "    </tr>\n",
       "    <tr>\n",
       "      <th>1</th>\n",
       "      <td>5p1ex0pXv6jSPJ6QbumQpD</td>\n",
       "      <td>Piece Of Your Heart</td>\n",
       "      <td>0xRXCcSX89eobfrshSVdyu</td>\n",
       "      <td>MEDUZA</td>\n",
       "      <td>0agqVZjOqVtqHkq3pTFPXb</td>\n",
       "      <td>Piece Of Your Heart</td>\n",
       "      <td>37i9dQZF1DX4dyzvuaRJ0n</td>\n",
       "      <td>87.0</td>\n",
       "      <td>152913.0</td>\n",
       "      <td>74</td>\n",
       "      <td>...</td>\n",
       "      <td>0.0295</td>\n",
       "      <td>0.0404</td>\n",
       "      <td>0.000160</td>\n",
       "      <td>0.0740</td>\n",
       "      <td>0.6310</td>\n",
       "      <td>124.080</td>\n",
       "      <td>[]</td>\n",
       "      <td>['Eye of the Enemy', 'Cypecore', 'Rise to Fall...</td>\n",
       "      <td>mint</td>\n",
       "      <td>Piece Of Your Heart_MEDUZA_mint</td>\n",
       "    </tr>\n",
       "    <tr>\n",
       "      <th>2</th>\n",
       "      <td>1ahVFh0ViDZr8LvkEVlq3B</td>\n",
       "      <td>No Sleep (feat. Bonn)</td>\n",
       "      <td>60d24wfXkVzDSfLS6hyCjZ</td>\n",
       "      <td>Martin Garrix</td>\n",
       "      <td>7KJTuTXYSnBGNgAxte3CSg</td>\n",
       "      <td>No Sleep (feat. Bonn)</td>\n",
       "      <td>37i9dQZF1DX4dyzvuaRJ0n</td>\n",
       "      <td>84.0</td>\n",
       "      <td>207094.0</td>\n",
       "      <td>86</td>\n",
       "      <td>...</td>\n",
       "      <td>0.0326</td>\n",
       "      <td>0.1290</td>\n",
       "      <td>0.000000</td>\n",
       "      <td>0.1210</td>\n",
       "      <td>0.3270</td>\n",
       "      <td>128.133</td>\n",
       "      <td>['big room', 'edm', 'pop', 'progressive house'...</td>\n",
       "      <td>['AREA21', 'Borgeous', 'KSHMR', 'Dimitri Vegas...</td>\n",
       "      <td>mint</td>\n",
       "      <td>No Sleep (feat. Bonn)_Martin Garrix_mint</td>\n",
       "    </tr>\n",
       "    <tr>\n",
       "      <th>3</th>\n",
       "      <td>6nDKrPlXdpomGBgAlO7UdP</td>\n",
       "      <td>SOS</td>\n",
       "      <td>1vCWHaC5f2uS3yhpwWbIA6</td>\n",
       "      <td>Avicii</td>\n",
       "      <td>7Jx7doYIXITyR2LQB0Hvbc</td>\n",
       "      <td>SOS</td>\n",
       "      <td>37i9dQZF1DX4dyzvuaRJ0n</td>\n",
       "      <td>95.0</td>\n",
       "      <td>157202.0</td>\n",
       "      <td>89</td>\n",
       "      <td>...</td>\n",
       "      <td>0.0715</td>\n",
       "      <td>0.2720</td>\n",
       "      <td>0.000000</td>\n",
       "      <td>0.1190</td>\n",
       "      <td>0.3760</td>\n",
       "      <td>100.001</td>\n",
       "      <td>['big room', 'dance pop', 'edm', 'pop']</td>\n",
       "      <td>['Alesso', 'Afrojack', 'Swedish House Mafia', ...</td>\n",
       "      <td>mint</td>\n",
       "      <td>SOS_Avicii_mint</td>\n",
       "    </tr>\n",
       "    <tr>\n",
       "      <th>4</th>\n",
       "      <td>5TL9e2xgtvJFtNCBsq1CgX</td>\n",
       "      <td>Changa - Blanke Remix</td>\n",
       "      <td>6n28c9qs9hNGriNa72b26u</td>\n",
       "      <td>PNAU</td>\n",
       "      <td>5kwv2A2qAK8pN007hSA56t</td>\n",
       "      <td>Changa</td>\n",
       "      <td>37i9dQZF1DX4dyzvuaRJ0n</td>\n",
       "      <td>59.0</td>\n",
       "      <td>188470.0</td>\n",
       "      <td>65</td>\n",
       "      <td>...</td>\n",
       "      <td>0.0431</td>\n",
       "      <td>0.0330</td>\n",
       "      <td>0.119000</td>\n",
       "      <td>0.2720</td>\n",
       "      <td>0.0654</td>\n",
       "      <td>110.086</td>\n",
       "      <td>['alternative dance', 'aussietronica', 'austra...</td>\n",
       "      <td>['Eye of the Enemy', 'Cypecore', 'Rise to Fall...</td>\n",
       "      <td>mint</td>\n",
       "      <td>Changa - Blanke Remix_PNAU_mint</td>\n",
       "    </tr>\n",
       "  </tbody>\n",
       "</table>\n",
       "<p>5 rows × 26 columns</p>\n",
       "</div>"
      ],
      "text/plain": [
       "                 track_id             track_name               artist_id  \\\n",
       "0  7DQ5CZjAQdhgDgdnSXxJ7Z             Solid Gold  6n28c9qs9hNGriNa72b26u   \n",
       "1  5p1ex0pXv6jSPJ6QbumQpD    Piece Of Your Heart  0xRXCcSX89eobfrshSVdyu   \n",
       "2  1ahVFh0ViDZr8LvkEVlq3B  No Sleep (feat. Bonn)  60d24wfXkVzDSfLS6hyCjZ   \n",
       "3  6nDKrPlXdpomGBgAlO7UdP                    SOS  1vCWHaC5f2uS3yhpwWbIA6   \n",
       "4  5TL9e2xgtvJFtNCBsq1CgX  Changa - Blanke Remix  6n28c9qs9hNGriNa72b26u   \n",
       "\n",
       "     artist_name                album_id             album_name  \\\n",
       "0           PNAU  3g0mfsWlOOUNheV5L3kQKs             Solid Gold   \n",
       "1         MEDUZA  0agqVZjOqVtqHkq3pTFPXb    Piece Of Your Heart   \n",
       "2  Martin Garrix  7KJTuTXYSnBGNgAxte3CSg  No Sleep (feat. Bonn)   \n",
       "3         Avicii  7Jx7doYIXITyR2LQB0Hvbc                    SOS   \n",
       "4           PNAU  5kwv2A2qAK8pN007hSA56t                 Changa   \n",
       "\n",
       "              playlist_id  track_popularity  track_duration  \\\n",
       "0  37i9dQZF1DX4dyzvuaRJ0n              58.0        208367.0   \n",
       "1  37i9dQZF1DX4dyzvuaRJ0n              87.0        152913.0   \n",
       "2  37i9dQZF1DX4dyzvuaRJ0n              84.0        207094.0   \n",
       "3  37i9dQZF1DX4dyzvuaRJ0n              95.0        157202.0   \n",
       "4  37i9dQZF1DX4dyzvuaRJ0n              59.0        188470.0   \n",
       "\n",
       "   artist_popularity  ...  speechiness  acousticness  instrumentalness  \\\n",
       "0                 65  ...       0.0541        0.0978          0.000001   \n",
       "1                 74  ...       0.0295        0.0404          0.000160   \n",
       "2                 86  ...       0.0326        0.1290          0.000000   \n",
       "3                 89  ...       0.0715        0.2720          0.000000   \n",
       "4                 65  ...       0.0431        0.0330          0.119000   \n",
       "\n",
       "   liveness  valence    tempo  \\\n",
       "0    0.0836   0.2950  104.983   \n",
       "1    0.0740   0.6310  124.080   \n",
       "2    0.1210   0.3270  128.133   \n",
       "3    0.1190   0.3760  100.001   \n",
       "4    0.2720   0.0654  110.086   \n",
       "\n",
       "                                       artist_genres  \\\n",
       "0  ['alternative dance', 'aussietronica', 'austra...   \n",
       "1                                                 []   \n",
       "2  ['big room', 'edm', 'pop', 'progressive house'...   \n",
       "3            ['big room', 'dance pop', 'edm', 'pop']   \n",
       "4  ['alternative dance', 'aussietronica', 'austra...   \n",
       "\n",
       "                                related_artist_names  playlist_name  \\\n",
       "0  ['Eye of the Enemy', 'Cypecore', 'Rise to Fall...           mint   \n",
       "1  ['Eye of the Enemy', 'Cypecore', 'Rise to Fall...           mint   \n",
       "2  ['AREA21', 'Borgeous', 'KSHMR', 'Dimitri Vegas...           mint   \n",
       "3  ['Alesso', 'Afrojack', 'Swedish House Mafia', ...           mint   \n",
       "4  ['Eye of the Enemy', 'Cypecore', 'Rise to Fall...           mint   \n",
       "\n",
       "                      track_artist_playlist  \n",
       "0                      Solid Gold_PNAU_mint  \n",
       "1           Piece Of Your Heart_MEDUZA_mint  \n",
       "2  No Sleep (feat. Bonn)_Martin Garrix_mint  \n",
       "3                           SOS_Avicii_mint  \n",
       "4           Changa - Blanke Remix_PNAU_mint  \n",
       "\n",
       "[5 rows x 26 columns]"
      ]
     },
     "execution_count": 9,
     "metadata": {},
     "output_type": "execute_result"
    }
   ],
   "source": [
    "df.head()"
   ]
  },
  {
   "cell_type": "markdown",
   "metadata": {},
   "source": [
    "### Creating Final Dataframe"
   ]
  },
  {
   "cell_type": "code",
   "execution_count": 10,
   "metadata": {},
   "outputs": [],
   "source": [
    "final_cols = ['track_id', 'track_popularity', 'track_artist_playlist',\n",
    "       'artist_popularity', 'artist_genres',\n",
    "       'danceability', 'energy', 'key', 'loudness', 'mode', 'speechiness',\n",
    "       'acousticness', 'instrumentalness', 'liveness', 'valence', 'tempo']"
   ]
  },
  {
   "cell_type": "code",
   "execution_count": 11,
   "metadata": {},
   "outputs": [],
   "source": [
    "df_final = df[final_cols]"
   ]
  },
  {
   "cell_type": "code",
   "execution_count": 12,
   "metadata": {},
   "outputs": [
    {
     "data": {
      "text/html": [
       "<div>\n",
       "<style scoped>\n",
       "    .dataframe tbody tr th:only-of-type {\n",
       "        vertical-align: middle;\n",
       "    }\n",
       "\n",
       "    .dataframe tbody tr th {\n",
       "        vertical-align: top;\n",
       "    }\n",
       "\n",
       "    .dataframe thead th {\n",
       "        text-align: right;\n",
       "    }\n",
       "</style>\n",
       "<table border=\"1\" class=\"dataframe\">\n",
       "  <thead>\n",
       "    <tr style=\"text-align: right;\">\n",
       "      <th></th>\n",
       "      <th>track_id</th>\n",
       "      <th>track_popularity</th>\n",
       "      <th>track_artist_playlist</th>\n",
       "      <th>artist_popularity</th>\n",
       "      <th>artist_genres</th>\n",
       "      <th>danceability</th>\n",
       "      <th>energy</th>\n",
       "      <th>key</th>\n",
       "      <th>loudness</th>\n",
       "      <th>mode</th>\n",
       "      <th>speechiness</th>\n",
       "      <th>acousticness</th>\n",
       "      <th>instrumentalness</th>\n",
       "      <th>liveness</th>\n",
       "      <th>valence</th>\n",
       "      <th>tempo</th>\n",
       "    </tr>\n",
       "  </thead>\n",
       "  <tbody>\n",
       "    <tr>\n",
       "      <th>0</th>\n",
       "      <td>7DQ5CZjAQdhgDgdnSXxJ7Z</td>\n",
       "      <td>58.0</td>\n",
       "      <td>Solid Gold_PNAU_mint</td>\n",
       "      <td>65</td>\n",
       "      <td>['alternative dance', 'aussietronica', 'austra...</td>\n",
       "      <td>0.567</td>\n",
       "      <td>0.946</td>\n",
       "      <td>5.0</td>\n",
       "      <td>-2.245</td>\n",
       "      <td>0.0</td>\n",
       "      <td>0.0541</td>\n",
       "      <td>0.0978</td>\n",
       "      <td>0.000001</td>\n",
       "      <td>0.0836</td>\n",
       "      <td>0.2950</td>\n",
       "      <td>104.983</td>\n",
       "    </tr>\n",
       "    <tr>\n",
       "      <th>1</th>\n",
       "      <td>5p1ex0pXv6jSPJ6QbumQpD</td>\n",
       "      <td>87.0</td>\n",
       "      <td>Piece Of Your Heart_MEDUZA_mint</td>\n",
       "      <td>74</td>\n",
       "      <td>[]</td>\n",
       "      <td>0.677</td>\n",
       "      <td>0.744</td>\n",
       "      <td>10.0</td>\n",
       "      <td>-6.806</td>\n",
       "      <td>0.0</td>\n",
       "      <td>0.0295</td>\n",
       "      <td>0.0404</td>\n",
       "      <td>0.000160</td>\n",
       "      <td>0.0740</td>\n",
       "      <td>0.6310</td>\n",
       "      <td>124.080</td>\n",
       "    </tr>\n",
       "    <tr>\n",
       "      <th>2</th>\n",
       "      <td>1ahVFh0ViDZr8LvkEVlq3B</td>\n",
       "      <td>84.0</td>\n",
       "      <td>No Sleep (feat. Bonn)_Martin Garrix_mint</td>\n",
       "      <td>86</td>\n",
       "      <td>['big room', 'edm', 'pop', 'progressive house'...</td>\n",
       "      <td>0.440</td>\n",
       "      <td>0.635</td>\n",
       "      <td>11.0</td>\n",
       "      <td>-6.385</td>\n",
       "      <td>1.0</td>\n",
       "      <td>0.0326</td>\n",
       "      <td>0.1290</td>\n",
       "      <td>0.000000</td>\n",
       "      <td>0.1210</td>\n",
       "      <td>0.3270</td>\n",
       "      <td>128.133</td>\n",
       "    </tr>\n",
       "    <tr>\n",
       "      <th>3</th>\n",
       "      <td>6nDKrPlXdpomGBgAlO7UdP</td>\n",
       "      <td>95.0</td>\n",
       "      <td>SOS_Avicii_mint</td>\n",
       "      <td>89</td>\n",
       "      <td>['big room', 'dance pop', 'edm', 'pop']</td>\n",
       "      <td>0.802</td>\n",
       "      <td>0.645</td>\n",
       "      <td>5.0</td>\n",
       "      <td>-6.181</td>\n",
       "      <td>0.0</td>\n",
       "      <td>0.0715</td>\n",
       "      <td>0.2720</td>\n",
       "      <td>0.000000</td>\n",
       "      <td>0.1190</td>\n",
       "      <td>0.3760</td>\n",
       "      <td>100.001</td>\n",
       "    </tr>\n",
       "    <tr>\n",
       "      <th>4</th>\n",
       "      <td>5TL9e2xgtvJFtNCBsq1CgX</td>\n",
       "      <td>59.0</td>\n",
       "      <td>Changa - Blanke Remix_PNAU_mint</td>\n",
       "      <td>65</td>\n",
       "      <td>['alternative dance', 'aussietronica', 'austra...</td>\n",
       "      <td>0.530</td>\n",
       "      <td>0.789</td>\n",
       "      <td>9.0</td>\n",
       "      <td>-5.546</td>\n",
       "      <td>1.0</td>\n",
       "      <td>0.0431</td>\n",
       "      <td>0.0330</td>\n",
       "      <td>0.119000</td>\n",
       "      <td>0.2720</td>\n",
       "      <td>0.0654</td>\n",
       "      <td>110.086</td>\n",
       "    </tr>\n",
       "  </tbody>\n",
       "</table>\n",
       "</div>"
      ],
      "text/plain": [
       "                 track_id  track_popularity  \\\n",
       "0  7DQ5CZjAQdhgDgdnSXxJ7Z              58.0   \n",
       "1  5p1ex0pXv6jSPJ6QbumQpD              87.0   \n",
       "2  1ahVFh0ViDZr8LvkEVlq3B              84.0   \n",
       "3  6nDKrPlXdpomGBgAlO7UdP              95.0   \n",
       "4  5TL9e2xgtvJFtNCBsq1CgX              59.0   \n",
       "\n",
       "                      track_artist_playlist  artist_popularity  \\\n",
       "0                      Solid Gold_PNAU_mint                 65   \n",
       "1           Piece Of Your Heart_MEDUZA_mint                 74   \n",
       "2  No Sleep (feat. Bonn)_Martin Garrix_mint                 86   \n",
       "3                           SOS_Avicii_mint                 89   \n",
       "4           Changa - Blanke Remix_PNAU_mint                 65   \n",
       "\n",
       "                                       artist_genres  danceability  energy  \\\n",
       "0  ['alternative dance', 'aussietronica', 'austra...         0.567   0.946   \n",
       "1                                                 []         0.677   0.744   \n",
       "2  ['big room', 'edm', 'pop', 'progressive house'...         0.440   0.635   \n",
       "3            ['big room', 'dance pop', 'edm', 'pop']         0.802   0.645   \n",
       "4  ['alternative dance', 'aussietronica', 'austra...         0.530   0.789   \n",
       "\n",
       "    key  loudness  mode  speechiness  acousticness  instrumentalness  \\\n",
       "0   5.0    -2.245   0.0       0.0541        0.0978          0.000001   \n",
       "1  10.0    -6.806   0.0       0.0295        0.0404          0.000160   \n",
       "2  11.0    -6.385   1.0       0.0326        0.1290          0.000000   \n",
       "3   5.0    -6.181   0.0       0.0715        0.2720          0.000000   \n",
       "4   9.0    -5.546   1.0       0.0431        0.0330          0.119000   \n",
       "\n",
       "   liveness  valence    tempo  \n",
       "0    0.0836   0.2950  104.983  \n",
       "1    0.0740   0.6310  124.080  \n",
       "2    0.1210   0.3270  128.133  \n",
       "3    0.1190   0.3760  100.001  \n",
       "4    0.2720   0.0654  110.086  "
      ]
     },
     "execution_count": 12,
     "metadata": {},
     "output_type": "execute_result"
    }
   ],
   "source": [
    "df_final.head()"
   ]
  },
  {
   "cell_type": "markdown",
   "metadata": {},
   "source": [
    "### Set track_id to Index"
   ]
  },
  {
   "cell_type": "markdown",
   "metadata": {},
   "source": [
    "As track_id is the unique identifier in our dataframe, we'll set this feature as the index"
   ]
  },
  {
   "cell_type": "code",
   "execution_count": 13,
   "metadata": {},
   "outputs": [
    {
     "data": {
      "text/html": [
       "<div>\n",
       "<style scoped>\n",
       "    .dataframe tbody tr th:only-of-type {\n",
       "        vertical-align: middle;\n",
       "    }\n",
       "\n",
       "    .dataframe tbody tr th {\n",
       "        vertical-align: top;\n",
       "    }\n",
       "\n",
       "    .dataframe thead th {\n",
       "        text-align: right;\n",
       "    }\n",
       "</style>\n",
       "<table border=\"1\" class=\"dataframe\">\n",
       "  <thead>\n",
       "    <tr style=\"text-align: right;\">\n",
       "      <th></th>\n",
       "      <th>track_popularity</th>\n",
       "      <th>track_artist_playlist</th>\n",
       "      <th>artist_popularity</th>\n",
       "      <th>artist_genres</th>\n",
       "      <th>danceability</th>\n",
       "      <th>energy</th>\n",
       "      <th>key</th>\n",
       "      <th>loudness</th>\n",
       "      <th>mode</th>\n",
       "      <th>speechiness</th>\n",
       "      <th>acousticness</th>\n",
       "      <th>instrumentalness</th>\n",
       "      <th>liveness</th>\n",
       "      <th>valence</th>\n",
       "      <th>tempo</th>\n",
       "    </tr>\n",
       "    <tr>\n",
       "      <th>track_id</th>\n",
       "      <th></th>\n",
       "      <th></th>\n",
       "      <th></th>\n",
       "      <th></th>\n",
       "      <th></th>\n",
       "      <th></th>\n",
       "      <th></th>\n",
       "      <th></th>\n",
       "      <th></th>\n",
       "      <th></th>\n",
       "      <th></th>\n",
       "      <th></th>\n",
       "      <th></th>\n",
       "      <th></th>\n",
       "      <th></th>\n",
       "    </tr>\n",
       "  </thead>\n",
       "  <tbody>\n",
       "    <tr>\n",
       "      <th>7DQ5CZjAQdhgDgdnSXxJ7Z</th>\n",
       "      <td>58.0</td>\n",
       "      <td>Solid Gold_PNAU_mint</td>\n",
       "      <td>65</td>\n",
       "      <td>['alternative dance', 'aussietronica', 'austra...</td>\n",
       "      <td>0.567</td>\n",
       "      <td>0.946</td>\n",
       "      <td>5.0</td>\n",
       "      <td>-2.245</td>\n",
       "      <td>0.0</td>\n",
       "      <td>0.0541</td>\n",
       "      <td>0.0978</td>\n",
       "      <td>0.000001</td>\n",
       "      <td>0.0836</td>\n",
       "      <td>0.2950</td>\n",
       "      <td>104.983</td>\n",
       "    </tr>\n",
       "    <tr>\n",
       "      <th>5p1ex0pXv6jSPJ6QbumQpD</th>\n",
       "      <td>87.0</td>\n",
       "      <td>Piece Of Your Heart_MEDUZA_mint</td>\n",
       "      <td>74</td>\n",
       "      <td>[]</td>\n",
       "      <td>0.677</td>\n",
       "      <td>0.744</td>\n",
       "      <td>10.0</td>\n",
       "      <td>-6.806</td>\n",
       "      <td>0.0</td>\n",
       "      <td>0.0295</td>\n",
       "      <td>0.0404</td>\n",
       "      <td>0.000160</td>\n",
       "      <td>0.0740</td>\n",
       "      <td>0.6310</td>\n",
       "      <td>124.080</td>\n",
       "    </tr>\n",
       "    <tr>\n",
       "      <th>1ahVFh0ViDZr8LvkEVlq3B</th>\n",
       "      <td>84.0</td>\n",
       "      <td>No Sleep (feat. Bonn)_Martin Garrix_mint</td>\n",
       "      <td>86</td>\n",
       "      <td>['big room', 'edm', 'pop', 'progressive house'...</td>\n",
       "      <td>0.440</td>\n",
       "      <td>0.635</td>\n",
       "      <td>11.0</td>\n",
       "      <td>-6.385</td>\n",
       "      <td>1.0</td>\n",
       "      <td>0.0326</td>\n",
       "      <td>0.1290</td>\n",
       "      <td>0.000000</td>\n",
       "      <td>0.1210</td>\n",
       "      <td>0.3270</td>\n",
       "      <td>128.133</td>\n",
       "    </tr>\n",
       "    <tr>\n",
       "      <th>6nDKrPlXdpomGBgAlO7UdP</th>\n",
       "      <td>95.0</td>\n",
       "      <td>SOS_Avicii_mint</td>\n",
       "      <td>89</td>\n",
       "      <td>['big room', 'dance pop', 'edm', 'pop']</td>\n",
       "      <td>0.802</td>\n",
       "      <td>0.645</td>\n",
       "      <td>5.0</td>\n",
       "      <td>-6.181</td>\n",
       "      <td>0.0</td>\n",
       "      <td>0.0715</td>\n",
       "      <td>0.2720</td>\n",
       "      <td>0.000000</td>\n",
       "      <td>0.1190</td>\n",
       "      <td>0.3760</td>\n",
       "      <td>100.001</td>\n",
       "    </tr>\n",
       "    <tr>\n",
       "      <th>5TL9e2xgtvJFtNCBsq1CgX</th>\n",
       "      <td>59.0</td>\n",
       "      <td>Changa - Blanke Remix_PNAU_mint</td>\n",
       "      <td>65</td>\n",
       "      <td>['alternative dance', 'aussietronica', 'austra...</td>\n",
       "      <td>0.530</td>\n",
       "      <td>0.789</td>\n",
       "      <td>9.0</td>\n",
       "      <td>-5.546</td>\n",
       "      <td>1.0</td>\n",
       "      <td>0.0431</td>\n",
       "      <td>0.0330</td>\n",
       "      <td>0.119000</td>\n",
       "      <td>0.2720</td>\n",
       "      <td>0.0654</td>\n",
       "      <td>110.086</td>\n",
       "    </tr>\n",
       "  </tbody>\n",
       "</table>\n",
       "</div>"
      ],
      "text/plain": [
       "                        track_popularity  \\\n",
       "track_id                                   \n",
       "7DQ5CZjAQdhgDgdnSXxJ7Z              58.0   \n",
       "5p1ex0pXv6jSPJ6QbumQpD              87.0   \n",
       "1ahVFh0ViDZr8LvkEVlq3B              84.0   \n",
       "6nDKrPlXdpomGBgAlO7UdP              95.0   \n",
       "5TL9e2xgtvJFtNCBsq1CgX              59.0   \n",
       "\n",
       "                                           track_artist_playlist  \\\n",
       "track_id                                                           \n",
       "7DQ5CZjAQdhgDgdnSXxJ7Z                      Solid Gold_PNAU_mint   \n",
       "5p1ex0pXv6jSPJ6QbumQpD           Piece Of Your Heart_MEDUZA_mint   \n",
       "1ahVFh0ViDZr8LvkEVlq3B  No Sleep (feat. Bonn)_Martin Garrix_mint   \n",
       "6nDKrPlXdpomGBgAlO7UdP                           SOS_Avicii_mint   \n",
       "5TL9e2xgtvJFtNCBsq1CgX           Changa - Blanke Remix_PNAU_mint   \n",
       "\n",
       "                        artist_popularity  \\\n",
       "track_id                                    \n",
       "7DQ5CZjAQdhgDgdnSXxJ7Z                 65   \n",
       "5p1ex0pXv6jSPJ6QbumQpD                 74   \n",
       "1ahVFh0ViDZr8LvkEVlq3B                 86   \n",
       "6nDKrPlXdpomGBgAlO7UdP                 89   \n",
       "5TL9e2xgtvJFtNCBsq1CgX                 65   \n",
       "\n",
       "                                                            artist_genres  \\\n",
       "track_id                                                                    \n",
       "7DQ5CZjAQdhgDgdnSXxJ7Z  ['alternative dance', 'aussietronica', 'austra...   \n",
       "5p1ex0pXv6jSPJ6QbumQpD                                                 []   \n",
       "1ahVFh0ViDZr8LvkEVlq3B  ['big room', 'edm', 'pop', 'progressive house'...   \n",
       "6nDKrPlXdpomGBgAlO7UdP            ['big room', 'dance pop', 'edm', 'pop']   \n",
       "5TL9e2xgtvJFtNCBsq1CgX  ['alternative dance', 'aussietronica', 'austra...   \n",
       "\n",
       "                        danceability  energy   key  loudness  mode  \\\n",
       "track_id                                                             \n",
       "7DQ5CZjAQdhgDgdnSXxJ7Z         0.567   0.946   5.0    -2.245   0.0   \n",
       "5p1ex0pXv6jSPJ6QbumQpD         0.677   0.744  10.0    -6.806   0.0   \n",
       "1ahVFh0ViDZr8LvkEVlq3B         0.440   0.635  11.0    -6.385   1.0   \n",
       "6nDKrPlXdpomGBgAlO7UdP         0.802   0.645   5.0    -6.181   0.0   \n",
       "5TL9e2xgtvJFtNCBsq1CgX         0.530   0.789   9.0    -5.546   1.0   \n",
       "\n",
       "                        speechiness  acousticness  instrumentalness  liveness  \\\n",
       "track_id                                                                        \n",
       "7DQ5CZjAQdhgDgdnSXxJ7Z       0.0541        0.0978          0.000001    0.0836   \n",
       "5p1ex0pXv6jSPJ6QbumQpD       0.0295        0.0404          0.000160    0.0740   \n",
       "1ahVFh0ViDZr8LvkEVlq3B       0.0326        0.1290          0.000000    0.1210   \n",
       "6nDKrPlXdpomGBgAlO7UdP       0.0715        0.2720          0.000000    0.1190   \n",
       "5TL9e2xgtvJFtNCBsq1CgX       0.0431        0.0330          0.119000    0.2720   \n",
       "\n",
       "                        valence    tempo  \n",
       "track_id                                  \n",
       "7DQ5CZjAQdhgDgdnSXxJ7Z   0.2950  104.983  \n",
       "5p1ex0pXv6jSPJ6QbumQpD   0.6310  124.080  \n",
       "1ahVFh0ViDZr8LvkEVlq3B   0.3270  128.133  \n",
       "6nDKrPlXdpomGBgAlO7UdP   0.3760  100.001  \n",
       "5TL9e2xgtvJFtNCBsq1CgX   0.0654  110.086  "
      ]
     },
     "execution_count": 13,
     "metadata": {},
     "output_type": "execute_result"
    }
   ],
   "source": [
    "df_final.set_index('track_id', inplace=True)\n",
    "df_final.head()"
   ]
  },
  {
   "cell_type": "markdown",
   "metadata": {},
   "source": [
    "### Checking Null Values"
   ]
  },
  {
   "cell_type": "code",
   "execution_count": 14,
   "metadata": {},
   "outputs": [
    {
     "data": {
      "text/plain": [
       "tempo                    5830\n",
       "valence                  5830\n",
       "liveness                 5830\n",
       "instrumentalness         5830\n",
       "acousticness             5830\n",
       "speechiness              5830\n",
       "mode                     5830\n",
       "loudness                 5830\n",
       "key                      5830\n",
       "energy                   5830\n",
       "danceability             5830\n",
       "track_artist_playlist       5\n",
       "artist_genres               0\n",
       "artist_popularity           0\n",
       "track_popularity            0\n",
       "dtype: int64"
      ]
     },
     "execution_count": 14,
     "metadata": {},
     "output_type": "execute_result"
    }
   ],
   "source": [
    "df_final.isnull().sum().sort_values(ascending = False)"
   ]
  },
  {
   "cell_type": "markdown",
   "metadata": {},
   "source": [
    "We that we indeed have several songs where we're missing audio feature data. This is somewhat expected as Spotify doesn't make audio features available for all songs. Rather than attempting to impute these values, we'll drop these rows"
   ]
  },
  {
   "cell_type": "code",
   "execution_count": 15,
   "metadata": {},
   "outputs": [
    {
     "name": "stderr",
     "output_type": "stream",
     "text": [
      "/Users/davidbickham/anaconda3/lib/python3.7/site-packages/ipykernel_launcher.py:1: SettingWithCopyWarning: \n",
      "A value is trying to be set on a copy of a slice from a DataFrame\n",
      "\n",
      "See the caveats in the documentation: http://pandas.pydata.org/pandas-docs/stable/indexing.html#indexing-view-versus-copy\n",
      "  \"\"\"Entry point for launching an IPython kernel.\n"
     ]
    },
    {
     "data": {
      "text/plain": [
       "(31194, 15)"
      ]
     },
     "execution_count": 15,
     "metadata": {},
     "output_type": "execute_result"
    }
   ],
   "source": [
    "df_final.dropna(inplace=True)\n",
    "df_final.shape"
   ]
  },
  {
   "cell_type": "markdown",
   "metadata": {},
   "source": [
    "We know have 32K tracks in our song library"
   ]
  },
  {
   "cell_type": "markdown",
   "metadata": {},
   "source": [
    "## One Hot Encoding Artist Genres List"
   ]
  },
  {
   "cell_type": "markdown",
   "metadata": {},
   "source": [
    "First we'll remove any tracks where the artist_genre list is empty"
   ]
  },
  {
   "cell_type": "code",
   "execution_count": 16,
   "metadata": {},
   "outputs": [],
   "source": [
    "index_missing_genres = df_final[df_final.artist_genres == '[]'].index"
   ]
  },
  {
   "cell_type": "code",
   "execution_count": 17,
   "metadata": {},
   "outputs": [
    {
     "name": "stderr",
     "output_type": "stream",
     "text": [
      "/Users/davidbickham/anaconda3/lib/python3.7/site-packages/pandas/core/frame.py:3940: SettingWithCopyWarning: \n",
      "A value is trying to be set on a copy of a slice from a DataFrame\n",
      "\n",
      "See the caveats in the documentation: http://pandas.pydata.org/pandas-docs/stable/indexing.html#indexing-view-versus-copy\n",
      "  errors=errors)\n"
     ]
    },
    {
     "data": {
      "text/plain": [
       "(26887, 15)"
      ]
     },
     "execution_count": 17,
     "metadata": {},
     "output_type": "execute_result"
    }
   ],
   "source": [
    "df_final.drop(index = index_missing_genres, axis = 0, inplace = True)\n",
    "df_final.shape"
   ]
  },
  {
   "cell_type": "markdown",
   "metadata": {},
   "source": [
    "After dropping tracks where the artist genres list is missing, we have 27K songs in the library"
   ]
  },
  {
   "cell_type": "markdown",
   "metadata": {},
   "source": [
    "Now we'll need to convert our genre list back to a Python list, currently it is a string containing a list"
   ]
  },
  {
   "cell_type": "code",
   "execution_count": 18,
   "metadata": {},
   "outputs": [
    {
     "name": "stderr",
     "output_type": "stream",
     "text": [
      "/Users/davidbickham/anaconda3/lib/python3.7/site-packages/ipykernel_launcher.py:3: SettingWithCopyWarning: \n",
      "A value is trying to be set on a copy of a slice from a DataFrame.\n",
      "Try using .loc[row_indexer,col_indexer] = value instead\n",
      "\n",
      "See the caveats in the documentation: http://pandas.pydata.org/pandas-docs/stable/indexing.html#indexing-view-versus-copy\n",
      "  This is separate from the ipykernel package so we can avoid doing imports until\n"
     ]
    }
   ],
   "source": [
    "import ast\n",
    "\n",
    "df_final['artist_genres_list'] = df_final['artist_genres'].map(lambda x: ast.literal_eval(x))"
   ]
  },
  {
   "cell_type": "markdown",
   "metadata": {},
   "source": [
    "Dropping original `artist_genres`"
   ]
  },
  {
   "cell_type": "code",
   "execution_count": 19,
   "metadata": {},
   "outputs": [],
   "source": [
    "df_final_genres = df_final.drop(['artist_genres','track_artist_playlist'], axis = 1)"
   ]
  },
  {
   "cell_type": "code",
   "execution_count": 20,
   "metadata": {},
   "outputs": [
    {
     "data": {
      "text/html": [
       "<div>\n",
       "<style scoped>\n",
       "    .dataframe tbody tr th:only-of-type {\n",
       "        vertical-align: middle;\n",
       "    }\n",
       "\n",
       "    .dataframe tbody tr th {\n",
       "        vertical-align: top;\n",
       "    }\n",
       "\n",
       "    .dataframe thead th {\n",
       "        text-align: right;\n",
       "    }\n",
       "</style>\n",
       "<table border=\"1\" class=\"dataframe\">\n",
       "  <thead>\n",
       "    <tr style=\"text-align: right;\">\n",
       "      <th></th>\n",
       "      <th>track_popularity</th>\n",
       "      <th>artist_popularity</th>\n",
       "      <th>danceability</th>\n",
       "      <th>energy</th>\n",
       "      <th>key</th>\n",
       "      <th>loudness</th>\n",
       "      <th>mode</th>\n",
       "      <th>speechiness</th>\n",
       "      <th>acousticness</th>\n",
       "      <th>instrumentalness</th>\n",
       "      <th>liveness</th>\n",
       "      <th>valence</th>\n",
       "      <th>tempo</th>\n",
       "      <th>artist_genres_list</th>\n",
       "    </tr>\n",
       "    <tr>\n",
       "      <th>track_id</th>\n",
       "      <th></th>\n",
       "      <th></th>\n",
       "      <th></th>\n",
       "      <th></th>\n",
       "      <th></th>\n",
       "      <th></th>\n",
       "      <th></th>\n",
       "      <th></th>\n",
       "      <th></th>\n",
       "      <th></th>\n",
       "      <th></th>\n",
       "      <th></th>\n",
       "      <th></th>\n",
       "      <th></th>\n",
       "    </tr>\n",
       "  </thead>\n",
       "  <tbody>\n",
       "    <tr>\n",
       "      <th>7DQ5CZjAQdhgDgdnSXxJ7Z</th>\n",
       "      <td>58.0</td>\n",
       "      <td>65</td>\n",
       "      <td>0.567</td>\n",
       "      <td>0.946</td>\n",
       "      <td>5.0</td>\n",
       "      <td>-2.245</td>\n",
       "      <td>0.0</td>\n",
       "      <td>0.0541</td>\n",
       "      <td>0.097800</td>\n",
       "      <td>0.000001</td>\n",
       "      <td>0.0836</td>\n",
       "      <td>0.2950</td>\n",
       "      <td>104.983</td>\n",
       "      <td>[alternative dance, aussietronica, australian ...</td>\n",
       "    </tr>\n",
       "    <tr>\n",
       "      <th>1ahVFh0ViDZr8LvkEVlq3B</th>\n",
       "      <td>84.0</td>\n",
       "      <td>86</td>\n",
       "      <td>0.440</td>\n",
       "      <td>0.635</td>\n",
       "      <td>11.0</td>\n",
       "      <td>-6.385</td>\n",
       "      <td>1.0</td>\n",
       "      <td>0.0326</td>\n",
       "      <td>0.129000</td>\n",
       "      <td>0.000000</td>\n",
       "      <td>0.1210</td>\n",
       "      <td>0.3270</td>\n",
       "      <td>128.133</td>\n",
       "      <td>[big room, edm, pop, progressive house, tropic...</td>\n",
       "    </tr>\n",
       "    <tr>\n",
       "      <th>6nDKrPlXdpomGBgAlO7UdP</th>\n",
       "      <td>95.0</td>\n",
       "      <td>89</td>\n",
       "      <td>0.802</td>\n",
       "      <td>0.645</td>\n",
       "      <td>5.0</td>\n",
       "      <td>-6.181</td>\n",
       "      <td>0.0</td>\n",
       "      <td>0.0715</td>\n",
       "      <td>0.272000</td>\n",
       "      <td>0.000000</td>\n",
       "      <td>0.1190</td>\n",
       "      <td>0.3760</td>\n",
       "      <td>100.001</td>\n",
       "      <td>[big room, dance pop, edm, pop]</td>\n",
       "    </tr>\n",
       "    <tr>\n",
       "      <th>5TL9e2xgtvJFtNCBsq1CgX</th>\n",
       "      <td>59.0</td>\n",
       "      <td>65</td>\n",
       "      <td>0.530</td>\n",
       "      <td>0.789</td>\n",
       "      <td>9.0</td>\n",
       "      <td>-5.546</td>\n",
       "      <td>1.0</td>\n",
       "      <td>0.0431</td>\n",
       "      <td>0.033000</td>\n",
       "      <td>0.119000</td>\n",
       "      <td>0.2720</td>\n",
       "      <td>0.0654</td>\n",
       "      <td>110.086</td>\n",
       "      <td>[alternative dance, aussietronica, australian ...</td>\n",
       "    </tr>\n",
       "    <tr>\n",
       "      <th>2UkF0EWfh0T90ScJzGqnD1</th>\n",
       "      <td>71.0</td>\n",
       "      <td>65</td>\n",
       "      <td>0.427</td>\n",
       "      <td>0.916</td>\n",
       "      <td>4.0</td>\n",
       "      <td>-3.716</td>\n",
       "      <td>0.0</td>\n",
       "      <td>0.1160</td>\n",
       "      <td>0.000156</td>\n",
       "      <td>0.000005</td>\n",
       "      <td>0.1540</td>\n",
       "      <td>0.6880</td>\n",
       "      <td>123.539</td>\n",
       "      <td>[deep groove house, house, tropical house]</td>\n",
       "    </tr>\n",
       "  </tbody>\n",
       "</table>\n",
       "</div>"
      ],
      "text/plain": [
       "                        track_popularity  artist_popularity  danceability  \\\n",
       "track_id                                                                    \n",
       "7DQ5CZjAQdhgDgdnSXxJ7Z              58.0                 65         0.567   \n",
       "1ahVFh0ViDZr8LvkEVlq3B              84.0                 86         0.440   \n",
       "6nDKrPlXdpomGBgAlO7UdP              95.0                 89         0.802   \n",
       "5TL9e2xgtvJFtNCBsq1CgX              59.0                 65         0.530   \n",
       "2UkF0EWfh0T90ScJzGqnD1              71.0                 65         0.427   \n",
       "\n",
       "                        energy   key  loudness  mode  speechiness  \\\n",
       "track_id                                                            \n",
       "7DQ5CZjAQdhgDgdnSXxJ7Z   0.946   5.0    -2.245   0.0       0.0541   \n",
       "1ahVFh0ViDZr8LvkEVlq3B   0.635  11.0    -6.385   1.0       0.0326   \n",
       "6nDKrPlXdpomGBgAlO7UdP   0.645   5.0    -6.181   0.0       0.0715   \n",
       "5TL9e2xgtvJFtNCBsq1CgX   0.789   9.0    -5.546   1.0       0.0431   \n",
       "2UkF0EWfh0T90ScJzGqnD1   0.916   4.0    -3.716   0.0       0.1160   \n",
       "\n",
       "                        acousticness  instrumentalness  liveness  valence  \\\n",
       "track_id                                                                    \n",
       "7DQ5CZjAQdhgDgdnSXxJ7Z      0.097800          0.000001    0.0836   0.2950   \n",
       "1ahVFh0ViDZr8LvkEVlq3B      0.129000          0.000000    0.1210   0.3270   \n",
       "6nDKrPlXdpomGBgAlO7UdP      0.272000          0.000000    0.1190   0.3760   \n",
       "5TL9e2xgtvJFtNCBsq1CgX      0.033000          0.119000    0.2720   0.0654   \n",
       "2UkF0EWfh0T90ScJzGqnD1      0.000156          0.000005    0.1540   0.6880   \n",
       "\n",
       "                          tempo  \\\n",
       "track_id                          \n",
       "7DQ5CZjAQdhgDgdnSXxJ7Z  104.983   \n",
       "1ahVFh0ViDZr8LvkEVlq3B  128.133   \n",
       "6nDKrPlXdpomGBgAlO7UdP  100.001   \n",
       "5TL9e2xgtvJFtNCBsq1CgX  110.086   \n",
       "2UkF0EWfh0T90ScJzGqnD1  123.539   \n",
       "\n",
       "                                                       artist_genres_list  \n",
       "track_id                                                                   \n",
       "7DQ5CZjAQdhgDgdnSXxJ7Z  [alternative dance, aussietronica, australian ...  \n",
       "1ahVFh0ViDZr8LvkEVlq3B  [big room, edm, pop, progressive house, tropic...  \n",
       "6nDKrPlXdpomGBgAlO7UdP                    [big room, dance pop, edm, pop]  \n",
       "5TL9e2xgtvJFtNCBsq1CgX  [alternative dance, aussietronica, australian ...  \n",
       "2UkF0EWfh0T90ScJzGqnD1         [deep groove house, house, tropical house]  "
      ]
     },
     "execution_count": 20,
     "metadata": {},
     "output_type": "execute_result"
    }
   ],
   "source": [
    "df_final_genres.head()"
   ]
  },
  {
   "cell_type": "markdown",
   "metadata": {},
   "source": [
    "### One Hot Encoding with MultiLabelBinarizer"
   ]
  },
  {
   "cell_type": "markdown",
   "metadata": {},
   "source": [
    "The Multilabel Binarizer will iterate through our list and allow us to one hot encode the items in our newly created `artist_genres_list`"
   ]
  },
  {
   "cell_type": "code",
   "execution_count": 21,
   "metadata": {},
   "outputs": [],
   "source": [
    "from sklearn.preprocessing import MultiLabelBinarizer\n",
    "\n",
    "mlb = MultiLabelBinarizer()\n",
    "df_final_genres_pop = df_final_genres.join(pd.DataFrame(mlb.fit_transform(df_final_genres.pop('artist_genres_list')),\n",
    "                          columns=mlb.classes_,\n",
    "                          index=df_final_genres.index))"
   ]
  },
  {
   "cell_type": "code",
   "execution_count": 22,
   "metadata": {},
   "outputs": [
    {
     "data": {
      "text/plain": [
       "(26887, 13)"
      ]
     },
     "execution_count": 22,
     "metadata": {},
     "output_type": "execute_result"
    }
   ],
   "source": [
    "df_final_genres.shape"
   ]
  },
  {
   "cell_type": "markdown",
   "metadata": {},
   "source": [
    "The resulting data frame now has 1,922 features including all one hot encoded genres and the track/artist meta data"
   ]
  },
  {
   "cell_type": "markdown",
   "metadata": {},
   "source": [
    "## Singular Value Decomposition"
   ]
  },
  {
   "cell_type": "markdown",
   "metadata": {},
   "source": [
    "Singular Value Decomposition (SVD) is a dimensionality reduction technique in linear algebra that factorizes any matrix M into the product of 3 separate matrices. The ultimate goal being to reduce a matrix to its constituent parts in order to make certain subsequent matrix calculations simpler.\n",
    "\n",
    "In this analysis, we'll use SVD to both reduce the dimensionalty of our track dataframe and as a means of analyzing commonly co-occurring artist genres to infor future recommendations."
   ]
  },
  {
   "cell_type": "markdown",
   "metadata": {},
   "source": [
    "### Scaling the Data"
   ]
  },
  {
   "cell_type": "markdown",
   "metadata": {},
   "source": [
    "Scaling the data means that we will transform the data so that each feature will have a mean of 0 and a standard deviation of 1. As many of our features have quite different magnitudes, we'll scale our data prior to the SVD transformation"
   ]
  },
  {
   "cell_type": "code",
   "execution_count": 23,
   "metadata": {},
   "outputs": [
    {
     "name": "stderr",
     "output_type": "stream",
     "text": [
      "/Users/davidbickham/anaconda3/lib/python3.7/site-packages/sklearn/preprocessing/data.py:625: DataConversionWarning: Data with input dtype int64, float64 were all converted to float64 by StandardScaler.\n",
      "  return self.partial_fit(X, y)\n",
      "/Users/davidbickham/anaconda3/lib/python3.7/site-packages/sklearn/base.py:462: DataConversionWarning: Data with input dtype int64, float64 were all converted to float64 by StandardScaler.\n",
      "  return self.fit(X, **fit_params).transform(X)\n"
     ]
    }
   ],
   "source": [
    "ss = StandardScaler()\n",
    "df_final_genres_pop_ss = ss.fit_transform(df_final_genres_pop)"
   ]
  },
  {
   "cell_type": "markdown",
   "metadata": {},
   "source": [
    "### Creating SVD Matrix"
   ]
  },
  {
   "cell_type": "markdown",
   "metadata": {},
   "source": [
    "The resulting matrix will represent our data in a lower dimensional space of n_components (which we'll specify). We'll start by computing a matrix of 100 components"
   ]
  },
  {
   "cell_type": "code",
   "execution_count": 24,
   "metadata": {},
   "outputs": [
    {
     "data": {
      "text/plain": [
       "(26887, 100)"
      ]
     },
     "execution_count": 24,
     "metadata": {},
     "output_type": "execute_result"
    }
   ],
   "source": [
    "SVD = TruncatedSVD(n_components=100, random_state=20)\n",
    "svd_matrix = SVD.fit_transform(df_final_genres_pop_ss)\n",
    "svd_matrix.shape"
   ]
  },
  {
   "cell_type": "code",
   "execution_count": 25,
   "metadata": {},
   "outputs": [
    {
     "data": {
      "text/plain": [
       "(100, 1922)"
      ]
     },
     "execution_count": 25,
     "metadata": {},
     "output_type": "execute_result"
    }
   ],
   "source": [
    "SVD.components_.shape"
   ]
  },
  {
   "cell_type": "markdown",
   "metadata": {},
   "source": [
    "## Plotting Explained Variance"
   ]
  },
  {
   "cell_type": "markdown",
   "metadata": {},
   "source": [
    "We can visualize the amount of cumulative variance in our data that is explained by each subsequent component created via SVD"
   ]
  },
  {
   "cell_type": "code",
   "execution_count": 26,
   "metadata": {},
   "outputs": [
    {
     "data": {
      "text/plain": [
       "Text(0, 0.5, 'variance ratio')"
      ]
     },
     "execution_count": 26,
     "metadata": {},
     "output_type": "execute_result"
    },
    {
     "data": {
      "image/png": "[encoded data removed]",
      "text/plain": [
       "<Figure size 1440x1080 with 1 Axes>"
      ]
     },
     "metadata": {
      "needs_background": "light"
     },
     "output_type": "display_data"
    }
   ],
   "source": [
    "fig = plt.figure(figsize=(20,15))\n",
    "plt.bar(np.array(range(100))+1, \n",
    "        SVD.explained_variance_ratio_, \n",
    "        color='g', \n",
    "        label='explained variance')\n",
    "plt.plot(np.array(range(100))+1, \n",
    "         np.cumsum(SVD.explained_variance_ratio_), \n",
    "         label='cumulative explained variance')\n",
    "plt.legend()\n",
    "plt.xlabel('component')\n",
    "plt.ylabel('variance ratio')"
   ]
  },
  {
   "cell_type": "markdown",
   "metadata": {},
   "source": [
    "We can see that the first 100 components we've calculated explain roughly 18% of the variance in our tracks data set"
   ]
  },
  {
   "cell_type": "code",
   "execution_count": 27,
   "metadata": {},
   "outputs": [],
   "source": [
    "component_names = [\"component_\"+str(i+1) for i in range(100)]\n",
    "svd_df = pd.DataFrame(svd_matrix,\n",
    "                      columns=component_names)\n",
    "\n",
    "svd_df.insert(0, 'track_id', df_final_genres.index)\n",
    "svd_df.set_index('track_id', inplace=True)"
   ]
  },
  {
   "cell_type": "code",
   "execution_count": 28,
   "metadata": {},
   "outputs": [
    {
     "data": {
      "text/html": [
       "<div>\n",
       "<style scoped>\n",
       "    .dataframe tbody tr th:only-of-type {\n",
       "        vertical-align: middle;\n",
       "    }\n",
       "\n",
       "    .dataframe tbody tr th {\n",
       "        vertical-align: top;\n",
       "    }\n",
       "\n",
       "    .dataframe thead th {\n",
       "        text-align: right;\n",
       "    }\n",
       "</style>\n",
       "<table border=\"1\" class=\"dataframe\">\n",
       "  <thead>\n",
       "    <tr style=\"text-align: right;\">\n",
       "      <th></th>\n",
       "      <th>component_1</th>\n",
       "      <th>component_2</th>\n",
       "      <th>component_3</th>\n",
       "      <th>component_4</th>\n",
       "      <th>component_5</th>\n",
       "      <th>component_6</th>\n",
       "      <th>component_7</th>\n",
       "      <th>component_8</th>\n",
       "      <th>component_9</th>\n",
       "      <th>component_10</th>\n",
       "      <th>...</th>\n",
       "      <th>component_91</th>\n",
       "      <th>component_92</th>\n",
       "      <th>component_93</th>\n",
       "      <th>component_94</th>\n",
       "      <th>component_95</th>\n",
       "      <th>component_96</th>\n",
       "      <th>component_97</th>\n",
       "      <th>component_98</th>\n",
       "      <th>component_99</th>\n",
       "      <th>component_100</th>\n",
       "    </tr>\n",
       "    <tr>\n",
       "      <th>track_id</th>\n",
       "      <th></th>\n",
       "      <th></th>\n",
       "      <th></th>\n",
       "      <th></th>\n",
       "      <th></th>\n",
       "      <th></th>\n",
       "      <th></th>\n",
       "      <th></th>\n",
       "      <th></th>\n",
       "      <th></th>\n",
       "      <th></th>\n",
       "      <th></th>\n",
       "      <th></th>\n",
       "      <th></th>\n",
       "      <th></th>\n",
       "      <th></th>\n",
       "      <th></th>\n",
       "      <th></th>\n",
       "      <th></th>\n",
       "      <th></th>\n",
       "      <th></th>\n",
       "    </tr>\n",
       "  </thead>\n",
       "  <tbody>\n",
       "    <tr>\n",
       "      <th>7DQ5CZjAQdhgDgdnSXxJ7Z</th>\n",
       "      <td>2.035596</td>\n",
       "      <td>-1.496917</td>\n",
       "      <td>3.776113</td>\n",
       "      <td>0.263415</td>\n",
       "      <td>-0.646796</td>\n",
       "      <td>-1.530263</td>\n",
       "      <td>-1.714502</td>\n",
       "      <td>1.211791</td>\n",
       "      <td>1.207300</td>\n",
       "      <td>-1.151620</td>\n",
       "      <td>...</td>\n",
       "      <td>-0.516145</td>\n",
       "      <td>0.015262</td>\n",
       "      <td>1.043404</td>\n",
       "      <td>1.380739</td>\n",
       "      <td>-1.910107</td>\n",
       "      <td>-0.571241</td>\n",
       "      <td>-1.162905</td>\n",
       "      <td>-1.610178</td>\n",
       "      <td>0.504680</td>\n",
       "      <td>-1.392331</td>\n",
       "    </tr>\n",
       "    <tr>\n",
       "      <th>1ahVFh0ViDZr8LvkEVlq3B</th>\n",
       "      <td>-1.428473</td>\n",
       "      <td>-1.617124</td>\n",
       "      <td>1.549980</td>\n",
       "      <td>-0.010941</td>\n",
       "      <td>-0.905047</td>\n",
       "      <td>-4.546911</td>\n",
       "      <td>-1.892264</td>\n",
       "      <td>0.433461</td>\n",
       "      <td>2.388239</td>\n",
       "      <td>0.349556</td>\n",
       "      <td>...</td>\n",
       "      <td>-0.149239</td>\n",
       "      <td>-0.250272</td>\n",
       "      <td>-0.120992</td>\n",
       "      <td>0.209218</td>\n",
       "      <td>0.074228</td>\n",
       "      <td>0.148952</td>\n",
       "      <td>-0.134051</td>\n",
       "      <td>-0.102124</td>\n",
       "      <td>0.036275</td>\n",
       "      <td>0.063159</td>\n",
       "    </tr>\n",
       "    <tr>\n",
       "      <th>6nDKrPlXdpomGBgAlO7UdP</th>\n",
       "      <td>-1.389994</td>\n",
       "      <td>-1.445927</td>\n",
       "      <td>1.174145</td>\n",
       "      <td>-0.618994</td>\n",
       "      <td>-1.308264</td>\n",
       "      <td>-2.519386</td>\n",
       "      <td>-1.150983</td>\n",
       "      <td>0.243227</td>\n",
       "      <td>1.762597</td>\n",
       "      <td>0.086157</td>\n",
       "      <td>...</td>\n",
       "      <td>-0.255130</td>\n",
       "      <td>-0.237189</td>\n",
       "      <td>-0.127342</td>\n",
       "      <td>0.288158</td>\n",
       "      <td>-0.007890</td>\n",
       "      <td>0.202737</td>\n",
       "      <td>-0.247919</td>\n",
       "      <td>-0.110277</td>\n",
       "      <td>-0.074902</td>\n",
       "      <td>0.034823</td>\n",
       "    </tr>\n",
       "    <tr>\n",
       "      <th>5TL9e2xgtvJFtNCBsq1CgX</th>\n",
       "      <td>2.134044</td>\n",
       "      <td>-1.347201</td>\n",
       "      <td>3.761819</td>\n",
       "      <td>0.312336</td>\n",
       "      <td>-0.329945</td>\n",
       "      <td>-1.487206</td>\n",
       "      <td>-1.727162</td>\n",
       "      <td>1.120685</td>\n",
       "      <td>1.290717</td>\n",
       "      <td>-1.125561</td>\n",
       "      <td>...</td>\n",
       "      <td>-0.505074</td>\n",
       "      <td>0.004686</td>\n",
       "      <td>1.017220</td>\n",
       "      <td>1.358216</td>\n",
       "      <td>-1.891037</td>\n",
       "      <td>-0.570223</td>\n",
       "      <td>-1.185873</td>\n",
       "      <td>-1.621412</td>\n",
       "      <td>0.535278</td>\n",
       "      <td>-1.333220</td>\n",
       "    </tr>\n",
       "    <tr>\n",
       "      <th>2UkF0EWfh0T90ScJzGqnD1</th>\n",
       "      <td>-1.143085</td>\n",
       "      <td>-1.312320</td>\n",
       "      <td>1.019998</td>\n",
       "      <td>0.263606</td>\n",
       "      <td>-0.699662</td>\n",
       "      <td>-3.101817</td>\n",
       "      <td>-0.873020</td>\n",
       "      <td>0.383978</td>\n",
       "      <td>0.889724</td>\n",
       "      <td>0.147576</td>\n",
       "      <td>...</td>\n",
       "      <td>0.501551</td>\n",
       "      <td>-0.162140</td>\n",
       "      <td>-0.232025</td>\n",
       "      <td>-0.378920</td>\n",
       "      <td>0.494639</td>\n",
       "      <td>0.426026</td>\n",
       "      <td>-0.254900</td>\n",
       "      <td>0.102184</td>\n",
       "      <td>0.621775</td>\n",
       "      <td>-0.094697</td>\n",
       "    </tr>\n",
       "  </tbody>\n",
       "</table>\n",
       "<p>5 rows × 100 columns</p>\n",
       "</div>"
      ],
      "text/plain": [
       "                        component_1  component_2  component_3  component_4  \\\n",
       "track_id                                                                     \n",
       "7DQ5CZjAQdhgDgdnSXxJ7Z     2.035596    -1.496917     3.776113     0.263415   \n",
       "1ahVFh0ViDZr8LvkEVlq3B    -1.428473    -1.617124     1.549980    -0.010941   \n",
       "6nDKrPlXdpomGBgAlO7UdP    -1.389994    -1.445927     1.174145    -0.618994   \n",
       "5TL9e2xgtvJFtNCBsq1CgX     2.134044    -1.347201     3.761819     0.312336   \n",
       "2UkF0EWfh0T90ScJzGqnD1    -1.143085    -1.312320     1.019998     0.263606   \n",
       "\n",
       "                        component_5  component_6  component_7  component_8  \\\n",
       "track_id                                                                     \n",
       "7DQ5CZjAQdhgDgdnSXxJ7Z    -0.646796    -1.530263    -1.714502     1.211791   \n",
       "1ahVFh0ViDZr8LvkEVlq3B    -0.905047    -4.546911    -1.892264     0.433461   \n",
       "6nDKrPlXdpomGBgAlO7UdP    -1.308264    -2.519386    -1.150983     0.243227   \n",
       "5TL9e2xgtvJFtNCBsq1CgX    -0.329945    -1.487206    -1.727162     1.120685   \n",
       "2UkF0EWfh0T90ScJzGqnD1    -0.699662    -3.101817    -0.873020     0.383978   \n",
       "\n",
       "                        component_9  component_10  ...  component_91  \\\n",
       "track_id                                           ...                 \n",
       "7DQ5CZjAQdhgDgdnSXxJ7Z     1.207300     -1.151620  ...     -0.516145   \n",
       "1ahVFh0ViDZr8LvkEVlq3B     2.388239      0.349556  ...     -0.149239   \n",
       "6nDKrPlXdpomGBgAlO7UdP     1.762597      0.086157  ...     -0.255130   \n",
       "5TL9e2xgtvJFtNCBsq1CgX     1.290717     -1.125561  ...     -0.505074   \n",
       "2UkF0EWfh0T90ScJzGqnD1     0.889724      0.147576  ...      0.501551   \n",
       "\n",
       "                        component_92  component_93  component_94  \\\n",
       "track_id                                                           \n",
       "7DQ5CZjAQdhgDgdnSXxJ7Z      0.015262      1.043404      1.380739   \n",
       "1ahVFh0ViDZr8LvkEVlq3B     -0.250272     -0.120992      0.209218   \n",
       "6nDKrPlXdpomGBgAlO7UdP     -0.237189     -0.127342      0.288158   \n",
       "5TL9e2xgtvJFtNCBsq1CgX      0.004686      1.017220      1.358216   \n",
       "2UkF0EWfh0T90ScJzGqnD1     -0.162140     -0.232025     -0.378920   \n",
       "\n",
       "                        component_95  component_96  component_97  \\\n",
       "track_id                                                           \n",
       "7DQ5CZjAQdhgDgdnSXxJ7Z     -1.910107     -0.571241     -1.162905   \n",
       "1ahVFh0ViDZr8LvkEVlq3B      0.074228      0.148952     -0.134051   \n",
       "6nDKrPlXdpomGBgAlO7UdP     -0.007890      0.202737     -0.247919   \n",
       "5TL9e2xgtvJFtNCBsq1CgX     -1.891037     -0.570223     -1.185873   \n",
       "2UkF0EWfh0T90ScJzGqnD1      0.494639      0.426026     -0.254900   \n",
       "\n",
       "                        component_98  component_99  component_100  \n",
       "track_id                                                           \n",
       "7DQ5CZjAQdhgDgdnSXxJ7Z     -1.610178      0.504680      -1.392331  \n",
       "1ahVFh0ViDZr8LvkEVlq3B     -0.102124      0.036275       0.063159  \n",
       "6nDKrPlXdpomGBgAlO7UdP     -0.110277     -0.074902       0.034823  \n",
       "5TL9e2xgtvJFtNCBsq1CgX     -1.621412      0.535278      -1.333220  \n",
       "2UkF0EWfh0T90ScJzGqnD1      0.102184      0.621775      -0.094697  \n",
       "\n",
       "[5 rows x 100 columns]"
      ]
     },
     "execution_count": 28,
     "metadata": {},
     "output_type": "execute_result"
    }
   ],
   "source": [
    "svd_df.head()"
   ]
  },
  {
   "cell_type": "code",
   "execution_count": 29,
   "metadata": {},
   "outputs": [
    {
     "data": {
      "text/plain": [
       "(26887, 100)"
      ]
     },
     "execution_count": 29,
     "metadata": {},
     "output_type": "execute_result"
    }
   ],
   "source": [
    "svd_df.shape"
   ]
  },
  {
   "cell_type": "markdown",
   "metadata": {},
   "source": [
    "## Clustering with HDBSCAN"
   ]
  },
  {
   "cell_type": "markdown",
   "metadata": {},
   "source": [
    "Hierarchical Density-Based Spatial Clustering of Applications with Noise (HDBSCAN) is a clustering algorithm developed by Campello, Moulavi, and Sander. It extends DBSCAN by converting it into a hierarchical clustering algorithm, and then using a technique to extract a flat clustering based in the stability of clusters.\n",
    "\n",
    "Notes:\n",
    "- We can detect areas of high and low density\n",
    "\n",
    "- Areas of high density will become a cluster\n",
    "\n",
    "- Areas of low density will be not clustered/regarded as noise"
   ]
  },
  {
   "cell_type": "code",
   "execution_count": 30,
   "metadata": {},
   "outputs": [],
   "source": [
    "clusterer = hdbscan.HDBSCAN(min_cluster_size=5, gen_min_span_tree=True)"
   ]
  },
  {
   "cell_type": "markdown",
   "metadata": {},
   "source": [
    "### Fitting HDBSCAN to the SVD Dataframe"
   ]
  },
  {
   "cell_type": "code",
   "execution_count": 31,
   "metadata": {},
   "outputs": [
    {
     "name": "stderr",
     "output_type": "stream",
     "text": [
      "/Users/davidbickham/anaconda3/lib/python3.7/site-packages/hdbscan/hdbscan_.py:216: UserWarning: Cannot generate Minimum Spanning Tree; the implemented Prim's does not produce the full minimum spanning tree \n",
      "  'the full minimum spanning tree ', UserWarning)\n"
     ]
    },
    {
     "data": {
      "text/plain": [
       "HDBSCAN(algorithm='best', allow_single_cluster=False, alpha=1.0,\n",
       "    approx_min_span_tree=True, cluster_selection_method='eom',\n",
       "    core_dist_n_jobs=4, gen_min_span_tree=True, leaf_size=40,\n",
       "    match_reference_implementation=False, memory=Memory(location=None),\n",
       "    metric='euclidean', min_cluster_size=5, min_samples=None, p=None,\n",
       "    prediction_data=False)"
      ]
     },
     "execution_count": 31,
     "metadata": {},
     "output_type": "execute_result"
    }
   ],
   "source": [
    "clusterer.fit(svd_df)"
   ]
  },
  {
   "cell_type": "markdown",
   "metadata": {},
   "source": [
    "Returns the labels from our clusterer"
   ]
  },
  {
   "cell_type": "code",
   "execution_count": 32,
   "metadata": {},
   "outputs": [
    {
     "data": {
      "text/plain": [
       "array([ 197, 1075, 1375, ...,  399,  399,  399])"
      ]
     },
     "execution_count": 32,
     "metadata": {},
     "output_type": "execute_result"
    }
   ],
   "source": [
    "clusterer.labels_"
   ]
  },
  {
   "cell_type": "markdown",
   "metadata": {},
   "source": [
    "Return the probabilities from our clusterer"
   ]
  },
  {
   "cell_type": "code",
   "execution_count": 33,
   "metadata": {},
   "outputs": [
    {
     "data": {
      "text/plain": [
       "array([1.        , 0.96175163, 0.78385156, ..., 1.        , 1.        ,\n",
       "       1.        ])"
      ]
     },
     "execution_count": 33,
     "metadata": {},
     "output_type": "execute_result"
    }
   ],
   "source": [
    "clusterer.probabilities_"
   ]
  },
  {
   "cell_type": "code",
   "execution_count": 34,
   "metadata": {},
   "outputs": [],
   "source": [
    "df_cluster = pd.merge(left = df_final_genres,\n",
    "                     right = df,\n",
    "                     how = 'inner',\n",
    "                     left_index=True,\n",
    "                     right_on='track_id')"
   ]
  },
  {
   "cell_type": "markdown",
   "metadata": {},
   "source": [
    "### Append Cluster Labels and Probabilities to the Dataframe"
   ]
  },
  {
   "cell_type": "code",
   "execution_count": 35,
   "metadata": {},
   "outputs": [],
   "source": [
    "df_cluster['labels'] = clusterer.labels_"
   ]
  },
  {
   "cell_type": "code",
   "execution_count": 36,
   "metadata": {},
   "outputs": [],
   "source": [
    "df_cluster['pred_prob'] = clusterer.probabilities_"
   ]
  },
  {
   "cell_type": "markdown",
   "metadata": {},
   "source": [
    "### Investigating our Clusters"
   ]
  },
  {
   "cell_type": "markdown",
   "metadata": {},
   "source": [
    "Let's see how many unique clusters were created"
   ]
  },
  {
   "cell_type": "code",
   "execution_count": 37,
   "metadata": {},
   "outputs": [
    {
     "data": {
      "text/plain": [
       "1632"
      ]
     },
     "execution_count": 37,
     "metadata": {},
     "output_type": "execute_result"
    }
   ],
   "source": [
    "df_cluster.labels.nunique()"
   ]
  },
  {
   "cell_type": "markdown",
   "metadata": {},
   "source": [
    "We have 1.6k unique clusters that were created"
   ]
  },
  {
   "cell_type": "markdown",
   "metadata": {},
   "source": [
    "Let's use the `.describe()` method to look at the distribution of the number of tracks in each cluster"
   ]
  },
  {
   "cell_type": "markdown",
   "metadata": {},
   "source": [
    "First we'll look at how may tracks were not clustered"
   ]
  },
  {
   "cell_type": "code",
   "execution_count": 38,
   "metadata": {},
   "outputs": [
    {
     "data": {
      "text/plain": [
       "8111"
      ]
     },
     "execution_count": 38,
     "metadata": {},
     "output_type": "execute_result"
    }
   ],
   "source": [
    "df_cluster[df_cluster.labels == -1].shape[0]"
   ]
  },
  {
   "cell_type": "markdown",
   "metadata": {},
   "source": [
    "8.1k tracks we're not clustered, roughyly A third"
   ]
  },
  {
   "cell_type": "markdown",
   "metadata": {},
   "source": [
    "Let's create a dataframe that removes unclustered tracks"
   ]
  },
  {
   "cell_type": "code",
   "execution_count": 39,
   "metadata": {},
   "outputs": [],
   "source": [
    "df_cluster_only = df_cluster[df_cluster['labels'] != -1]"
   ]
  },
  {
   "cell_type": "code",
   "execution_count": 40,
   "metadata": {},
   "outputs": [
    {
     "data": {
      "text/plain": [
       "(18776, 41)"
      ]
     },
     "execution_count": 40,
     "metadata": {},
     "output_type": "execute_result"
    }
   ],
   "source": [
    "df_cluster_only.shape"
   ]
  },
  {
   "cell_type": "code",
   "execution_count": 41,
   "metadata": {},
   "outputs": [
    {
     "data": {
      "text/plain": [
       "count    1631.000000\n",
       "mean       11.511956\n",
       "std        14.025470\n",
       "min         5.000000\n",
       "25%         6.000000\n",
       "50%         8.000000\n",
       "75%        12.000000\n",
       "max       321.000000\n",
       "Name: labels, dtype: float64"
      ]
     },
     "execution_count": 41,
     "metadata": {},
     "output_type": "execute_result"
    }
   ],
   "source": [
    "df_cluster_only.labels.value_counts().describe()"
   ]
  },
  {
   "cell_type": "markdown",
   "metadata": {},
   "source": [
    "we can see that on avg., our clusters contain 12 tracks, with some clusters having as many as 321 tracks"
   ]
  },
  {
   "cell_type": "code",
   "execution_count": 42,
   "metadata": {},
   "outputs": [
    {
     "data": {
      "text/plain": [
       "1611    321\n",
       "1549    235\n",
       "1589    164\n",
       "1467    118\n",
       "1470    113\n",
       "1519    107\n",
       "1511     90\n",
       "1535     80\n",
       "1594     80\n",
       "1093     77\n",
       "1616     77\n",
       "905      75\n",
       "1028     67\n",
       "1370     67\n",
       "1600     66\n",
       "741      66\n",
       "1225     57\n",
       "1090     55\n",
       "1609     54\n",
       "1131     53\n",
       "1622     52\n",
       "1627     50\n",
       "1183     47\n",
       "1437     47\n",
       "1567     45\n",
       "1354     45\n",
       "1604     44\n",
       "891      43\n",
       "940      43\n",
       "1610     42\n",
       "       ... \n",
       "711       5\n",
       "1351      5\n",
       "583       5\n",
       "519       5\n",
       "471       5\n",
       "439       5\n",
       "1087      5\n",
       "1071      5\n",
       "343       5\n",
       "1207      5\n",
       "1367      5\n",
       "402       5\n",
       "728       5\n",
       "1416      5\n",
       "434       5\n",
       "1384      5\n",
       "1368      5\n",
       "482       5\n",
       "744       5\n",
       "658       5\n",
       "664       5\n",
       "1431      5\n",
       "239       5\n",
       "834       5\n",
       "232       5\n",
       "216       5\n",
       "184       5\n",
       "72        5\n",
       "8         5\n",
       "0         5\n",
       "Name: labels, Length: 1631, dtype: int64"
      ]
     },
     "execution_count": 42,
     "metadata": {},
     "output_type": "execute_result"
    }
   ],
   "source": [
    "df_cluster_only.labels.value_counts()"
   ]
  },
  {
   "cell_type": "markdown",
   "metadata": {},
   "source": [
    "Let's look at the dsitribution of how confident we are in our cluster predictions"
   ]
  },
  {
   "cell_type": "code",
   "execution_count": 43,
   "metadata": {},
   "outputs": [
    {
     "data": {
      "text/plain": [
       "(array([   76.,   230.,   355.,   475.,   658.,   875.,  1248.,  1580.,\n",
       "         1798., 11481.]),\n",
       " array([0.02809777, 0.125288  , 0.22247822, 0.31966844, 0.41685866,\n",
       "        0.51404889, 0.61123911, 0.70842933, 0.80561955, 0.90280978,\n",
       "        1.        ]),\n",
       " <a list of 10 Patch objects>)"
      ]
     },
     "execution_count": 43,
     "metadata": {},
     "output_type": "execute_result"
    },
    {
     "data": {
      "image/png": "[encoded data removed]",
      "text/plain": [
       "<Figure size 432x288 with 1 Axes>"
      ]
     },
     "metadata": {
      "needs_background": "light"
     },
     "output_type": "display_data"
    }
   ],
   "source": [
    "plt.hist(df_cluster_only.pred_prob)"
   ]
  },
  {
   "cell_type": "markdown",
   "metadata": {},
   "source": [
    "It looks like we're quite confident in the majority of predictions"
   ]
  },
  {
   "cell_type": "code",
   "execution_count": 44,
   "metadata": {},
   "outputs": [
    {
     "data": {
      "text/plain": [
       "count    18776.000000\n",
       "mean         0.856030\n",
       "std          0.211270\n",
       "min          0.028098\n",
       "25%          0.757922\n",
       "50%          1.000000\n",
       "75%          1.000000\n",
       "max          1.000000\n",
       "Name: pred_prob, dtype: float64"
      ]
     },
     "execution_count": 44,
     "metadata": {},
     "output_type": "execute_result"
    }
   ],
   "source": [
    "df_cluster_only.pred_prob.describe()"
   ]
  },
  {
   "cell_type": "markdown",
   "metadata": {},
   "source": [
    "### Examining our Largest Clusters"
   ]
  },
  {
   "cell_type": "code",
   "execution_count": 45,
   "metadata": {},
   "outputs": [
    {
     "data": {
      "text/plain": [
       "Music For Concentration                  45\n",
       "Peaceful Piano                           36\n",
       "Piano in the Background                  32\n",
       "Instrumental Study                       29\n",
       "Ambient Relaxation                       28\n",
       "Yoga & Meditation                        22\n",
       "Cool Down                                18\n",
       "Stress Relief                            17\n",
       "Relaxing Massage                         16\n",
       "SPA Treatment                            12\n",
       "Calm Vibes                               12\n",
       "Deep Focus                               11\n",
       "Reading Chill Out                         9\n",
       "Intense Studying                          7\n",
       "Atmospheric Calm                          5\n",
       "Peaceful Meditation                       4\n",
       "Dreamy Vibes                              4\n",
       "Peaceful Piano: American Songbook         4\n",
       "Productive Morning                        3\n",
       "Chilled Jazz                              3\n",
       "Calming Instrumental Covers               1\n",
       "Workday Lounge                            1\n",
       "Lava Lamp                                 1\n",
       "The Most Beautiful Songs in the World     1\n",
       "Name: playlist_name, dtype: int64"
      ]
     },
     "execution_count": 45,
     "metadata": {},
     "output_type": "execute_result"
    }
   ],
   "source": [
    "df_cluster_only[df_cluster_only.labels == 1611]['playlist_name'].value_counts()"
   ]
  },
  {
   "cell_type": "markdown",
   "metadata": {},
   "source": [
    "Interesting! our first cluster seems to be comprised of peaceful/stress relieving playlists"
   ]
  },
  {
   "cell_type": "code",
   "execution_count": 46,
   "metadata": {},
   "outputs": [
    {
     "data": {
      "text/plain": [
       "Lush Lofi                   43\n",
       "Chill Lofi Study Beats      27\n",
       "Lo-Fi Beats                 25\n",
       "Chill Instrumental Beats    22\n",
       "Jazz Vibes                  19\n",
       "Tender                      15\n",
       "Lofi Hip-Hop                14\n",
       "Mellow Beats                13\n",
       "Lofi Love                   13\n",
       "Quiet Hours                 12\n",
       "Cute Beats                   9\n",
       "Focus Flow                   5\n",
       "Brain Food                   4\n",
       "Drifting Apart               3\n",
       "Raw Beats                    2\n",
       "With You                     1\n",
       "Shisha Lounge                1\n",
       "Jazztronica                  1\n",
       "Dreamy Vibes                 1\n",
       "Lo-fi House                  1\n",
       "Mellow Mood                  1\n",
       "Silk Sheets                  1\n",
       "Workday Lounge               1\n",
       "Sunshowers                   1\n",
       "Name: playlist_name, dtype: int64"
      ]
     },
     "execution_count": 46,
     "metadata": {},
     "output_type": "execute_result"
    }
   ],
   "source": [
    "df_cluster_only[df_cluster_only.labels == 1549]['playlist_name'].value_counts()"
   ]
  },
  {
   "cell_type": "markdown",
   "metadata": {},
   "source": [
    "This cluster seems to be comprised of chill/mellow music"
   ]
  },
  {
   "cell_type": "code",
   "execution_count": 47,
   "metadata": {},
   "outputs": [
    {
     "data": {
      "text/plain": [
       "Chill Instrumental Beats        20\n",
       "Lo-Fi Beats                     18\n",
       "Chill Lofi Study Beats          13\n",
       "Tender                          13\n",
       "Lush Lofi                       13\n",
       "Mellow Beats                    11\n",
       "Jazz Vibes                      11\n",
       "Quiet Hours                      8\n",
       "Lofi Hip-Hop                     7\n",
       "Drifting Apart                   6\n",
       "Lofi Love                        5\n",
       "Low-Key                          4\n",
       "Genre Glitch                     4\n",
       "Cute Beats                       4\n",
       "Focus Flow                       4\n",
       "Shisha Lounge                    3\n",
       "Jazztronica                      3\n",
       "Dreamy Vibes                     3\n",
       "Butter                           2\n",
       "With You                         2\n",
       "Raw Beats                        2\n",
       "Chill Vibes                      1\n",
       "Eat Sleep Run Repeat 140 BPM     1\n",
       "Bedroom Pop                      1\n",
       "Anti Pop                         1\n",
       "Pop Chillout                     1\n",
       "Atmospheric Calm                 1\n",
       "Mellow Mood                      1\n",
       "Workday Lounge                   1\n",
       "Name: playlist_name, dtype: int64"
      ]
     },
     "execution_count": 47,
     "metadata": {},
     "output_type": "execute_result"
    }
   ],
   "source": [
    "df_cluster_only[df_cluster_only.labels == 1589]['playlist_name'].value_counts()"
   ]
  },
  {
   "cell_type": "markdown",
   "metadata": {},
   "source": [
    "Seems to be another chill/mellow collection of tracks"
   ]
  },
  {
   "cell_type": "code",
   "execution_count": 48,
   "metadata": {},
   "outputs": [
    {
     "data": {
      "text/plain": [
       "Country's Greatest Hits:  The '90s             27\n",
       "Drunk and Hung Over                            10\n",
       "Country Heartache                              10\n",
       "Heartland Country                              10\n",
       "Forever Country                                 7\n",
       "Country Cookout with Guy Fieri                  6\n",
       "Country Nights                                  6\n",
       "Country's Greatest Hits:  The '80s              6\n",
       "90's Country                                    5\n",
       "New Traditions: Country Heroes                  4\n",
       "Tailgate Party                                  4\n",
       "Greener Pastures                                3\n",
       "Hot Country                                     3\n",
       "Morning Run 150–165 BPM                         3\n",
       "Country by the Grace of God                     3\n",
       "CMA Award Nominees - 2018                       2\n",
       "Women of Country                                2\n",
       "Spotify Singles: Nashville                      2\n",
       "Country Coffeehouse                             1\n",
       "Fresh Country                                   1\n",
       "Chillin' on a Dirt Road                         1\n",
       "Songwriters of Nashville with Charles Esten     1\n",
       "New Boots                                       1\n",
       "Name: playlist_name, dtype: int64"
      ]
     },
     "execution_count": 48,
     "metadata": {},
     "output_type": "execute_result"
    }
   ],
   "source": [
    "df_cluster_only[df_cluster_only.labels == 1467]['playlist_name'].value_counts()"
   ]
  },
  {
   "cell_type": "markdown",
   "metadata": {},
   "source": [
    "This one appears to be a country mix"
   ]
  },
  {
   "cell_type": "code",
   "execution_count": 49,
   "metadata": {},
   "outputs": [
    {
     "data": {
      "text/plain": [
       "Country Nights                                 14\n",
       "Country by the Grace of God                    10\n",
       "Forever Country                                10\n",
       "Chillin' on a Dirt Road                        10\n",
       "Country Gold                                    7\n",
       "Hot Country                                     5\n",
       "Drunk and Hung Over                             5\n",
       "Tailgate Party                                  5\n",
       "New Traditions: Country Heroes                  4\n",
       "Country Heartache                               3\n",
       "Country Coffeehouse                             3\n",
       "Nashville Stripped                              3\n",
       "CMA Award Nominees - 2018                       3\n",
       "Greener Pastures                                3\n",
       "Country Cookout with Guy Fieri                  3\n",
       "Hot Country - Top Tracks of 2018                3\n",
       "Songwriters of Nashville with Charles Esten     2\n",
       "Spotify Singles: Nashville                      2\n",
       "Country's Greatest Hits:  The '90s              2\n",
       "Morning Run 150–165 BPM                         2\n",
       "Next From Nashville                             2\n",
       "Heartland Country                               2\n",
       "Contemporary Blend                              1\n",
       "Nashville's Worldwide Hot 50                    1\n",
       "90's Country                                    1\n",
       "Country Bound                                   1\n",
       "For The Love Of Country                         1\n",
       "Crazy In Love                                   1\n",
       "Fresh Country                                   1\n",
       "Very Nearly Nashville                           1\n",
       "Back Porch                                      1\n",
       "Swagger                                         1\n",
       "Name: playlist_name, dtype: int64"
      ]
     },
     "execution_count": 49,
     "metadata": {},
     "output_type": "execute_result"
    }
   ],
   "source": [
    "df_cluster_only[df_cluster_only.labels == 1470]['playlist_name'].value_counts()"
   ]
  },
  {
   "cell_type": "markdown",
   "metadata": {},
   "source": [
    "More country...."
   ]
  },
  {
   "cell_type": "code",
   "execution_count": 50,
   "metadata": {},
   "outputs": [
    {
     "data": {
      "text/plain": [
       "Mega Hit Mix                         10\n",
       "Soft Pop Hits                         5\n",
       "Fangirls Run the World                5\n",
       "Pumped Pop                            5\n",
       "Power Run 145 BPM                     3\n",
       "Fast Pop Run 180 BPM                  3\n",
       "Fun Run 150–165 BPM                   3\n",
       "Acoustic Hits: Oldies but Goodies     3\n",
       "Today's Top Hits                      3\n",
       "Confidence Boost                      2\n",
       "Happy Birthday                        2\n",
       "Arab X                                2\n",
       "2000s Smash Hits                      2\n",
       "Dance Pop                             2\n",
       "Hit Rewind                            2\n",
       "Feeling Down                          2\n",
       "The GRAMMYs Official Playlist         2\n",
       "Pop Hits The Spot                     1\n",
       "Spotify Singles: Nashville            1\n",
       "Acoustic Hits                         1\n",
       "Sunshine Reggae                       1\n",
       "Country Heartache                     1\n",
       "Pop Sauce                             1\n",
       "Teen Party                            1\n",
       "Love Songs & Chill                    1\n",
       "Anti-Valentine's Day                  1\n",
       "Mellow Pop                            1\n",
       "Pop Matters                           1\n",
       "Contemporary Blend                    1\n",
       "Acoustic Covers                       1\n",
       "Dance Rewind                          1\n",
       "Wedding Songs                         1\n",
       "Women of Pop                          1\n",
       "Party Jams                            1\n",
       "Pop Rising                            1\n",
       "Beach Party                           1\n",
       "Just Good Music                       1\n",
       "Chill Hits                            1\n",
       "Acoustic Party                        1\n",
       "Young & Free                          1\n",
       "If It Wasn't For Gucci                1\n",
       "Name: playlist_name, dtype: int64"
      ]
     },
     "execution_count": 50,
     "metadata": {},
     "output_type": "execute_result"
    }
   ],
   "source": [
    "df_cluster_only[df_cluster_only.labels == 1594]['playlist_name'].value_counts()"
   ]
  },
  {
   "cell_type": "markdown",
   "metadata": {},
   "source": [
    "Here we've got more of a pop/party/fun mix"
   ]
  },
  {
   "cell_type": "markdown",
   "metadata": {},
   "source": [
    "## Key Learnings"
   ]
  },
  {
   "cell_type": "markdown",
   "metadata": {},
   "source": [
    "- Clustering using HDBSCAN seems to provide some promising results. When assessing the playlist make-up of the largest clusters we certainly see that the tracks have a consistent themes such as country, peaceful songs, and chill/lo-fi music.\n",
    "\n",
    "- In fact, the cluster algoirthm may benefit from a reduced number of clusters as there are currently 1.6k unique clusters\n",
    "\n",
    "- Next step would be to used these clusters to introduce these clusters into our cosine similarity matrix to see if it improves our recommendations"
   ]
  },
  {
   "cell_type": "markdown",
   "metadata": {},
   "source": [
    "## Visualizing Clsuters"
   ]
  },
  {
   "cell_type": "code",
   "execution_count": 53,
   "metadata": {},
   "outputs": [
    {
     "data": {
      "text/plain": [
       "Music For Concentration    45\n",
       "Peaceful Piano             36\n",
       "Piano in the Background    32\n",
       "Instrumental Study         29\n",
       "Ambient Relaxation         28\n",
       "Yoga & Meditation          22\n",
       "Cool Down                  18\n",
       "Stress Relief              17\n",
       "Relaxing Massage           16\n",
       "SPA Treatment              12\n",
       "Name: playlist_name, dtype: int64"
      ]
     },
     "execution_count": 53,
     "metadata": {},
     "output_type": "execute_result"
    }
   ],
   "source": [
    "df_cluster_only[df_cluster_only.labels == 1611]['playlist_name'].value_counts().head(10)"
   ]
  },
  {
   "cell_type": "code",
   "execution_count": 54,
   "metadata": {},
   "outputs": [
    {
     "data": {
      "image/png": "[encoded data removed]",
      "text/plain": [
       "<Figure size 1080x576 with 1 Axes>"
      ]
     },
     "metadata": {
      "needs_background": "light"
     },
     "output_type": "display_data"
    }
   ],
   "source": [
    "# Create a figure.\n",
    "plt.figure(figsize=(15,8))\n",
    "\n",
    "plt.barh(df_cluster_only[df_cluster_only.labels == 1611]['playlist_name'].value_counts().head(10).index\n",
    "         ,df_cluster_only[df_cluster_only.labels == 1611]['playlist_name'].value_counts().head(10)\n",
    "         , color='palegreen')\n",
    "plt.title('Top Artist in the Song Library', fontsize=30)\n",
    "plt.xlabel('Total Tracks', fontsize=25)\n",
    "plt.xticks()\n",
    "# plt.axvline(x=train_clean['saleprice'].mean(),c='darkgrey', linewidth=4, linestyle='--')\n",
    "# plt.axvline(x=train_clean['saleprice'].median(),c='orange')\n",
    ";\n",
    "# Saving the image\n",
    "plt.savefig('../images/top_artists.png');"
   ]
  },
  {
   "cell_type": "code",
   "execution_count": null,
   "metadata": {},
   "outputs": [],
   "source": [
    "df_cluster_only[df_cluster_only.labels == 1611]['playlist_name'].value_counts().head(10)"
   ]
  }
 ],
 "metadata": {
  "kernelspec": {
   "display_name": "Python 3",
   "language": "python",
   "name": "python3"
  },
  "language_info": {
   "codemirror_mode": {
    "name": "ipython",
    "version": 3
   },
   "file_extension": ".py",
   "mimetype": "text/x-python",
   "name": "python",
   "nbconvert_exporter": "python",
   "pygments_lexer": "ipython3",
   "version": "3.7.1"
  }
 },
 "nbformat": 4,
 "nbformat_minor": 2
}
