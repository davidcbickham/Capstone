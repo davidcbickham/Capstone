{
 "cells": [
  {
   "cell_type": "markdown",
   "metadata": {},
   "source": [
    "### Importing Libraries & Authorizing API Connection"
   ]
  },
  {
   "cell_type": "code",
   "execution_count": 1,
   "metadata": {},
   "outputs": [],
   "source": [
    "import os\n",
    "import spotipy\n",
    "## Importing the spotipy Library ##\n",
    "##os.chdir(\"C:/Punisher/1 UTD/Spring 18/spotify shizzle\")\n",
    "\n",
    "### IMPORTS ##\n",
    "import pandas as pd\n",
    "import numpy as np\n",
    "\n",
    "## importing packages for visualization ##\n",
    "\n",
    "import seaborn as sns\n",
    "import spotipy.util as util\n",
    "\n",
    "# initialize spotify api\n",
    "\n",
    "spotify = spotipy.Spotify()\n",
    "from spotipy.oauth2 import SpotifyClientCredentials\n",
    "\n",
    "clientid = \"bf177e9a897347ebbf481db519249ca4\"\n",
    "secret = \"094aca58f14441bda15dc906cf75c56a\"\n",
    "username= \"dbick001\"\n",
    "\n",
    "client_cred_manager = SpotifyClientCredentials(client_id=clientid,\n",
    "                                               client_secret=secret)\n",
    "\n",
    "\n",
    "model = spotipy.Spotify(client_credentials_manager=client_cred_manager)\n",
    "scope = 'user-library-read playlist-read-private'\n",
    "#token = \"Bearer BQBHbEieVIBtDz5QcD3M6LxfWXcscBYd7ZzStDjP_3wKHkEFjY4QqFV-82EcU-wNvBo_Fnawc7JMx9KDLx1WdaWj2gojr5RGZguzsyEPg5RkkBPLDbnum850dZ4e_xRu41DOWsfZWNBq1tlfzDkRF1j3SgPAs-0zFut3WCoj&refresh_token=AQCPILw9Y6szk_KjqSVIHueizz-AU4iEPZ2SnkxLhTjtlPgI3l0eh8As9tEcmq3RJoqEMYceU71bA-jeUeYWnUOo5WZCNgq9IQUB9CqPR0OwFwJUInJFNVuncqKeU6yddAY\"\n",
    "\n",
    "token = util.prompt_for_user_token(username, scope, client_id=clientid, client_secret=secret, redirect_uri=\"http://google.com/\")\n",
    "if token:\n",
    "    model = spotipy.Spotify(auth=token)\n",
    "else:\n",
    "    print(\"unable to get token for:\", username)"
   ]
  },
  {
   "cell_type": "markdown",
   "metadata": {},
   "source": [
    "## Sample Queryies for Accessing Spotipy API"
   ]
  },
  {
   "cell_type": "markdown",
   "metadata": {},
   "source": [
    "### Getting Genre List"
   ]
  },
  {
   "cell_type": "code",
   "execution_count": 2,
   "metadata": {},
   "outputs": [
    {
     "data": {
      "text/plain": [
       "dict_keys(['genres'])"
      ]
     },
     "execution_count": 2,
     "metadata": {},
     "output_type": "execute_result"
    }
   ],
   "source": [
    "model.recommendation_genre_seeds().keys()"
   ]
  },
  {
   "cell_type": "markdown",
   "metadata": {},
   "source": [
    "### Search Query Functionality"
   ]
  },
  {
   "cell_type": "code",
   "execution_count": 3,
   "metadata": {},
   "outputs": [
    {
     "data": {
      "text/plain": [
       "dict_keys(['artists'])"
      ]
     },
     "execution_count": 3,
     "metadata": {},
     "output_type": "execute_result"
    }
   ],
   "source": [
    "model.search('Kanye West', limit=10, offset=0, type='artist', market='US').keys()"
   ]
  },
  {
   "cell_type": "markdown",
   "metadata": {},
   "source": [
    "## Create Lists of Playlist Names and Ids"
   ]
  },
  {
   "cell_type": "markdown",
   "metadata": {},
   "source": [
    "### Reference List of Categories"
   ]
  },
  {
   "cell_type": "markdown",
   "metadata": {},
   "source": [
    "The below function generates a list of both Spotify playlist ids and playlist names for all of the main playlist categories. These categories correspond to the playist categories within the 'Genres & Moods' subsection within the Browse section of the Spotify App. By default, we'll collect 50 playlists per category."
   ]
  },
  {
   "cell_type": "code",
   "execution_count": 4,
   "metadata": {},
   "outputs": [],
   "source": [
    "# category_list = ['edm_dance', 'hiphop', 'pop', 'mood', 'workout', 'decades', 'latin' \\\n",
    "#                  , 'chill', 'focus', 'rock', 'party','jazz','romance',\\\n",
    "#                 'afro', 'soul', 'country', 'reggae','blues', 'funk','punk', 'metal']\n",
    "\n",
    "# test = []\n",
    "# names = []\n",
    "# ids = []\n",
    "# for category in category_list:\n",
    "#     test.append(model.category_playlists(category_id=category ,\n",
    "#                          country='US', \n",
    "#                          limit=50, \n",
    "#                          offset=0))\n",
    "    \n",
    "#     for level in range(0, len(test)):\n",
    "#         for cat in range(0, len(test[level]['playlists']['items'])):\n",
    "#             names.append(test[level]['playlists']['items'][cat]['name'])\n",
    "#             ids.append(test[level]['playlists']['items'][cat]['id'])"
   ]
  },
  {
   "cell_type": "markdown",
   "metadata": {},
   "source": [
    "### Combine Lists in a Dictionary"
   ]
  },
  {
   "cell_type": "code",
   "execution_count": 5,
   "metadata": {},
   "outputs": [],
   "source": [
    "# playlist_dictionary = dict(zip(names, ids))"
   ]
  },
  {
   "cell_type": "markdown",
   "metadata": {},
   "source": [
    "### Pickle Playlists Dictionary"
   ]
  },
  {
   "cell_type": "code",
   "execution_count": 6,
   "metadata": {},
   "outputs": [],
   "source": [
    "# import pickle\n",
    "\n",
    "# filename = 'playlist_dict'\n",
    "# outfile = open(filename,'wb')\n",
    "\n",
    "# pickle.dump(playlist_dictionary,outfile)\n",
    "# outfile.close()"
   ]
  },
  {
   "cell_type": "markdown",
   "metadata": {},
   "source": [
    "### Loading Pickled Playlist Dictionary"
   ]
  },
  {
   "cell_type": "code",
   "execution_count": 7,
   "metadata": {},
   "outputs": [
    {
     "data": {
      "text/plain": [
       "751"
      ]
     },
     "execution_count": 7,
     "metadata": {},
     "output_type": "execute_result"
    }
   ],
   "source": [
    "import pickle\n",
    "infile = open('../data/playlist_dict','rb')\n",
    "playlist_dictionary = pickle.load(infile)\n",
    "infile.close()\n",
    "\n",
    "len(playlist_dictionary)"
   ]
  },
  {
   "cell_type": "markdown",
   "metadata": {},
   "source": [
    "## Create Dictionary of Playlist IDs and Track Ids"
   ]
  },
  {
   "cell_type": "markdown",
   "metadata": {},
   "source": [
    "Next we'll create a dictionary that stores the playlist id and the track id of every song in the playlist (up to 100)."
   ]
  },
  {
   "cell_type": "code",
   "execution_count": 8,
   "metadata": {},
   "outputs": [],
   "source": [
    "# playlist_dict_tracks = {}\n",
    "# for py_id in playlist_dictionary.values():\n",
    "#     tracks = []\n",
    "#     foofoo = model.user_playlist_tracks(user= 'spotify', \n",
    "#                            playlist_id = py_id, \n",
    "#                            fields=None, \n",
    "#                            limit=100, \n",
    "#                            offset=0, \n",
    "#                            market='US')\n",
    "#     for song in foofoo['items']:\n",
    "#         try:\n",
    "#             tracks.append(song['track']['id'])\n",
    "            \n",
    "#         except TypeError:\n",
    "#             pass\n",
    "        \n",
    "#     playlist_dict_tracks[py_id] = tracks"
   ]
  },
  {
   "cell_type": "markdown",
   "metadata": {},
   "source": [
    "### Pickle Playlist/Track Dictionary"
   ]
  },
  {
   "cell_type": "code",
   "execution_count": 9,
   "metadata": {},
   "outputs": [],
   "source": [
    "# import pickle\n",
    "\n",
    "# filename = 'playlist_dict_tracks'\n",
    "# outfile = open(filename,'wb')\n",
    "\n",
    "# pickle.dump(playlist_dict_tracks,outfile)\n",
    "# outfile.close()"
   ]
  },
  {
   "cell_type": "markdown",
   "metadata": {},
   "source": [
    "### Load Playlist/Track Dictionary"
   ]
  },
  {
   "cell_type": "code",
   "execution_count": 10,
   "metadata": {},
   "outputs": [
    {
     "data": {
      "text/plain": [
       "751"
      ]
     },
     "execution_count": 10,
     "metadata": {},
     "output_type": "execute_result"
    }
   ],
   "source": [
    "import pickle\n",
    "infile = open('../data/playlist_dict_tracks','rb')\n",
    "playlist_dict_tracks = pickle.load(infile)\n",
    "infile.close()\n",
    "\n",
    "len(playlist_dict_tracks)"
   ]
  },
  {
   "cell_type": "markdown",
   "metadata": {},
   "source": [
    "## Create Dataframe of Song Corpus"
   ]
  },
  {
   "cell_type": "markdown",
   "metadata": {},
   "source": [
    "Next we'll grab our song meta data for every track in the library and store it in a dictionary. We'll collect the following meta data for each track:\n",
    "\n",
    "- track_id\n",
    "- track_name\n",
    "- track_popularity\n",
    "- track_duration\n",
    "- album_id\n",
    "- album_name\n",
    "- artist_id\n",
    "- artist_name"
   ]
  },
  {
   "cell_type": "code",
   "execution_count": 11,
   "metadata": {},
   "outputs": [],
   "source": [
    "# tracks_dictionary = []\n",
    "# for py_id in playlist_dictionary.values():\n",
    "#     foofoo = model.user_playlist_tracks(user= 'spotify', \n",
    "#                            playlist_id = py_id, \n",
    "#                            fields=None, \n",
    "#                            limit=100, \n",
    "#                            offset=0, \n",
    "#                            market='US')\n",
    "    \n",
    "#     for song in foofoo['items']:\n",
    "#         songs_dict = {}\n",
    "# #         for artist_id in song['track']['artists']:\n",
    "#         try:\n",
    "#             songs_dict['playlist_id'] = py_id\n",
    "#             songs_dict['track_id'] = song['track']['id']\n",
    "#             songs_dict['track_name'] = song['track']['name']\n",
    "#             songs_dict['track_popularity'] = song['track']['popularity']\n",
    "#             songs_dict['track_duration'] = song['track']['duration_ms']\n",
    "#             songs_dict['album_id'] = song['track']['album']['id']\n",
    "#             songs_dict['album_name'] = song['track']['album']['name']\n",
    "#             songs_dict['artist_id'] = song['track']['artists'][0]['id']\n",
    "#             songs_dict['artist_name'] = song['track']['artists'][0]['name']\n",
    "            \n",
    "#         except TypeError:\n",
    "#             pass\n",
    "#         tracks_dictionary.append(songs_dict)"
   ]
  },
  {
   "cell_type": "markdown",
   "metadata": {},
   "source": [
    "### Pickle Tracks Dictionary"
   ]
  },
  {
   "cell_type": "code",
   "execution_count": 12,
   "metadata": {},
   "outputs": [],
   "source": [
    "# import pickle\n",
    "\n",
    "# filename = 'tracks_dict'\n",
    "# outfile = open(filename,'wb')\n",
    "\n",
    "# pickle.dump(tracks_dictionary,outfile)\n",
    "# outfile.close()"
   ]
  },
  {
   "cell_type": "markdown",
   "metadata": {},
   "source": [
    "### Load Tracks Dictionary"
   ]
  },
  {
   "cell_type": "code",
   "execution_count": 13,
   "metadata": {},
   "outputs": [
    {
     "data": {
      "text/plain": [
       "48839"
      ]
     },
     "execution_count": 13,
     "metadata": {},
     "output_type": "execute_result"
    }
   ],
   "source": [
    "import pickle\n",
    "infile = open('../data/tracks_dict','rb')\n",
    "tracks_dictionary = pickle.load(infile)\n",
    "infile.close()\n",
    "\n",
    "len(tracks_dictionary)"
   ]
  },
  {
   "cell_type": "markdown",
   "metadata": {},
   "source": [
    "#### Spot Check Dictionary"
   ]
  },
  {
   "cell_type": "code",
   "execution_count": 14,
   "metadata": {},
   "outputs": [
    {
     "data": {
      "text/plain": [
       "{'playlist_id': '37i9dQZF1DX4dyzvuaRJ0n',\n",
       " 'track_id': '7DQ5CZjAQdhgDgdnSXxJ7Z',\n",
       " 'track_name': 'Solid Gold',\n",
       " 'track_popularity': 58,\n",
       " 'track_duration': 208367,\n",
       " 'album_id': '3g0mfsWlOOUNheV5L3kQKs',\n",
       " 'album_name': 'Solid Gold',\n",
       " 'artist_id': '6n28c9qs9hNGriNa72b26u',\n",
       " 'artist_name': 'PNAU'}"
      ]
     },
     "execution_count": 14,
     "metadata": {},
     "output_type": "execute_result"
    }
   ],
   "source": [
    "tracks_dictionary[0]"
   ]
  },
  {
   "cell_type": "markdown",
   "metadata": {},
   "source": [
    "### Convert Dictionary to a Pandas Dataframe"
   ]
  },
  {
   "cell_type": "code",
   "execution_count": 15,
   "metadata": {},
   "outputs": [
    {
     "data": {
      "text/html": [
       "<div>\n",
       "<style scoped>\n",
       "    .dataframe tbody tr th:only-of-type {\n",
       "        vertical-align: middle;\n",
       "    }\n",
       "\n",
       "    .dataframe tbody tr th {\n",
       "        vertical-align: top;\n",
       "    }\n",
       "\n",
       "    .dataframe thead th {\n",
       "        text-align: right;\n",
       "    }\n",
       "</style>\n",
       "<table border=\"1\" class=\"dataframe\">\n",
       "  <thead>\n",
       "    <tr style=\"text-align: right;\">\n",
       "      <th></th>\n",
       "      <th>album_id</th>\n",
       "      <th>album_name</th>\n",
       "      <th>artist_id</th>\n",
       "      <th>artist_name</th>\n",
       "      <th>playlist_id</th>\n",
       "      <th>track_duration</th>\n",
       "      <th>track_id</th>\n",
       "      <th>track_name</th>\n",
       "      <th>track_popularity</th>\n",
       "    </tr>\n",
       "  </thead>\n",
       "  <tbody>\n",
       "    <tr>\n",
       "      <th>0</th>\n",
       "      <td>3g0mfsWlOOUNheV5L3kQKs</td>\n",
       "      <td>Solid Gold</td>\n",
       "      <td>6n28c9qs9hNGriNa72b26u</td>\n",
       "      <td>PNAU</td>\n",
       "      <td>37i9dQZF1DX4dyzvuaRJ0n</td>\n",
       "      <td>208367.0</td>\n",
       "      <td>7DQ5CZjAQdhgDgdnSXxJ7Z</td>\n",
       "      <td>Solid Gold</td>\n",
       "      <td>58.0</td>\n",
       "    </tr>\n",
       "    <tr>\n",
       "      <th>1</th>\n",
       "      <td>0agqVZjOqVtqHkq3pTFPXb</td>\n",
       "      <td>Piece Of Your Heart</td>\n",
       "      <td>0xRXCcSX89eobfrshSVdyu</td>\n",
       "      <td>MEDUZA</td>\n",
       "      <td>37i9dQZF1DX4dyzvuaRJ0n</td>\n",
       "      <td>152913.0</td>\n",
       "      <td>5p1ex0pXv6jSPJ6QbumQpD</td>\n",
       "      <td>Piece Of Your Heart</td>\n",
       "      <td>87.0</td>\n",
       "    </tr>\n",
       "    <tr>\n",
       "      <th>2</th>\n",
       "      <td>7KJTuTXYSnBGNgAxte3CSg</td>\n",
       "      <td>No Sleep (feat. Bonn)</td>\n",
       "      <td>60d24wfXkVzDSfLS6hyCjZ</td>\n",
       "      <td>Martin Garrix</td>\n",
       "      <td>37i9dQZF1DX4dyzvuaRJ0n</td>\n",
       "      <td>207094.0</td>\n",
       "      <td>1ahVFh0ViDZr8LvkEVlq3B</td>\n",
       "      <td>No Sleep (feat. Bonn)</td>\n",
       "      <td>84.0</td>\n",
       "    </tr>\n",
       "    <tr>\n",
       "      <th>3</th>\n",
       "      <td>7Jx7doYIXITyR2LQB0Hvbc</td>\n",
       "      <td>SOS</td>\n",
       "      <td>1vCWHaC5f2uS3yhpwWbIA6</td>\n",
       "      <td>Avicii</td>\n",
       "      <td>37i9dQZF1DX4dyzvuaRJ0n</td>\n",
       "      <td>157202.0</td>\n",
       "      <td>6nDKrPlXdpomGBgAlO7UdP</td>\n",
       "      <td>SOS</td>\n",
       "      <td>95.0</td>\n",
       "    </tr>\n",
       "    <tr>\n",
       "      <th>4</th>\n",
       "      <td>5kwv2A2qAK8pN007hSA56t</td>\n",
       "      <td>Changa</td>\n",
       "      <td>6n28c9qs9hNGriNa72b26u</td>\n",
       "      <td>PNAU</td>\n",
       "      <td>37i9dQZF1DX4dyzvuaRJ0n</td>\n",
       "      <td>188470.0</td>\n",
       "      <td>5TL9e2xgtvJFtNCBsq1CgX</td>\n",
       "      <td>Changa - Blanke Remix</td>\n",
       "      <td>59.0</td>\n",
       "    </tr>\n",
       "  </tbody>\n",
       "</table>\n",
       "</div>"
      ],
      "text/plain": [
       "                 album_id             album_name               artist_id  \\\n",
       "0  3g0mfsWlOOUNheV5L3kQKs             Solid Gold  6n28c9qs9hNGriNa72b26u   \n",
       "1  0agqVZjOqVtqHkq3pTFPXb    Piece Of Your Heart  0xRXCcSX89eobfrshSVdyu   \n",
       "2  7KJTuTXYSnBGNgAxte3CSg  No Sleep (feat. Bonn)  60d24wfXkVzDSfLS6hyCjZ   \n",
       "3  7Jx7doYIXITyR2LQB0Hvbc                    SOS  1vCWHaC5f2uS3yhpwWbIA6   \n",
       "4  5kwv2A2qAK8pN007hSA56t                 Changa  6n28c9qs9hNGriNa72b26u   \n",
       "\n",
       "     artist_name             playlist_id  track_duration  \\\n",
       "0           PNAU  37i9dQZF1DX4dyzvuaRJ0n        208367.0   \n",
       "1         MEDUZA  37i9dQZF1DX4dyzvuaRJ0n        152913.0   \n",
       "2  Martin Garrix  37i9dQZF1DX4dyzvuaRJ0n        207094.0   \n",
       "3         Avicii  37i9dQZF1DX4dyzvuaRJ0n        157202.0   \n",
       "4           PNAU  37i9dQZF1DX4dyzvuaRJ0n        188470.0   \n",
       "\n",
       "                 track_id             track_name  track_popularity  \n",
       "0  7DQ5CZjAQdhgDgdnSXxJ7Z             Solid Gold              58.0  \n",
       "1  5p1ex0pXv6jSPJ6QbumQpD    Piece Of Your Heart              87.0  \n",
       "2  1ahVFh0ViDZr8LvkEVlq3B  No Sleep (feat. Bonn)              84.0  \n",
       "3  6nDKrPlXdpomGBgAlO7UdP                    SOS              95.0  \n",
       "4  5TL9e2xgtvJFtNCBsq1CgX  Changa - Blanke Remix              59.0  "
      ]
     },
     "execution_count": 15,
     "metadata": {},
     "output_type": "execute_result"
    }
   ],
   "source": [
    "tracks_df = pd.DataFrame(tracks_dictionary)\n",
    "tracks_df.head()"
   ]
  },
  {
   "cell_type": "markdown",
   "metadata": {},
   "source": [
    "### Tracks DataFrame - Initial EDA"
   ]
  },
  {
   "cell_type": "code",
   "execution_count": 16,
   "metadata": {},
   "outputs": [
    {
     "name": "stdout",
     "output_type": "stream",
     "text": [
      "<class 'pandas.core.frame.DataFrame'>\n",
      "RangeIndex: 48839 entries, 0 to 48838\n",
      "Data columns (total 9 columns):\n",
      "album_id            48830 non-null object\n",
      "album_name          48830 non-null object\n",
      "artist_id           48830 non-null object\n",
      "artist_name         48830 non-null object\n",
      "playlist_id         48839 non-null object\n",
      "track_duration      48830 non-null float64\n",
      "track_id            48830 non-null object\n",
      "track_name          48830 non-null object\n",
      "track_popularity    48830 non-null float64\n",
      "dtypes: float64(2), object(7)\n",
      "memory usage: 3.4+ MB\n"
     ]
    }
   ],
   "source": [
    "tracks_df.info()"
   ]
  },
  {
   "cell_type": "markdown",
   "metadata": {},
   "source": [
    "#### Checking for Null Values"
   ]
  },
  {
   "cell_type": "code",
   "execution_count": 17,
   "metadata": {},
   "outputs": [
    {
     "data": {
      "text/plain": [
       "album_id            9\n",
       "album_name          9\n",
       "artist_id           9\n",
       "artist_name         9\n",
       "playlist_id         0\n",
       "track_duration      9\n",
       "track_id            9\n",
       "track_name          9\n",
       "track_popularity    9\n",
       "dtype: int64"
      ]
     },
     "execution_count": 17,
     "metadata": {},
     "output_type": "execute_result"
    }
   ],
   "source": [
    "tracks_df.isnull().sum()"
   ]
  },
  {
   "cell_type": "code",
   "execution_count": 18,
   "metadata": {},
   "outputs": [
    {
     "data": {
      "text/html": [
       "<div>\n",
       "<style scoped>\n",
       "    .dataframe tbody tr th:only-of-type {\n",
       "        vertical-align: middle;\n",
       "    }\n",
       "\n",
       "    .dataframe tbody tr th {\n",
       "        vertical-align: top;\n",
       "    }\n",
       "\n",
       "    .dataframe thead th {\n",
       "        text-align: right;\n",
       "    }\n",
       "</style>\n",
       "<table border=\"1\" class=\"dataframe\">\n",
       "  <thead>\n",
       "    <tr style=\"text-align: right;\">\n",
       "      <th></th>\n",
       "      <th>album_id</th>\n",
       "      <th>album_name</th>\n",
       "      <th>artist_id</th>\n",
       "      <th>artist_name</th>\n",
       "      <th>playlist_id</th>\n",
       "      <th>track_duration</th>\n",
       "      <th>track_id</th>\n",
       "      <th>track_name</th>\n",
       "      <th>track_popularity</th>\n",
       "    </tr>\n",
       "  </thead>\n",
       "  <tbody>\n",
       "    <tr>\n",
       "      <th>360</th>\n",
       "      <td>NaN</td>\n",
       "      <td>NaN</td>\n",
       "      <td>NaN</td>\n",
       "      <td>NaN</td>\n",
       "      <td>37i9dQZF1DXa41CMuUARjl</td>\n",
       "      <td>NaN</td>\n",
       "      <td>NaN</td>\n",
       "      <td>NaN</td>\n",
       "      <td>NaN</td>\n",
       "    </tr>\n",
       "    <tr>\n",
       "      <th>8759</th>\n",
       "      <td>NaN</td>\n",
       "      <td>NaN</td>\n",
       "      <td>NaN</td>\n",
       "      <td>NaN</td>\n",
       "      <td>37i9dQZF1DWYs2pvwxWA7l</td>\n",
       "      <td>NaN</td>\n",
       "      <td>NaN</td>\n",
       "      <td>NaN</td>\n",
       "      <td>NaN</td>\n",
       "    </tr>\n",
       "    <tr>\n",
       "      <th>10337</th>\n",
       "      <td>NaN</td>\n",
       "      <td>NaN</td>\n",
       "      <td>NaN</td>\n",
       "      <td>NaN</td>\n",
       "      <td>37i9dQZF1DWSf2RDTDayIx</td>\n",
       "      <td>NaN</td>\n",
       "      <td>NaN</td>\n",
       "      <td>NaN</td>\n",
       "      <td>NaN</td>\n",
       "    </tr>\n",
       "    <tr>\n",
       "      <th>10596</th>\n",
       "      <td>NaN</td>\n",
       "      <td>NaN</td>\n",
       "      <td>NaN</td>\n",
       "      <td>NaN</td>\n",
       "      <td>37i9dQZF1DX3YSRoSdA634</td>\n",
       "      <td>NaN</td>\n",
       "      <td>NaN</td>\n",
       "      <td>NaN</td>\n",
       "      <td>NaN</td>\n",
       "    </tr>\n",
       "    <tr>\n",
       "      <th>30008</th>\n",
       "      <td>NaN</td>\n",
       "      <td>NaN</td>\n",
       "      <td>NaN</td>\n",
       "      <td>NaN</td>\n",
       "      <td>37i9dQZF1DWT2jS7NwYPVI</td>\n",
       "      <td>NaN</td>\n",
       "      <td>NaN</td>\n",
       "      <td>NaN</td>\n",
       "      <td>NaN</td>\n",
       "    </tr>\n",
       "    <tr>\n",
       "      <th>31413</th>\n",
       "      <td>NaN</td>\n",
       "      <td>NaN</td>\n",
       "      <td>NaN</td>\n",
       "      <td>NaN</td>\n",
       "      <td>37i9dQZF1DX0Uv9tZ47pWo</td>\n",
       "      <td>NaN</td>\n",
       "      <td>NaN</td>\n",
       "      <td>NaN</td>\n",
       "      <td>NaN</td>\n",
       "    </tr>\n",
       "    <tr>\n",
       "      <th>37510</th>\n",
       "      <td>NaN</td>\n",
       "      <td>NaN</td>\n",
       "      <td>NaN</td>\n",
       "      <td>NaN</td>\n",
       "      <td>37i9dQZF1DWYkaDif7Ztbp</td>\n",
       "      <td>NaN</td>\n",
       "      <td>NaN</td>\n",
       "      <td>NaN</td>\n",
       "      <td>NaN</td>\n",
       "    </tr>\n",
       "    <tr>\n",
       "      <th>39064</th>\n",
       "      <td>NaN</td>\n",
       "      <td>NaN</td>\n",
       "      <td>NaN</td>\n",
       "      <td>NaN</td>\n",
       "      <td>37i9dQZF1DX9mHcd54VItZ</td>\n",
       "      <td>NaN</td>\n",
       "      <td>NaN</td>\n",
       "      <td>NaN</td>\n",
       "      <td>NaN</td>\n",
       "    </tr>\n",
       "    <tr>\n",
       "      <th>41037</th>\n",
       "      <td>NaN</td>\n",
       "      <td>NaN</td>\n",
       "      <td>NaN</td>\n",
       "      <td>NaN</td>\n",
       "      <td>37i9dQZF1DWXepGEFFmQXJ</td>\n",
       "      <td>NaN</td>\n",
       "      <td>NaN</td>\n",
       "      <td>NaN</td>\n",
       "      <td>NaN</td>\n",
       "    </tr>\n",
       "  </tbody>\n",
       "</table>\n",
       "</div>"
      ],
      "text/plain": [
       "      album_id album_name artist_id artist_name             playlist_id  \\\n",
       "360        NaN        NaN       NaN         NaN  37i9dQZF1DXa41CMuUARjl   \n",
       "8759       NaN        NaN       NaN         NaN  37i9dQZF1DWYs2pvwxWA7l   \n",
       "10337      NaN        NaN       NaN         NaN  37i9dQZF1DWSf2RDTDayIx   \n",
       "10596      NaN        NaN       NaN         NaN  37i9dQZF1DX3YSRoSdA634   \n",
       "30008      NaN        NaN       NaN         NaN  37i9dQZF1DWT2jS7NwYPVI   \n",
       "31413      NaN        NaN       NaN         NaN  37i9dQZF1DX0Uv9tZ47pWo   \n",
       "37510      NaN        NaN       NaN         NaN  37i9dQZF1DWYkaDif7Ztbp   \n",
       "39064      NaN        NaN       NaN         NaN  37i9dQZF1DX9mHcd54VItZ   \n",
       "41037      NaN        NaN       NaN         NaN  37i9dQZF1DWXepGEFFmQXJ   \n",
       "\n",
       "       track_duration track_id track_name  track_popularity  \n",
       "360               NaN      NaN        NaN               NaN  \n",
       "8759              NaN      NaN        NaN               NaN  \n",
       "10337             NaN      NaN        NaN               NaN  \n",
       "10596             NaN      NaN        NaN               NaN  \n",
       "30008             NaN      NaN        NaN               NaN  \n",
       "31413             NaN      NaN        NaN               NaN  \n",
       "37510             NaN      NaN        NaN               NaN  \n",
       "39064             NaN      NaN        NaN               NaN  \n",
       "41037             NaN      NaN        NaN               NaN  "
      ]
     },
     "execution_count": 18,
     "metadata": {},
     "output_type": "execute_result"
    }
   ],
   "source": [
    "tracks_df[tracks_df.isnull().any(axis=1)]"
   ]
  },
  {
   "cell_type": "markdown",
   "metadata": {},
   "source": [
    "#### Dropping for Null Values"
   ]
  },
  {
   "cell_type": "code",
   "execution_count": 19,
   "metadata": {},
   "outputs": [],
   "source": [
    "tracks_df.dropna(inplace=True)"
   ]
  },
  {
   "cell_type": "code",
   "execution_count": 20,
   "metadata": {},
   "outputs": [
    {
     "data": {
      "text/plain": [
       "0"
      ]
     },
     "execution_count": 20,
     "metadata": {},
     "output_type": "execute_result"
    }
   ],
   "source": [
    "tracks_df.isnull().sum().sum()"
   ]
  },
  {
   "cell_type": "code",
   "execution_count": 21,
   "metadata": {},
   "outputs": [
    {
     "data": {
      "text/plain": [
       "(48830, 9)"
      ]
     },
     "execution_count": 21,
     "metadata": {},
     "output_type": "execute_result"
    }
   ],
   "source": [
    "tracks_df.shape"
   ]
  },
  {
   "cell_type": "markdown",
   "metadata": {},
   "source": [
    "Our dataframe has 48k songs"
   ]
  },
  {
   "cell_type": "markdown",
   "metadata": {},
   "source": [
    "### Checking for Duplicates (Songs in Multiple Playlists)"
   ]
  },
  {
   "cell_type": "code",
   "execution_count": 22,
   "metadata": {},
   "outputs": [],
   "source": [
    "tracks_df.drop_duplicates(subset='track_id', inplace=True)"
   ]
  },
  {
   "cell_type": "code",
   "execution_count": 23,
   "metadata": {},
   "outputs": [
    {
     "data": {
      "text/plain": [
       "(37786, 9)"
      ]
     },
     "execution_count": 23,
     "metadata": {},
     "output_type": "execute_result"
    }
   ],
   "source": [
    "tracks_df.shape"
   ]
  },
  {
   "cell_type": "markdown",
   "metadata": {},
   "source": [
    "After dropping ~11k duplicate tracks, our song library now has 38k unique tracks"
   ]
  },
  {
   "cell_type": "markdown",
   "metadata": {},
   "source": [
    "## Create Artist Meta Data Lookup Table"
   ]
  },
  {
   "cell_type": "markdown",
   "metadata": {},
   "source": [
    "Next we'll grab some more meta data for a given artist. The fields of interest include:\n",
    "\n",
    "- artist_genres\n",
    "- artist_popularity\n",
    "- artist_follower_total"
   ]
  },
  {
   "cell_type": "markdown",
   "metadata": {},
   "source": [
    "### Get Set of Artist IDS"
   ]
  },
  {
   "cell_type": "code",
   "execution_count": 24,
   "metadata": {},
   "outputs": [],
   "source": [
    "unique_artist_ids = list(set(tracks_df.artist_id))"
   ]
  },
  {
   "cell_type": "markdown",
   "metadata": {},
   "source": [
    "### Create Dictionary of Artist Meta Data"
   ]
  },
  {
   "cell_type": "code",
   "execution_count": 25,
   "metadata": {},
   "outputs": [],
   "source": [
    "# artist_library = []\n",
    "# for artistid in unique_artist_ids:\n",
    "#     foobar = model.artist(artistid)\n",
    "#     artist_dict = {}\n",
    "#     try:\n",
    "#         artist_dict['artist_id'] = artistid\n",
    "#         artist_dict['artist_name'] = foobar['name']\n",
    "#         artist_dict['artist_genres'] = foobar['genres']\n",
    "#         artist_dict['artist_popularity'] = foobar['popularity']\n",
    "#         artist_dict['artist_follower_total'] = foobar['followers']['total']\n",
    "            \n",
    "#     except TypeError:\n",
    "#         pass\n",
    "#     artist_library.append(artist_dict)"
   ]
  },
  {
   "cell_type": "markdown",
   "metadata": {},
   "source": [
    "### Pickle Artist Library"
   ]
  },
  {
   "cell_type": "code",
   "execution_count": 26,
   "metadata": {},
   "outputs": [],
   "source": [
    "# import pickle\n",
    "\n",
    "# filename = 'artist_library'\n",
    "# outfile = open(filename,'wb')\n",
    "\n",
    "# pickle.dump(artist_library,outfile)\n",
    "# outfile.close()"
   ]
  },
  {
   "cell_type": "markdown",
   "metadata": {},
   "source": [
    "### Load Artist Library"
   ]
  },
  {
   "cell_type": "code",
   "execution_count": 27,
   "metadata": {},
   "outputs": [
    {
     "data": {
      "text/plain": [
       "18504"
      ]
     },
     "execution_count": 27,
     "metadata": {},
     "output_type": "execute_result"
    }
   ],
   "source": [
    "import pickle\n",
    "infile = open('../data/artist_library','rb')\n",
    "artist_library = pickle.load(infile)\n",
    "infile.close()\n",
    "\n",
    "len(artist_library)"
   ]
  },
  {
   "cell_type": "code",
   "execution_count": 28,
   "metadata": {},
   "outputs": [
    {
     "data": {
      "text/plain": [
       "{'artist_id': '56dO9zeHKuU5Gvfc2kxHNw',\n",
       " 'artist_name': 'Chevelle',\n",
       " 'artist_genres': ['alternative metal',\n",
       "  'christian rock',\n",
       "  'nu metal',\n",
       "  'post-grunge',\n",
       "  'rap rock',\n",
       "  'rock'],\n",
       " 'artist_popularity': 67,\n",
       " 'artist_follower_total': 848179}"
      ]
     },
     "execution_count": 28,
     "metadata": {},
     "output_type": "execute_result"
    }
   ],
   "source": [
    "artist_library[0]"
   ]
  },
  {
   "cell_type": "markdown",
   "metadata": {},
   "source": [
    "### Create Artist Library Data Frame"
   ]
  },
  {
   "cell_type": "markdown",
   "metadata": {},
   "source": [
    "Dropping our artist dictionary into a pandas data frame"
   ]
  },
  {
   "cell_type": "code",
   "execution_count": 29,
   "metadata": {},
   "outputs": [
    {
     "data": {
      "text/html": [
       "<div>\n",
       "<style scoped>\n",
       "    .dataframe tbody tr th:only-of-type {\n",
       "        vertical-align: middle;\n",
       "    }\n",
       "\n",
       "    .dataframe tbody tr th {\n",
       "        vertical-align: top;\n",
       "    }\n",
       "\n",
       "    .dataframe thead th {\n",
       "        text-align: right;\n",
       "    }\n",
       "</style>\n",
       "<table border=\"1\" class=\"dataframe\">\n",
       "  <thead>\n",
       "    <tr style=\"text-align: right;\">\n",
       "      <th></th>\n",
       "      <th>artist_follower_total</th>\n",
       "      <th>artist_genres</th>\n",
       "      <th>artist_id</th>\n",
       "      <th>artist_name</th>\n",
       "      <th>artist_popularity</th>\n",
       "    </tr>\n",
       "  </thead>\n",
       "  <tbody>\n",
       "    <tr>\n",
       "      <th>0</th>\n",
       "      <td>848179.0</td>\n",
       "      <td>[alternative metal, christian rock, nu metal, ...</td>\n",
       "      <td>56dO9zeHKuU5Gvfc2kxHNw</td>\n",
       "      <td>Chevelle</td>\n",
       "      <td>67</td>\n",
       "    </tr>\n",
       "    <tr>\n",
       "      <th>1</th>\n",
       "      <td>605610.0</td>\n",
       "      <td>[alternative metal, alternative rock, blues-ro...</td>\n",
       "      <td>02NfyD6AlLA12crYzw5YcR</td>\n",
       "      <td>Jane's Addiction</td>\n",
       "      <td>60</td>\n",
       "    </tr>\n",
       "    <tr>\n",
       "      <th>2</th>\n",
       "      <td>8081.0</td>\n",
       "      <td>[nordic house]</td>\n",
       "      <td>6ly2Z6h9dOerORbK1l2N8D</td>\n",
       "      <td>Coucheron</td>\n",
       "      <td>49</td>\n",
       "    </tr>\n",
       "    <tr>\n",
       "      <th>3</th>\n",
       "      <td>761.0</td>\n",
       "      <td>[]</td>\n",
       "      <td>2BBIIe7eBYThLcIrZGZb3I</td>\n",
       "      <td>Athletic Progression</td>\n",
       "      <td>31</td>\n",
       "    </tr>\n",
       "    <tr>\n",
       "      <th>4</th>\n",
       "      <td>82946.0</td>\n",
       "      <td>[britpop]</td>\n",
       "      <td>47Z8LEl3LnQkcpva0xSthT</td>\n",
       "      <td>The La's</td>\n",
       "      <td>58</td>\n",
       "    </tr>\n",
       "  </tbody>\n",
       "</table>\n",
       "</div>"
      ],
      "text/plain": [
       "   artist_follower_total                                      artist_genres  \\\n",
       "0               848179.0  [alternative metal, christian rock, nu metal, ...   \n",
       "1               605610.0  [alternative metal, alternative rock, blues-ro...   \n",
       "2                 8081.0                                     [nordic house]   \n",
       "3                  761.0                                                 []   \n",
       "4                82946.0                                          [britpop]   \n",
       "\n",
       "                artist_id           artist_name  artist_popularity  \n",
       "0  56dO9zeHKuU5Gvfc2kxHNw              Chevelle                 67  \n",
       "1  02NfyD6AlLA12crYzw5YcR      Jane's Addiction                 60  \n",
       "2  6ly2Z6h9dOerORbK1l2N8D             Coucheron                 49  \n",
       "3  2BBIIe7eBYThLcIrZGZb3I  Athletic Progression                 31  \n",
       "4  47Z8LEl3LnQkcpva0xSthT              The La's                 58  "
      ]
     },
     "execution_count": 29,
     "metadata": {},
     "output_type": "execute_result"
    }
   ],
   "source": [
    "artist_df = pd.DataFrame(artist_library)\n",
    "artist_df.head()"
   ]
  },
  {
   "cell_type": "code",
   "execution_count": 30,
   "metadata": {},
   "outputs": [
    {
     "data": {
      "text/html": [
       "<div>\n",
       "<style scoped>\n",
       "    .dataframe tbody tr th:only-of-type {\n",
       "        vertical-align: middle;\n",
       "    }\n",
       "\n",
       "    .dataframe tbody tr th {\n",
       "        vertical-align: top;\n",
       "    }\n",
       "\n",
       "    .dataframe thead th {\n",
       "        text-align: right;\n",
       "    }\n",
       "</style>\n",
       "<table border=\"1\" class=\"dataframe\">\n",
       "  <thead>\n",
       "    <tr style=\"text-align: right;\">\n",
       "      <th></th>\n",
       "      <th>artist_id</th>\n",
       "      <th>artist_name</th>\n",
       "      <th>artist_genres</th>\n",
       "      <th>artist_popularity</th>\n",
       "      <th>artist_follower_total</th>\n",
       "    </tr>\n",
       "  </thead>\n",
       "  <tbody>\n",
       "    <tr>\n",
       "      <th>0</th>\n",
       "      <td>56dO9zeHKuU5Gvfc2kxHNw</td>\n",
       "      <td>Chevelle</td>\n",
       "      <td>[alternative metal, christian rock, nu metal, ...</td>\n",
       "      <td>67</td>\n",
       "      <td>848179.0</td>\n",
       "    </tr>\n",
       "    <tr>\n",
       "      <th>1</th>\n",
       "      <td>02NfyD6AlLA12crYzw5YcR</td>\n",
       "      <td>Jane's Addiction</td>\n",
       "      <td>[alternative metal, alternative rock, blues-ro...</td>\n",
       "      <td>60</td>\n",
       "      <td>605610.0</td>\n",
       "    </tr>\n",
       "  </tbody>\n",
       "</table>\n",
       "</div>"
      ],
      "text/plain": [
       "                artist_id       artist_name  \\\n",
       "0  56dO9zeHKuU5Gvfc2kxHNw          Chevelle   \n",
       "1  02NfyD6AlLA12crYzw5YcR  Jane's Addiction   \n",
       "\n",
       "                                       artist_genres  artist_popularity  \\\n",
       "0  [alternative metal, christian rock, nu metal, ...                 67   \n",
       "1  [alternative metal, alternative rock, blues-ro...                 60   \n",
       "\n",
       "   artist_follower_total  \n",
       "0               848179.0  \n",
       "1               605610.0  "
      ]
     },
     "execution_count": 30,
     "metadata": {},
     "output_type": "execute_result"
    }
   ],
   "source": [
    "col_order = ['artist_id','artist_name', 'artist_genres','artist_popularity', 'artist_follower_total' ]\n",
    "\n",
    "artist_df = artist_df[col_order]\n",
    "artist_df.head(2)"
   ]
  },
  {
   "cell_type": "markdown",
   "metadata": {},
   "source": [
    "## Create DataFrame of Top Related Artists (Top 20)"
   ]
  },
  {
   "cell_type": "markdown",
   "metadata": {},
   "source": [
    "Next we'll grab a list of related artist for every artist in the song library (20 each)"
   ]
  },
  {
   "cell_type": "markdown",
   "metadata": {},
   "source": [
    "Example - related artist for Kanye West"
   ]
  },
  {
   "cell_type": "code",
   "execution_count": 31,
   "metadata": {},
   "outputs": [
    {
     "data": {
      "text/plain": [
       "20"
      ]
     },
     "execution_count": 31,
     "metadata": {},
     "output_type": "execute_result"
    }
   ],
   "source": [
    "len(model.artist_related_artists('5K4W6rqBFWDnAN6FQUkS6x')['artists'])"
   ]
  },
  {
   "cell_type": "code",
   "execution_count": 32,
   "metadata": {},
   "outputs": [
    {
     "data": {
      "text/plain": [
       "'Big Sean'"
      ]
     },
     "execution_count": 32,
     "metadata": {},
     "output_type": "execute_result"
    }
   ],
   "source": [
    "model.artist_related_artists('5K4W6rqBFWDnAN6FQUkS6x')['artists'][0]['name']"
   ]
  },
  {
   "cell_type": "code",
   "execution_count": 33,
   "metadata": {},
   "outputs": [
    {
     "data": {
      "text/plain": [
       "{'external_urls': {'spotify': 'https://open.spotify.com/artist/0c173mlxpT3dSFRgMO8XPh'},\n",
       " 'followers': {'href': None, 'total': 6072503},\n",
       " 'genres': ['detroit hip hop',\n",
       "  'hip hop',\n",
       "  'pop',\n",
       "  'pop rap',\n",
       "  'r&b',\n",
       "  'rap',\n",
       "  'southern hip hop',\n",
       "  'trap music'],\n",
       " 'href': 'https://api.spotify.com/v1/artists/0c173mlxpT3dSFRgMO8XPh',\n",
       " 'id': '0c173mlxpT3dSFRgMO8XPh',\n",
       " 'images': [{'height': 640,\n",
       "   'url': 'https://i.scdn.co/image/7af4c101861c482e6fdd9f33f73d037f136afe36',\n",
       "   'width': 640},\n",
       "  {'height': 320,\n",
       "   'url': 'https://i.scdn.co/image/3e078572245ba8875cc2f04fa9ac817d1aaccaff',\n",
       "   'width': 320},\n",
       "  {'height': 160,\n",
       "   'url': 'https://i.scdn.co/image/75050184de713540aab408913f2b2d53cb45974f',\n",
       "   'width': 160}],\n",
       " 'name': 'Big Sean',\n",
       " 'popularity': 84,\n",
       " 'type': 'artist',\n",
       " 'uri': 'spotify:artist:0c173mlxpT3dSFRgMO8XPh'}"
      ]
     },
     "execution_count": 33,
     "metadata": {},
     "output_type": "execute_result"
    }
   ],
   "source": [
    "model.artist_related_artists('5K4W6rqBFWDnAN6FQUkS6x')['artists'][0]"
   ]
  },
  {
   "cell_type": "markdown",
   "metadata": {},
   "source": [
    "### Store the Related Artist as a List with Nested Dictionaries"
   ]
  },
  {
   "cell_type": "code",
   "execution_count": 34,
   "metadata": {},
   "outputs": [],
   "source": [
    "# related_artist_list = []\n",
    "\n",
    "# for artistid in unique_artist_ids:\n",
    "#     try:\n",
    "#         foofoo = model.artist_related_artists(artistid)\n",
    "        \n",
    "#     except:\n",
    "#         pass\n",
    "    \n",
    "#     related_dict = {}\n",
    "#     related_ids = []\n",
    "#     related_names = []\n",
    "    \n",
    "    \n",
    "#     for artist in foofoo['artists']:\n",
    "#         try:\n",
    "#             related_ids.append(artist['id'])\n",
    "#             related_names.append(artist['name'])\n",
    "            \n",
    "#         except TypeError:\n",
    "#             pass\n",
    "        \n",
    "#     related_dict['artist_id'] = artistid\n",
    "#     related_dict['related_artist_ids'] = related_ids\n",
    "#     related_dict['related_artist_names'] = related_names\n",
    "    \n",
    "#     related_artist_list.append(related_dict)"
   ]
  },
  {
   "cell_type": "markdown",
   "metadata": {},
   "source": [
    "### Pickle the Related Artists Table"
   ]
  },
  {
   "cell_type": "code",
   "execution_count": 35,
   "metadata": {},
   "outputs": [],
   "source": [
    "# import pickle\n",
    "\n",
    "# filename = 'related_artist_list'\n",
    "# outfile = open(filename,'wb')\n",
    "\n",
    "# pickle.dump(related_artist_list,outfile)\n",
    "# outfile.close()"
   ]
  },
  {
   "cell_type": "markdown",
   "metadata": {},
   "source": [
    "### Load Related Artists Table"
   ]
  },
  {
   "cell_type": "code",
   "execution_count": 36,
   "metadata": {},
   "outputs": [
    {
     "data": {
      "text/plain": [
       "18504"
      ]
     },
     "execution_count": 36,
     "metadata": {},
     "output_type": "execute_result"
    }
   ],
   "source": [
    "import pickle\n",
    "infile = open('../data/related_artist_list','rb')\n",
    "related_artist_list = pickle.load(infile)\n",
    "infile.close()\n",
    "\n",
    "len(related_artist_list)"
   ]
  },
  {
   "cell_type": "code",
   "execution_count": 37,
   "metadata": {},
   "outputs": [
    {
     "data": {
      "text/plain": [
       "{'artist_id': '1Bo8Afb2Qbjs4x6kJHyjle',\n",
       " 'related_artist_ids': ['3ZPRZDAAuBrvx1tsIjeFxh',\n",
       "  '0NDElNqwGRCmsYIQFapp6K',\n",
       "  '2pts5B2shsEtIVC4onTFKb',\n",
       "  '3U6FqAuXdKYRrGUIyv9MWa',\n",
       "  '6G6wGudDVkxMg6SaCF0bdF',\n",
       "  '3E4UsjXgFv2GdwshMkkJze',\n",
       "  '0aF0pIALJDBCfFgqiTaK2g',\n",
       "  '6ZPZXXnq3PbxZSR9vu9fso',\n",
       "  '6BVLQfvzlvlNZ43WjbFgbI',\n",
       "  '7yIZvf93cvym5UEV2IGd8D',\n",
       "  '0AfNNw1LS2i9KW4icd7inD',\n",
       "  '0vUTfcBDZZo2OUQJci5UNZ',\n",
       "  '1XFbnj1jNNzzyg46ni3dnr',\n",
       "  '3cIXmCH7iNcslTbwrwS7zy',\n",
       "  '5UVzX8pQe6bb5ueNdfViih',\n",
       "  '0a03X57i18eG1yBzpmhZAs',\n",
       "  '1Zz6NBe8UIZjm88TvehFtx',\n",
       "  '6G5wDM1Vmsscql7qRtcLH0',\n",
       "  '557CpM84Dx90EAXTDqDj9H',\n",
       "  '6xmvWip8eqRc5jqv2bHg9j'],\n",
       " 'related_artist_names': ['Pat Lok',\n",
       "  'Oliver',\n",
       "  'Zimmer',\n",
       "  'Les Loups',\n",
       "  'Sam Padrul',\n",
       "  'Kartell',\n",
       "  'Keljet',\n",
       "  'JackLNDN',\n",
       "  'Jean Tonique',\n",
       "  'Jupiter',\n",
       "  'Fred Falke',\n",
       "  'Classixx',\n",
       "  'Moullinex',\n",
       "  'Moon Boots',\n",
       "  'Chris Malinchak',\n",
       "  'Louis La Roche',\n",
       "  'Le Youth',\n",
       "  'French Horn Rebellion',\n",
       "  'Chordashian',\n",
       "  'Cherokee']}"
      ]
     },
     "execution_count": 37,
     "metadata": {},
     "output_type": "execute_result"
    }
   ],
   "source": [
    "related_artist_list[0]"
   ]
  },
  {
   "cell_type": "markdown",
   "metadata": {},
   "source": [
    "## Get Track Audio Features"
   ]
  },
  {
   "cell_type": "markdown",
   "metadata": {},
   "source": [
    "Next we'll grab all the audio features for a given track. Data collected includes (we'll describe these features in more detail in our EDA notebook):\n",
    "\n",
    "- danceability\n",
    "- energy\n",
    "- key\n",
    "- loudness\n",
    "- mode\n",
    "- speechiness\n",
    "- acousticness\n",
    "- instrumentalness\n",
    "- liveness\n",
    "- valence\n",
    "- tempo"
   ]
  },
  {
   "cell_type": "markdown",
   "metadata": {},
   "source": [
    "### Get Unique List of Track IDs"
   ]
  },
  {
   "cell_type": "code",
   "execution_count": 38,
   "metadata": {},
   "outputs": [],
   "source": [
    "unique_track_ids = list(set(tracks_df.track_id))"
   ]
  },
  {
   "cell_type": "code",
   "execution_count": 39,
   "metadata": {},
   "outputs": [
    {
     "data": {
      "text/plain": [
       "37786"
      ]
     },
     "execution_count": 39,
     "metadata": {},
     "output_type": "execute_result"
    }
   ],
   "source": [
    "len(unique_track_ids)"
   ]
  },
  {
   "cell_type": "markdown",
   "metadata": {},
   "source": [
    "## Create Dictionary of Track Audio Features"
   ]
  },
  {
   "cell_type": "code",
   "execution_count": 40,
   "metadata": {},
   "outputs": [],
   "source": [
    "# tracks_features = []\n",
    "# for trackid in unique_track_ids:\n",
    "# #     if len(tracks_features) > 50:\n",
    "# #         print(\"Scrapper working\")\n",
    "# #         break\n",
    "#     try:\n",
    "#         bar = model.audio_features(trackid)\n",
    "    \n",
    "#     except:\n",
    "#         pass\n",
    "#     tracks_features.append(bar[0])"
   ]
  },
  {
   "cell_type": "markdown",
   "metadata": {},
   "source": [
    "### Pickle Tracks Features"
   ]
  },
  {
   "cell_type": "code",
   "execution_count": 41,
   "metadata": {},
   "outputs": [],
   "source": [
    "# import pickle\n",
    "\n",
    "# filename = 'track_features'\n",
    "# outfile = open(filename,'wb')\n",
    "\n",
    "# pickle.dump(tracks_features,outfile)\n",
    "# outfile.close()"
   ]
  },
  {
   "cell_type": "code",
   "execution_count": 42,
   "metadata": {},
   "outputs": [
    {
     "data": {
      "text/plain": [
       "37786"
      ]
     },
     "execution_count": 42,
     "metadata": {},
     "output_type": "execute_result"
    }
   ],
   "source": [
    "import pickle\n",
    "infile = open('../data/track_features','rb')\n",
    "track_features = pickle.load(infile)\n",
    "infile.close()\n",
    "\n",
    "len(track_features)"
   ]
  },
  {
   "cell_type": "code",
   "execution_count": 43,
   "metadata": {},
   "outputs": [
    {
     "data": {
      "text/plain": [
       "{'danceability': 0.764,\n",
       " 'energy': 0.587,\n",
       " 'key': 5,\n",
       " 'loudness': -7.002,\n",
       " 'mode': 0,\n",
       " 'speechiness': 0.0298,\n",
       " 'acousticness': 0.0721,\n",
       " 'instrumentalness': 6.45e-06,\n",
       " 'liveness': 0.094,\n",
       " 'valence': 0.494,\n",
       " 'tempo': 89.98,\n",
       " 'type': 'audio_features',\n",
       " 'id': '2NEBP8SXEqwZt2PRdPXXuy',\n",
       " 'uri': 'spotify:track:2NEBP8SXEqwZt2PRdPXXuy',\n",
       " 'track_href': 'https://api.spotify.com/v1/tracks/2NEBP8SXEqwZt2PRdPXXuy',\n",
       " 'analysis_url': 'https://api.spotify.com/v1/audio-analysis/2NEBP8SXEqwZt2PRdPXXuy',\n",
       " 'duration_ms': 229573,\n",
       " 'time_signature': 4}"
      ]
     },
     "execution_count": 43,
     "metadata": {},
     "output_type": "execute_result"
    }
   ],
   "source": [
    "track_features[0]"
   ]
  },
  {
   "cell_type": "markdown",
   "metadata": {},
   "source": [
    "### Track Features DataFrame"
   ]
  },
  {
   "cell_type": "code",
   "execution_count": 44,
   "metadata": {},
   "outputs": [
    {
     "data": {
      "text/html": [
       "<div>\n",
       "<style scoped>\n",
       "    .dataframe tbody tr th:only-of-type {\n",
       "        vertical-align: middle;\n",
       "    }\n",
       "\n",
       "    .dataframe tbody tr th {\n",
       "        vertical-align: top;\n",
       "    }\n",
       "\n",
       "    .dataframe thead th {\n",
       "        text-align: right;\n",
       "    }\n",
       "</style>\n",
       "<table border=\"1\" class=\"dataframe\">\n",
       "  <thead>\n",
       "    <tr style=\"text-align: right;\">\n",
       "      <th></th>\n",
       "      <th>acousticness</th>\n",
       "      <th>analysis_url</th>\n",
       "      <th>danceability</th>\n",
       "      <th>duration_ms</th>\n",
       "      <th>energy</th>\n",
       "      <th>id</th>\n",
       "      <th>instrumentalness</th>\n",
       "      <th>key</th>\n",
       "      <th>liveness</th>\n",
       "      <th>loudness</th>\n",
       "      <th>mode</th>\n",
       "      <th>speechiness</th>\n",
       "      <th>tempo</th>\n",
       "      <th>time_signature</th>\n",
       "      <th>track_href</th>\n",
       "      <th>type</th>\n",
       "      <th>uri</th>\n",
       "      <th>valence</th>\n",
       "    </tr>\n",
       "  </thead>\n",
       "  <tbody>\n",
       "    <tr>\n",
       "      <th>0</th>\n",
       "      <td>0.0721</td>\n",
       "      <td>https://api.spotify.com/v1/audio-analysis/2NEB...</td>\n",
       "      <td>0.764</td>\n",
       "      <td>229573</td>\n",
       "      <td>0.587</td>\n",
       "      <td>2NEBP8SXEqwZt2PRdPXXuy</td>\n",
       "      <td>0.000006</td>\n",
       "      <td>5</td>\n",
       "      <td>0.0940</td>\n",
       "      <td>-7.002</td>\n",
       "      <td>0</td>\n",
       "      <td>0.0298</td>\n",
       "      <td>89.980</td>\n",
       "      <td>4</td>\n",
       "      <td>https://api.spotify.com/v1/tracks/2NEBP8SXEqwZ...</td>\n",
       "      <td>audio_features</td>\n",
       "      <td>spotify:track:2NEBP8SXEqwZt2PRdPXXuy</td>\n",
       "      <td>0.494</td>\n",
       "    </tr>\n",
       "    <tr>\n",
       "      <th>1</th>\n",
       "      <td>0.1530</td>\n",
       "      <td>https://api.spotify.com/v1/audio-analysis/1xda...</td>\n",
       "      <td>0.758</td>\n",
       "      <td>158219</td>\n",
       "      <td>0.506</td>\n",
       "      <td>1xda2R5cSP7GKlqXY3Pji2</td>\n",
       "      <td>0.012600</td>\n",
       "      <td>0</td>\n",
       "      <td>0.1640</td>\n",
       "      <td>-8.788</td>\n",
       "      <td>1</td>\n",
       "      <td>0.0359</td>\n",
       "      <td>129.935</td>\n",
       "      <td>4</td>\n",
       "      <td>https://api.spotify.com/v1/tracks/1xda2R5cSP7G...</td>\n",
       "      <td>audio_features</td>\n",
       "      <td>spotify:track:1xda2R5cSP7GKlqXY3Pji2</td>\n",
       "      <td>0.687</td>\n",
       "    </tr>\n",
       "    <tr>\n",
       "      <th>2</th>\n",
       "      <td>0.0053</td>\n",
       "      <td>https://api.spotify.com/v1/audio-analysis/16QN...</td>\n",
       "      <td>0.808</td>\n",
       "      <td>172427</td>\n",
       "      <td>0.581</td>\n",
       "      <td>16QN8cBubEq706vNtPpOME</td>\n",
       "      <td>0.000012</td>\n",
       "      <td>11</td>\n",
       "      <td>0.0828</td>\n",
       "      <td>-5.430</td>\n",
       "      <td>1</td>\n",
       "      <td>0.0700</td>\n",
       "      <td>130.012</td>\n",
       "      <td>4</td>\n",
       "      <td>https://api.spotify.com/v1/tracks/16QN8cBubEq7...</td>\n",
       "      <td>audio_features</td>\n",
       "      <td>spotify:track:16QN8cBubEq706vNtPpOME</td>\n",
       "      <td>0.758</td>\n",
       "    </tr>\n",
       "    <tr>\n",
       "      <th>3</th>\n",
       "      <td>0.1150</td>\n",
       "      <td>https://api.spotify.com/v1/audio-analysis/0DVe...</td>\n",
       "      <td>0.829</td>\n",
       "      <td>249000</td>\n",
       "      <td>0.710</td>\n",
       "      <td>0DVevhcLPiHoLaVyl6dSGr</td>\n",
       "      <td>0.145000</td>\n",
       "      <td>11</td>\n",
       "      <td>0.0541</td>\n",
       "      <td>-8.736</td>\n",
       "      <td>1</td>\n",
       "      <td>0.0415</td>\n",
       "      <td>98.293</td>\n",
       "      <td>4</td>\n",
       "      <td>https://api.spotify.com/v1/tracks/0DVevhcLPiHo...</td>\n",
       "      <td>audio_features</td>\n",
       "      <td>spotify:track:0DVevhcLPiHoLaVyl6dSGr</td>\n",
       "      <td>0.949</td>\n",
       "    </tr>\n",
       "    <tr>\n",
       "      <th>4</th>\n",
       "      <td>0.8880</td>\n",
       "      <td>https://api.spotify.com/v1/audio-analysis/78GA...</td>\n",
       "      <td>0.734</td>\n",
       "      <td>182027</td>\n",
       "      <td>0.499</td>\n",
       "      <td>78GAfIYfFDN22ezrrRWiAE</td>\n",
       "      <td>0.000000</td>\n",
       "      <td>4</td>\n",
       "      <td>0.3880</td>\n",
       "      <td>-8.348</td>\n",
       "      <td>0</td>\n",
       "      <td>0.1520</td>\n",
       "      <td>111.125</td>\n",
       "      <td>4</td>\n",
       "      <td>https://api.spotify.com/v1/tracks/78GAfIYfFDN2...</td>\n",
       "      <td>audio_features</td>\n",
       "      <td>spotify:track:78GAfIYfFDN22ezrrRWiAE</td>\n",
       "      <td>0.750</td>\n",
       "    </tr>\n",
       "  </tbody>\n",
       "</table>\n",
       "</div>"
      ],
      "text/plain": [
       "   acousticness                                       analysis_url  \\\n",
       "0        0.0721  https://api.spotify.com/v1/audio-analysis/2NEB...   \n",
       "1        0.1530  https://api.spotify.com/v1/audio-analysis/1xda...   \n",
       "2        0.0053  https://api.spotify.com/v1/audio-analysis/16QN...   \n",
       "3        0.1150  https://api.spotify.com/v1/audio-analysis/0DVe...   \n",
       "4        0.8880  https://api.spotify.com/v1/audio-analysis/78GA...   \n",
       "\n",
       "   danceability  duration_ms  energy                      id  \\\n",
       "0         0.764       229573   0.587  2NEBP8SXEqwZt2PRdPXXuy   \n",
       "1         0.758       158219   0.506  1xda2R5cSP7GKlqXY3Pji2   \n",
       "2         0.808       172427   0.581  16QN8cBubEq706vNtPpOME   \n",
       "3         0.829       249000   0.710  0DVevhcLPiHoLaVyl6dSGr   \n",
       "4         0.734       182027   0.499  78GAfIYfFDN22ezrrRWiAE   \n",
       "\n",
       "   instrumentalness  key  liveness  loudness  mode  speechiness    tempo  \\\n",
       "0          0.000006    5    0.0940    -7.002     0       0.0298   89.980   \n",
       "1          0.012600    0    0.1640    -8.788     1       0.0359  129.935   \n",
       "2          0.000012   11    0.0828    -5.430     1       0.0700  130.012   \n",
       "3          0.145000   11    0.0541    -8.736     1       0.0415   98.293   \n",
       "4          0.000000    4    0.3880    -8.348     0       0.1520  111.125   \n",
       "\n",
       "   time_signature                                         track_href  \\\n",
       "0               4  https://api.spotify.com/v1/tracks/2NEBP8SXEqwZ...   \n",
       "1               4  https://api.spotify.com/v1/tracks/1xda2R5cSP7G...   \n",
       "2               4  https://api.spotify.com/v1/tracks/16QN8cBubEq7...   \n",
       "3               4  https://api.spotify.com/v1/tracks/0DVevhcLPiHo...   \n",
       "4               4  https://api.spotify.com/v1/tracks/78GAfIYfFDN2...   \n",
       "\n",
       "             type                                   uri  valence  \n",
       "0  audio_features  spotify:track:2NEBP8SXEqwZt2PRdPXXuy    0.494  \n",
       "1  audio_features  spotify:track:1xda2R5cSP7GKlqXY3Pji2    0.687  \n",
       "2  audio_features  spotify:track:16QN8cBubEq706vNtPpOME    0.758  \n",
       "3  audio_features  spotify:track:0DVevhcLPiHoLaVyl6dSGr    0.949  \n",
       "4  audio_features  spotify:track:78GAfIYfFDN22ezrrRWiAE    0.750  "
      ]
     },
     "execution_count": 44,
     "metadata": {},
     "output_type": "execute_result"
    }
   ],
   "source": [
    "df_track_features = pd.DataFrame(data = track_features)\n",
    "df_track_features.head()"
   ]
  },
  {
   "cell_type": "code",
   "execution_count": 45,
   "metadata": {},
   "outputs": [
    {
     "data": {
      "text/plain": [
       "(37786, 18)"
      ]
     },
     "execution_count": 45,
     "metadata": {},
     "output_type": "execute_result"
    }
   ],
   "source": [
    "df_track_features.shape"
   ]
  }
 ],
 "metadata": {
  "kernelspec": {
   "display_name": "Python 3",
   "language": "python",
   "name": "python3"
  },
  "language_info": {
   "codemirror_mode": {
    "name": "ipython",
    "version": 3
   },
   "file_extension": ".py",
   "mimetype": "text/x-python",
   "name": "python",
   "nbconvert_exporter": "python",
   "pygments_lexer": "ipython3",
   "version": "3.7.1"
  }
 },
 "nbformat": 4,
 "nbformat_minor": 2
}
