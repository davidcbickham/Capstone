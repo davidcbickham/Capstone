{
 "cells": [
  {
   "cell_type": "code",
   "execution_count": 6,
   "metadata": {},
   "outputs": [],
   "source": [
    "import pandas as pd\n",
    "import matplotlib.pyplot as plt"
   ]
  },
  {
   "cell_type": "code",
   "execution_count": 2,
   "metadata": {},
   "outputs": [],
   "source": [
    "df = pd.read_csv('df_combined.csv')"
   ]
  },
  {
   "cell_type": "code",
   "execution_count": 3,
   "metadata": {},
   "outputs": [
    {
     "data": {
      "text/plain": [
       "(37786, 23)"
      ]
     },
     "execution_count": 3,
     "metadata": {},
     "output_type": "execute_result"
    }
   ],
   "source": [
    "df.shape"
   ]
  },
  {
   "cell_type": "code",
   "execution_count": 4,
   "metadata": {},
   "outputs": [
    {
     "data": {
      "text/plain": [
       "Index(['Unnamed: 0', 'track_id', 'track_name', 'artist_id', 'artist_name',\n",
       "       'album_id', 'album_name', 'playlist_id', 'track_popularity',\n",
       "       'track_duration', 'artist_popularity', 'artist_follower_total',\n",
       "       'danceability', 'energy', 'key', 'loudness', 'mode', 'speechiness',\n",
       "       'acousticness', 'instrumentalness', 'liveness', 'valence', 'tempo'],\n",
       "      dtype='object')"
      ]
     },
     "execution_count": 4,
     "metadata": {},
     "output_type": "execute_result"
    }
   ],
   "source": [
    "df.columns"
   ]
  },
  {
   "cell_type": "code",
   "execution_count": 5,
   "metadata": {},
   "outputs": [
    {
     "data": {
      "text/html": [
       "<div>\n",
       "<style scoped>\n",
       "    .dataframe tbody tr th:only-of-type {\n",
       "        vertical-align: middle;\n",
       "    }\n",
       "\n",
       "    .dataframe tbody tr th {\n",
       "        vertical-align: top;\n",
       "    }\n",
       "\n",
       "    .dataframe thead th {\n",
       "        text-align: right;\n",
       "    }\n",
       "</style>\n",
       "<table border=\"1\" class=\"dataframe\">\n",
       "  <thead>\n",
       "    <tr style=\"text-align: right;\">\n",
       "      <th></th>\n",
       "      <th>Unnamed: 0</th>\n",
       "      <th>track_id</th>\n",
       "      <th>track_name</th>\n",
       "      <th>artist_id</th>\n",
       "      <th>artist_name</th>\n",
       "      <th>album_id</th>\n",
       "      <th>album_name</th>\n",
       "      <th>playlist_id</th>\n",
       "      <th>track_popularity</th>\n",
       "      <th>track_duration</th>\n",
       "      <th>...</th>\n",
       "      <th>energy</th>\n",
       "      <th>key</th>\n",
       "      <th>loudness</th>\n",
       "      <th>mode</th>\n",
       "      <th>speechiness</th>\n",
       "      <th>acousticness</th>\n",
       "      <th>instrumentalness</th>\n",
       "      <th>liveness</th>\n",
       "      <th>valence</th>\n",
       "      <th>tempo</th>\n",
       "    </tr>\n",
       "  </thead>\n",
       "  <tbody>\n",
       "    <tr>\n",
       "      <th>0</th>\n",
       "      <td>0</td>\n",
       "      <td>7DQ5CZjAQdhgDgdnSXxJ7Z</td>\n",
       "      <td>Solid Gold</td>\n",
       "      <td>6n28c9qs9hNGriNa72b26u</td>\n",
       "      <td>PNAU</td>\n",
       "      <td>3g0mfsWlOOUNheV5L3kQKs</td>\n",
       "      <td>Solid Gold</td>\n",
       "      <td>37i9dQZF1DX4dyzvuaRJ0n</td>\n",
       "      <td>58.0</td>\n",
       "      <td>208367.0</td>\n",
       "      <td>...</td>\n",
       "      <td>0.946</td>\n",
       "      <td>5.0</td>\n",
       "      <td>-2.245</td>\n",
       "      <td>0.0</td>\n",
       "      <td>0.0541</td>\n",
       "      <td>0.0978</td>\n",
       "      <td>0.000001</td>\n",
       "      <td>0.0836</td>\n",
       "      <td>0.2950</td>\n",
       "      <td>104.983</td>\n",
       "    </tr>\n",
       "    <tr>\n",
       "      <th>1</th>\n",
       "      <td>1</td>\n",
       "      <td>5p1ex0pXv6jSPJ6QbumQpD</td>\n",
       "      <td>Piece Of Your Heart</td>\n",
       "      <td>0xRXCcSX89eobfrshSVdyu</td>\n",
       "      <td>MEDUZA</td>\n",
       "      <td>0agqVZjOqVtqHkq3pTFPXb</td>\n",
       "      <td>Piece Of Your Heart</td>\n",
       "      <td>37i9dQZF1DX4dyzvuaRJ0n</td>\n",
       "      <td>87.0</td>\n",
       "      <td>152913.0</td>\n",
       "      <td>...</td>\n",
       "      <td>0.744</td>\n",
       "      <td>10.0</td>\n",
       "      <td>-6.806</td>\n",
       "      <td>0.0</td>\n",
       "      <td>0.0295</td>\n",
       "      <td>0.0404</td>\n",
       "      <td>0.000160</td>\n",
       "      <td>0.0740</td>\n",
       "      <td>0.6310</td>\n",
       "      <td>124.080</td>\n",
       "    </tr>\n",
       "    <tr>\n",
       "      <th>2</th>\n",
       "      <td>2</td>\n",
       "      <td>1ahVFh0ViDZr8LvkEVlq3B</td>\n",
       "      <td>No Sleep (feat. Bonn)</td>\n",
       "      <td>60d24wfXkVzDSfLS6hyCjZ</td>\n",
       "      <td>Martin Garrix</td>\n",
       "      <td>7KJTuTXYSnBGNgAxte3CSg</td>\n",
       "      <td>No Sleep (feat. Bonn)</td>\n",
       "      <td>37i9dQZF1DX4dyzvuaRJ0n</td>\n",
       "      <td>84.0</td>\n",
       "      <td>207094.0</td>\n",
       "      <td>...</td>\n",
       "      <td>0.635</td>\n",
       "      <td>11.0</td>\n",
       "      <td>-6.385</td>\n",
       "      <td>1.0</td>\n",
       "      <td>0.0326</td>\n",
       "      <td>0.1290</td>\n",
       "      <td>0.000000</td>\n",
       "      <td>0.1210</td>\n",
       "      <td>0.3270</td>\n",
       "      <td>128.133</td>\n",
       "    </tr>\n",
       "    <tr>\n",
       "      <th>3</th>\n",
       "      <td>3</td>\n",
       "      <td>6nDKrPlXdpomGBgAlO7UdP</td>\n",
       "      <td>SOS</td>\n",
       "      <td>1vCWHaC5f2uS3yhpwWbIA6</td>\n",
       "      <td>Avicii</td>\n",
       "      <td>7Jx7doYIXITyR2LQB0Hvbc</td>\n",
       "      <td>SOS</td>\n",
       "      <td>37i9dQZF1DX4dyzvuaRJ0n</td>\n",
       "      <td>95.0</td>\n",
       "      <td>157202.0</td>\n",
       "      <td>...</td>\n",
       "      <td>0.645</td>\n",
       "      <td>5.0</td>\n",
       "      <td>-6.181</td>\n",
       "      <td>0.0</td>\n",
       "      <td>0.0715</td>\n",
       "      <td>0.2720</td>\n",
       "      <td>0.000000</td>\n",
       "      <td>0.1190</td>\n",
       "      <td>0.3760</td>\n",
       "      <td>100.001</td>\n",
       "    </tr>\n",
       "    <tr>\n",
       "      <th>4</th>\n",
       "      <td>4</td>\n",
       "      <td>5TL9e2xgtvJFtNCBsq1CgX</td>\n",
       "      <td>Changa - Blanke Remix</td>\n",
       "      <td>6n28c9qs9hNGriNa72b26u</td>\n",
       "      <td>PNAU</td>\n",
       "      <td>5kwv2A2qAK8pN007hSA56t</td>\n",
       "      <td>Changa</td>\n",
       "      <td>37i9dQZF1DX4dyzvuaRJ0n</td>\n",
       "      <td>59.0</td>\n",
       "      <td>188470.0</td>\n",
       "      <td>...</td>\n",
       "      <td>0.789</td>\n",
       "      <td>9.0</td>\n",
       "      <td>-5.546</td>\n",
       "      <td>1.0</td>\n",
       "      <td>0.0431</td>\n",
       "      <td>0.0330</td>\n",
       "      <td>0.119000</td>\n",
       "      <td>0.2720</td>\n",
       "      <td>0.0654</td>\n",
       "      <td>110.086</td>\n",
       "    </tr>\n",
       "  </tbody>\n",
       "</table>\n",
       "<p>5 rows × 23 columns</p>\n",
       "</div>"
      ],
      "text/plain": [
       "   Unnamed: 0                track_id             track_name  \\\n",
       "0           0  7DQ5CZjAQdhgDgdnSXxJ7Z             Solid Gold   \n",
       "1           1  5p1ex0pXv6jSPJ6QbumQpD    Piece Of Your Heart   \n",
       "2           2  1ahVFh0ViDZr8LvkEVlq3B  No Sleep (feat. Bonn)   \n",
       "3           3  6nDKrPlXdpomGBgAlO7UdP                    SOS   \n",
       "4           4  5TL9e2xgtvJFtNCBsq1CgX  Changa - Blanke Remix   \n",
       "\n",
       "                artist_id    artist_name                album_id  \\\n",
       "0  6n28c9qs9hNGriNa72b26u           PNAU  3g0mfsWlOOUNheV5L3kQKs   \n",
       "1  0xRXCcSX89eobfrshSVdyu         MEDUZA  0agqVZjOqVtqHkq3pTFPXb   \n",
       "2  60d24wfXkVzDSfLS6hyCjZ  Martin Garrix  7KJTuTXYSnBGNgAxte3CSg   \n",
       "3  1vCWHaC5f2uS3yhpwWbIA6         Avicii  7Jx7doYIXITyR2LQB0Hvbc   \n",
       "4  6n28c9qs9hNGriNa72b26u           PNAU  5kwv2A2qAK8pN007hSA56t   \n",
       "\n",
       "              album_name             playlist_id  track_popularity  \\\n",
       "0             Solid Gold  37i9dQZF1DX4dyzvuaRJ0n              58.0   \n",
       "1    Piece Of Your Heart  37i9dQZF1DX4dyzvuaRJ0n              87.0   \n",
       "2  No Sleep (feat. Bonn)  37i9dQZF1DX4dyzvuaRJ0n              84.0   \n",
       "3                    SOS  37i9dQZF1DX4dyzvuaRJ0n              95.0   \n",
       "4                 Changa  37i9dQZF1DX4dyzvuaRJ0n              59.0   \n",
       "\n",
       "   track_duration  ...  energy   key  loudness  mode  speechiness  \\\n",
       "0        208367.0  ...   0.946   5.0    -2.245   0.0       0.0541   \n",
       "1        152913.0  ...   0.744  10.0    -6.806   0.0       0.0295   \n",
       "2        207094.0  ...   0.635  11.0    -6.385   1.0       0.0326   \n",
       "3        157202.0  ...   0.645   5.0    -6.181   0.0       0.0715   \n",
       "4        188470.0  ...   0.789   9.0    -5.546   1.0       0.0431   \n",
       "\n",
       "   acousticness  instrumentalness  liveness  valence    tempo  \n",
       "0        0.0978          0.000001    0.0836   0.2950  104.983  \n",
       "1        0.0404          0.000160    0.0740   0.6310  124.080  \n",
       "2        0.1290          0.000000    0.1210   0.3270  128.133  \n",
       "3        0.2720          0.000000    0.1190   0.3760  100.001  \n",
       "4        0.0330          0.119000    0.2720   0.0654  110.086  \n",
       "\n",
       "[5 rows x 23 columns]"
      ]
     },
     "execution_count": 5,
     "metadata": {},
     "output_type": "execute_result"
    }
   ],
   "source": [
    "df.head()"
   ]
  },
  {
   "cell_type": "code",
   "execution_count": 7,
   "metadata": {},
   "outputs": [
    {
     "name": "stderr",
     "output_type": "stream",
     "text": [
      "/Users/davidbickham/anaconda3/lib/python3.7/site-packages/numpy/lib/histograms.py:824: RuntimeWarning: invalid value encountered in greater_equal\n",
      "  keep = (tmp_a >= first_edge)\n",
      "/Users/davidbickham/anaconda3/lib/python3.7/site-packages/numpy/lib/histograms.py:825: RuntimeWarning: invalid value encountered in less_equal\n",
      "  keep &= (tmp_a <= last_edge)\n"
     ]
    },
    {
     "data": {
      "text/plain": [
       "(array([ 236.,  683., 1182., 2293., 4153., 5906., 6885., 6309., 3514.,\n",
       "         691.]),\n",
       " array([0.    , 0.0989, 0.1978, 0.2967, 0.3956, 0.4945, 0.5934, 0.6923,\n",
       "        0.7912, 0.8901, 0.989 ]),\n",
       " <a list of 10 Patch objects>)"
      ]
     },
     "execution_count": 7,
     "metadata": {},
     "output_type": "execute_result"
    },
    {
     "data": {
      "image/png": "[encoded data removed]",
      "text/plain": [
       "<Figure size 432x288 with 1 Axes>"
      ]
     },
     "metadata": {
      "needs_background": "light"
     },
     "output_type": "display_data"
    }
   ],
   "source": [
    "plt.hist(df.danceability)"
   ]
  },
  {
   "cell_type": "code",
   "execution_count": 8,
   "metadata": {},
   "outputs": [
    {
     "data": {
      "text/plain": [
       "(array([1374., 1354., 1722., 2187., 3189., 3817., 4378., 4720., 4809.,\n",
       "        4302.]),\n",
       " array([0. , 0.1, 0.2, 0.3, 0.4, 0.5, 0.6, 0.7, 0.8, 0.9, 1. ]),\n",
       " <a list of 10 Patch objects>)"
      ]
     },
     "execution_count": 8,
     "metadata": {},
     "output_type": "execute_result"
    },
    {
     "data": {
      "image/png": "[encoded data removed]",
      "text/plain": [
       "<Figure size 432x288 with 1 Axes>"
      ]
     },
     "metadata": {
      "needs_background": "light"
     },
     "output_type": "display_data"
    }
   ],
   "source": [
    "plt.hist(df.energy)"
   ]
  },
  {
   "cell_type": "code",
   "execution_count": 9,
   "metadata": {},
   "outputs": [
    {
     "data": {
      "text/plain": [
       "(array([   20.,    38.,    34.,    81.,   249.,   652.,  1407.,  5767.,\n",
       "        19004.,  4600.]),\n",
       " array([-58.555, -52.541, -46.527, -40.513, -34.499, -28.485, -22.471,\n",
       "        -16.457, -10.443,  -4.429,   1.585]),\n",
       " <a list of 10 Patch objects>)"
      ]
     },
     "execution_count": 9,
     "metadata": {},
     "output_type": "execute_result"
    },
    {
     "data": {
      "image/png": "[encoded data removed]",
      "text/plain": [
       "<Figure size 432x288 with 1 Axes>"
      ]
     },
     "metadata": {
      "needs_background": "light"
     },
     "output_type": "display_data"
    }
   ],
   "source": [
    "plt.hist(df.loudness)"
   ]
  },
  {
   "cell_type": "code",
   "execution_count": 10,
   "metadata": {},
   "outputs": [
    {
     "data": {
      "text/plain": [
       "(array([ 429., 1157., 3244., 7428., 9416., 8643., 5201., 1848.,  364.,\n",
       "          56.]),\n",
       " array([  0.,  10.,  20.,  30.,  40.,  50.,  60.,  70.,  80.,  90., 100.]),\n",
       " <a list of 10 Patch objects>)"
      ]
     },
     "execution_count": 10,
     "metadata": {},
     "output_type": "execute_result"
    },
    {
     "data": {
      "image/png": "[encoded data removed]",
      "text/plain": [
       "<Figure size 432x288 with 1 Axes>"
      ]
     },
     "metadata": {
      "needs_background": "light"
     },
     "output_type": "display_data"
    }
   ],
   "source": [
    "plt.hist(df.track_popularity)"
   ]
  },
  {
   "cell_type": "code",
   "execution_count": 11,
   "metadata": {},
   "outputs": [
    {
     "name": "stderr",
     "output_type": "stream",
     "text": [
      "/Users/davidbickham/anaconda3/lib/python3.7/site-packages/numpy/lib/histograms.py:824: RuntimeWarning: invalid value encountered in greater_equal\n",
      "  keep = (tmp_a >= first_edge)\n",
      "/Users/davidbickham/anaconda3/lib/python3.7/site-packages/numpy/lib/histograms.py:825: RuntimeWarning: invalid value encountered in less_equal\n",
      "  keep &= (tmp_a <= last_edge)\n"
     ]
    },
    {
     "data": {
      "text/plain": [
       "(array([22614.,   919.,   633.,   483.,   455.,   497.,   615.,   963.,\n",
       "         2430.,  2243.]),\n",
       " array([0. , 0.1, 0.2, 0.3, 0.4, 0.5, 0.6, 0.7, 0.8, 0.9, 1. ]),\n",
       " <a list of 10 Patch objects>)"
      ]
     },
     "execution_count": 11,
     "metadata": {},
     "output_type": "execute_result"
    },
    {
     "data": {
      "image/png": "[encoded data removed]",
      "text/plain": [
       "<Figure size 432x288 with 1 Axes>"
      ]
     },
     "metadata": {
      "needs_background": "light"
     },
     "output_type": "display_data"
    }
   ],
   "source": [
    "plt.hist(df.instrumentalness)"
   ]
  },
  {
   "cell_type": "code",
   "execution_count": 12,
   "metadata": {},
   "outputs": [
    {
     "data": {
      "text/plain": [
       "(array([1.130e+02, 1.800e+01, 9.240e+02, 7.489e+03, 9.862e+03, 8.216e+03,\n",
       "        3.469e+03, 1.546e+03, 2.140e+02, 1.000e+00]),\n",
       " array([  0.    ,  24.8066,  49.6132,  74.4198,  99.2264, 124.033 ,\n",
       "        148.8396, 173.6462, 198.4528, 223.2594, 248.066 ]),\n",
       " <a list of 10 Patch objects>)"
      ]
     },
     "execution_count": 12,
     "metadata": {},
     "output_type": "execute_result"
    },
    {
     "data": {
      "image/png": "[encoded data removed]",
      "text/plain": [
       "<Figure size 432x288 with 1 Axes>"
      ]
     },
     "metadata": {
      "needs_background": "light"
     },
     "output_type": "display_data"
    }
   ],
   "source": [
    "plt.hist(df.tempo)"
   ]
  },
  {
   "cell_type": "code",
   "execution_count": 13,
   "metadata": {},
   "outputs": [
    {
     "data": {
      "text/plain": [
       "(array([ 350., 1081., 2742., 4796., 6629., 7352., 7211., 4596., 2289.,\n",
       "         740.]),\n",
       " array([  0.,  10.,  20.,  30.,  40.,  50.,  60.,  70.,  80.,  90., 100.]),\n",
       " <a list of 10 Patch objects>)"
      ]
     },
     "execution_count": 13,
     "metadata": {},
     "output_type": "execute_result"
    },
    {
     "data": {
      "image/png": "[encoded data removed]",
      "text/plain": [
       "<Figure size 432x288 with 1 Axes>"
      ]
     },
     "metadata": {
      "needs_background": "light"
     },
     "output_type": "display_data"
    }
   ],
   "source": [
    "plt.hist(df.artist_popularity)"
   ]
  },
  {
   "cell_type": "code",
   "execution_count": 17,
   "metadata": {},
   "outputs": [
    {
     "data": {
      "text/plain": [
       "count       37724.0\n",
       "mean       885426.0\n",
       "std       2981245.0\n",
       "min             0.0\n",
       "25%          4436.0\n",
       "50%         44645.0\n",
       "75%        415262.0\n",
       "max      43543394.0\n",
       "Name: artist_follower_total, dtype: float64"
      ]
     },
     "execution_count": 17,
     "metadata": {},
     "output_type": "execute_result"
    }
   ],
   "source": [
    "df.artist_follower_total.describe().round()"
   ]
  },
  {
   "cell_type": "code",
   "execution_count": 18,
   "metadata": {},
   "outputs": [
    {
     "data": {
      "text/plain": [
       "count      37786.0\n",
       "mean      237792.0\n",
       "std        98895.0\n",
       "min        12515.0\n",
       "25%       187478.0\n",
       "50%       219784.0\n",
       "75%       263788.0\n",
       "max      4694040.0\n",
       "Name: track_duration, dtype: float64"
      ]
     },
     "execution_count": 18,
     "metadata": {},
     "output_type": "execute_result"
    }
   ],
   "source": [
    "df.track_duration.describe().round()"
   ]
  },
  {
   "cell_type": "code",
   "execution_count": 20,
   "metadata": {},
   "outputs": [
    {
     "data": {
      "text/plain": [
       "Johnny Cash                                112\n",
       "Reba McEntire                               91\n",
       "Banda Sinaloense MS de Sergio Lizárraga     58\n",
       "Lady Gaga                                   50\n",
       "Taylor Swift                                49\n",
       "Drake                                       47\n",
       "Romeo Santos                                47\n",
       "Kanye West                                  45\n",
       "Prince Royce                                45\n",
       "Julio Iglesias                              43\n",
       "Angelique Kidjo                             43\n",
       "Juanes                                      43\n",
       "Café Tacvba                                 42\n",
       "2Baba                                       42\n",
       "Armin van Buuren                            41\n",
       "Ali Farka Touré                             39\n",
       "Ozuna                                       39\n",
       "Don Schlitz                                 39\n",
       "Maluma                                      34\n",
       "Luis Miguel                                 30\n",
       "Johann Sebastian Bach                       29\n",
       "The Beatles                                 29\n",
       "Mark Morton                                 29\n",
       "Khalid                                      29\n",
       "Hozier                                      28\n",
       "George Strait                               27\n",
       "Bad Bunny                                   26\n",
       "Above & Beyond                              26\n",
       "Marvin Gaye                                 26\n",
       "Tiësto                                      26\n",
       "                                          ... \n",
       "OdjBox                                       1\n",
       "Champagne Drip                               1\n",
       "Bachman-Turner Overdrive                     1\n",
       "Aldo Trujillo                                1\n",
       "Elisha                                       1\n",
       "Nacha Pop                                    1\n",
       "Kelsey Waldon                                1\n",
       "Justin Townes Earle                          1\n",
       "A Forest Of Stars                            1\n",
       "Led by Lanterns                              1\n",
       "Ka5sh                                        1\n",
       "The Bucketheads                              1\n",
       "Anwar Hadid                                  1\n",
       "Kajagoogoo                                   1\n",
       "Built To Spill                               1\n",
       "Swit Beats                                   1\n",
       "Indecision                                   1\n",
       "Kari Bin                                     1\n",
       "Righteous Vendetta                           1\n",
       "DJ Boring                                    1\n",
       "Blinkie                                      1\n",
       "Karen O                                      1\n",
       "Kathy Kosins                                 1\n",
       "Positively 13 O'Clock                        1\n",
       "T-Ski Valley                                 1\n",
       "SASAMI                                       1\n",
       "Confederate Railroad                         1\n",
       "The Oklahoma Kid                             1\n",
       "Slumgod                                      1\n",
       "Los Invasores De Nuevo León                  1\n",
       "Name: artist_name, Length: 18458, dtype: int64"
      ]
     },
     "execution_count": 20,
     "metadata": {},
     "output_type": "execute_result"
    }
   ],
   "source": [
    "df.artist_name.value_counts(ascending=False)"
   ]
  },
  {
   "cell_type": "code",
   "execution_count": null,
   "metadata": {},
   "outputs": [],
   "source": []
  }
 ],
 "metadata": {
  "kernelspec": {
   "display_name": "Python 3",
   "language": "python",
   "name": "python3"
  },
  "language_info": {
   "codemirror_mode": {
    "name": "ipython",
    "version": 3
   },
   "file_extension": ".py",
   "mimetype": "text/x-python",
   "name": "python",
   "nbconvert_exporter": "python",
   "pygments_lexer": "ipython3",
   "version": "3.7.1"
  }
 },
 "nbformat": 4,
 "nbformat_minor": 2
}
