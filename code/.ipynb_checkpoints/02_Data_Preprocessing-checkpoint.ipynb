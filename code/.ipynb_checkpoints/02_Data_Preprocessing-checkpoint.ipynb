{
 "cells": [
  {
   "cell_type": "markdown",
   "metadata": {},
   "source": [
    "# Data Preprocessing"
   ]
  },
  {
   "cell_type": "markdown",
   "metadata": {},
   "source": [
    "The below code will combine track meta data, artist meta data, and related artists into a single data frame used for analysis."
   ]
  },
  {
   "cell_type": "markdown",
   "metadata": {},
   "source": [
    "## Connecting to Spotipy API"
   ]
  },
  {
   "cell_type": "code",
   "execution_count": 1,
   "metadata": {},
   "outputs": [],
   "source": [
    "import os\n",
    "import spotipy\n",
    "## Importing the spotipy Library ##\n",
    "##os.chdir(\"C:/Punisher/1 UTD/Spring 18/spotify shizzle\")\n",
    "\n",
    "### IMPORTS ##\n",
    "import pandas as pd\n",
    "import numpy as np\n",
    "\n",
    "## importing packages for visualization ##\n",
    "\n",
    "import seaborn as sns\n",
    "import spotipy.util as util\n",
    "\n",
    "# initialize spotify api\n",
    "\n",
    "spotify = spotipy.Spotify()\n",
    "from spotipy.oauth2 import SpotifyClientCredentials\n",
    "\n",
    "clientid = \"bf177e9a897347ebbf481db519249ca4\"\n",
    "secret = \"094aca58f14441bda15dc906cf75c56a\"\n",
    "username= \"dbick001\"\n",
    "\n",
    "client_cred_manager = SpotifyClientCredentials(client_id=clientid,\n",
    "                                               client_secret=secret)\n",
    "\n",
    "\n",
    "model = spotipy.Spotify(client_credentials_manager=client_cred_manager)\n",
    "scope = 'user-library-read playlist-read-private'\n",
    "#token = \"Bearer BQBHbEieVIBtDz5QcD3M6LxfWXcscBYd7ZzStDjP_3wKHkEFjY4QqFV-82EcU-wNvBo_Fnawc7JMx9KDLx1WdaWj2gojr5RGZguzsyEPg5RkkBPLDbnum850dZ4e_xRu41DOWsfZWNBq1tlfzDkRF1j3SgPAs-0zFut3WCoj&refresh_token=AQCPILw9Y6szk_KjqSVIHueizz-AU4iEPZ2SnkxLhTjtlPgI3l0eh8As9tEcmq3RJoqEMYceU71bA-jeUeYWnUOo5WZCNgq9IQUB9CqPR0OwFwJUInJFNVuncqKeU6yddAY\"\n",
    "\n",
    "token = util.prompt_for_user_token(username, scope, client_id=clientid, client_secret=secret, redirect_uri=\"http://google.com/\")\n",
    "if token:\n",
    "    model = spotipy.Spotify(auth=token)\n",
    "else:\n",
    "    print(\"unable to get token for:\", username)"
   ]
  },
  {
   "cell_type": "markdown",
   "metadata": {},
   "source": [
    "## Loading Playlist Dictionary"
   ]
  },
  {
   "cell_type": "markdown",
   "metadata": {},
   "source": [
    "The below code will load a previously pickled dictionary that contains Spotify curated 751 playlists. The tracks within these playlists will make up the song corpus for the recommendation engine"
   ]
  },
  {
   "cell_type": "code",
   "execution_count": 2,
   "metadata": {},
   "outputs": [
    {
     "name": "stdout",
     "output_type": "stream",
     "text": [
      "/Users/davidbickham/dsi/Capstone/code\n"
     ]
    }
   ],
   "source": [
    "!pwd"
   ]
  },
  {
   "cell_type": "code",
   "execution_count": 3,
   "metadata": {},
   "outputs": [
    {
     "data": {
      "text/plain": [
       "751"
      ]
     },
     "execution_count": 3,
     "metadata": {},
     "output_type": "execute_result"
    }
   ],
   "source": [
    "import pickle\n",
    "infile = open('../data/playlist_dict','rb')\n",
    "playlist_dictionary = pickle.load(infile)\n",
    "infile.close()\n",
    "\n",
    "len(playlist_dictionary)"
   ]
  },
  {
   "cell_type": "code",
   "execution_count": 4,
   "metadata": {},
   "outputs": [
    {
     "data": {
      "text/plain": [
       "'37i9dQZF1DX4dyzvuaRJ0n'"
      ]
     },
     "execution_count": 4,
     "metadata": {},
     "output_type": "execute_result"
    }
   ],
   "source": [
    "playlist_dictionary['mint']"
   ]
  },
  {
   "cell_type": "markdown",
   "metadata": {},
   "source": [
    "## Loading Playlist | Tracks Dctionary"
   ]
  },
  {
   "cell_type": "markdown",
   "metadata": {},
   "source": [
    "The below dictionary contains the playlist_id and track_id of every track within a given playlist"
   ]
  },
  {
   "cell_type": "code",
   "execution_count": 5,
   "metadata": {},
   "outputs": [
    {
     "data": {
      "text/plain": [
       "751"
      ]
     },
     "execution_count": 5,
     "metadata": {},
     "output_type": "execute_result"
    }
   ],
   "source": [
    "import pickle\n",
    "infile = open('../data/playlist_dict_tracks','rb')\n",
    "playlist_dict_tracks = pickle.load(infile)\n",
    "infile.close()\n",
    "\n",
    "len(playlist_dict_tracks)"
   ]
  },
  {
   "cell_type": "markdown",
   "metadata": {},
   "source": [
    "## Loading Track Dictionary"
   ]
  },
  {
   "cell_type": "markdown",
   "metadata": {},
   "source": [
    "The below dictionary contains the initial meta data for all the tracks in the corpus.\n",
    "\n",
    "Track Features:\n",
    "- playlist_id\n",
    "- track_id\n",
    "- track_name\n",
    "- track_popularity\n",
    "- track_duration\n",
    "- album_id\n",
    "- album_name\n",
    "- artist_id\n",
    "- artist_name"
   ]
  },
  {
   "cell_type": "code",
   "execution_count": 6,
   "metadata": {},
   "outputs": [
    {
     "data": {
      "text/plain": [
       "48839"
      ]
     },
     "execution_count": 6,
     "metadata": {},
     "output_type": "execute_result"
    }
   ],
   "source": [
    "import pickle\n",
    "infile = open('../data/tracks_dict','rb')\n",
    "tracks_dictionary = pickle.load(infile)\n",
    "infile.close()\n",
    "\n",
    "len(tracks_dictionary)"
   ]
  },
  {
   "cell_type": "code",
   "execution_count": 7,
   "metadata": {},
   "outputs": [
    {
     "data": {
      "text/plain": [
       "{'playlist_id': '37i9dQZF1DX4dyzvuaRJ0n',\n",
       " 'track_id': '7DQ5CZjAQdhgDgdnSXxJ7Z',\n",
       " 'track_name': 'Solid Gold',\n",
       " 'track_popularity': 58,\n",
       " 'track_duration': 208367,\n",
       " 'album_id': '3g0mfsWlOOUNheV5L3kQKs',\n",
       " 'album_name': 'Solid Gold',\n",
       " 'artist_id': '6n28c9qs9hNGriNa72b26u',\n",
       " 'artist_name': 'PNAU'}"
      ]
     },
     "execution_count": 7,
     "metadata": {},
     "output_type": "execute_result"
    }
   ],
   "source": [
    "tracks_dictionary[0]"
   ]
  },
  {
   "cell_type": "markdown",
   "metadata": {},
   "source": [
    "### Converting Dictionary to a Pandas Dataframe"
   ]
  },
  {
   "cell_type": "code",
   "execution_count": 8,
   "metadata": {},
   "outputs": [
    {
     "data": {
      "text/html": [
       "<div>\n",
       "<style scoped>\n",
       "    .dataframe tbody tr th:only-of-type {\n",
       "        vertical-align: middle;\n",
       "    }\n",
       "\n",
       "    .dataframe tbody tr th {\n",
       "        vertical-align: top;\n",
       "    }\n",
       "\n",
       "    .dataframe thead th {\n",
       "        text-align: right;\n",
       "    }\n",
       "</style>\n",
       "<table border=\"1\" class=\"dataframe\">\n",
       "  <thead>\n",
       "    <tr style=\"text-align: right;\">\n",
       "      <th></th>\n",
       "      <th>album_id</th>\n",
       "      <th>album_name</th>\n",
       "      <th>artist_id</th>\n",
       "      <th>artist_name</th>\n",
       "      <th>playlist_id</th>\n",
       "      <th>track_duration</th>\n",
       "      <th>track_id</th>\n",
       "      <th>track_name</th>\n",
       "      <th>track_popularity</th>\n",
       "    </tr>\n",
       "  </thead>\n",
       "  <tbody>\n",
       "    <tr>\n",
       "      <th>0</th>\n",
       "      <td>3g0mfsWlOOUNheV5L3kQKs</td>\n",
       "      <td>Solid Gold</td>\n",
       "      <td>6n28c9qs9hNGriNa72b26u</td>\n",
       "      <td>PNAU</td>\n",
       "      <td>37i9dQZF1DX4dyzvuaRJ0n</td>\n",
       "      <td>208367.0</td>\n",
       "      <td>7DQ5CZjAQdhgDgdnSXxJ7Z</td>\n",
       "      <td>Solid Gold</td>\n",
       "      <td>58.0</td>\n",
       "    </tr>\n",
       "    <tr>\n",
       "      <th>1</th>\n",
       "      <td>0agqVZjOqVtqHkq3pTFPXb</td>\n",
       "      <td>Piece Of Your Heart</td>\n",
       "      <td>0xRXCcSX89eobfrshSVdyu</td>\n",
       "      <td>MEDUZA</td>\n",
       "      <td>37i9dQZF1DX4dyzvuaRJ0n</td>\n",
       "      <td>152913.0</td>\n",
       "      <td>5p1ex0pXv6jSPJ6QbumQpD</td>\n",
       "      <td>Piece Of Your Heart</td>\n",
       "      <td>87.0</td>\n",
       "    </tr>\n",
       "    <tr>\n",
       "      <th>2</th>\n",
       "      <td>7KJTuTXYSnBGNgAxte3CSg</td>\n",
       "      <td>No Sleep (feat. Bonn)</td>\n",
       "      <td>60d24wfXkVzDSfLS6hyCjZ</td>\n",
       "      <td>Martin Garrix</td>\n",
       "      <td>37i9dQZF1DX4dyzvuaRJ0n</td>\n",
       "      <td>207094.0</td>\n",
       "      <td>1ahVFh0ViDZr8LvkEVlq3B</td>\n",
       "      <td>No Sleep (feat. Bonn)</td>\n",
       "      <td>84.0</td>\n",
       "    </tr>\n",
       "    <tr>\n",
       "      <th>3</th>\n",
       "      <td>7Jx7doYIXITyR2LQB0Hvbc</td>\n",
       "      <td>SOS</td>\n",
       "      <td>1vCWHaC5f2uS3yhpwWbIA6</td>\n",
       "      <td>Avicii</td>\n",
       "      <td>37i9dQZF1DX4dyzvuaRJ0n</td>\n",
       "      <td>157202.0</td>\n",
       "      <td>6nDKrPlXdpomGBgAlO7UdP</td>\n",
       "      <td>SOS</td>\n",
       "      <td>95.0</td>\n",
       "    </tr>\n",
       "    <tr>\n",
       "      <th>4</th>\n",
       "      <td>5kwv2A2qAK8pN007hSA56t</td>\n",
       "      <td>Changa</td>\n",
       "      <td>6n28c9qs9hNGriNa72b26u</td>\n",
       "      <td>PNAU</td>\n",
       "      <td>37i9dQZF1DX4dyzvuaRJ0n</td>\n",
       "      <td>188470.0</td>\n",
       "      <td>5TL9e2xgtvJFtNCBsq1CgX</td>\n",
       "      <td>Changa - Blanke Remix</td>\n",
       "      <td>59.0</td>\n",
       "    </tr>\n",
       "  </tbody>\n",
       "</table>\n",
       "</div>"
      ],
      "text/plain": [
       "                 album_id             album_name               artist_id  \\\n",
       "0  3g0mfsWlOOUNheV5L3kQKs             Solid Gold  6n28c9qs9hNGriNa72b26u   \n",
       "1  0agqVZjOqVtqHkq3pTFPXb    Piece Of Your Heart  0xRXCcSX89eobfrshSVdyu   \n",
       "2  7KJTuTXYSnBGNgAxte3CSg  No Sleep (feat. Bonn)  60d24wfXkVzDSfLS6hyCjZ   \n",
       "3  7Jx7doYIXITyR2LQB0Hvbc                    SOS  1vCWHaC5f2uS3yhpwWbIA6   \n",
       "4  5kwv2A2qAK8pN007hSA56t                 Changa  6n28c9qs9hNGriNa72b26u   \n",
       "\n",
       "     artist_name             playlist_id  track_duration  \\\n",
       "0           PNAU  37i9dQZF1DX4dyzvuaRJ0n        208367.0   \n",
       "1         MEDUZA  37i9dQZF1DX4dyzvuaRJ0n        152913.0   \n",
       "2  Martin Garrix  37i9dQZF1DX4dyzvuaRJ0n        207094.0   \n",
       "3         Avicii  37i9dQZF1DX4dyzvuaRJ0n        157202.0   \n",
       "4           PNAU  37i9dQZF1DX4dyzvuaRJ0n        188470.0   \n",
       "\n",
       "                 track_id             track_name  track_popularity  \n",
       "0  7DQ5CZjAQdhgDgdnSXxJ7Z             Solid Gold              58.0  \n",
       "1  5p1ex0pXv6jSPJ6QbumQpD    Piece Of Your Heart              87.0  \n",
       "2  1ahVFh0ViDZr8LvkEVlq3B  No Sleep (feat. Bonn)              84.0  \n",
       "3  6nDKrPlXdpomGBgAlO7UdP                    SOS              95.0  \n",
       "4  5TL9e2xgtvJFtNCBsq1CgX  Changa - Blanke Remix              59.0  "
      ]
     },
     "execution_count": 8,
     "metadata": {},
     "output_type": "execute_result"
    }
   ],
   "source": [
    "tracks_df = pd.DataFrame(tracks_dictionary)\n",
    "tracks_df.head()"
   ]
  },
  {
   "cell_type": "markdown",
   "metadata": {},
   "source": [
    "#### **Checking data types**"
   ]
  },
  {
   "cell_type": "code",
   "execution_count": 9,
   "metadata": {},
   "outputs": [
    {
     "data": {
      "text/plain": [
       "(48839, 9)"
      ]
     },
     "execution_count": 9,
     "metadata": {},
     "output_type": "execute_result"
    }
   ],
   "source": [
    "tracks_df.shape"
   ]
  },
  {
   "cell_type": "code",
   "execution_count": 10,
   "metadata": {},
   "outputs": [
    {
     "name": "stdout",
     "output_type": "stream",
     "text": [
      "<class 'pandas.core.frame.DataFrame'>\n",
      "RangeIndex: 48839 entries, 0 to 48838\n",
      "Data columns (total 9 columns):\n",
      "album_id            48830 non-null object\n",
      "album_name          48830 non-null object\n",
      "artist_id           48830 non-null object\n",
      "artist_name         48830 non-null object\n",
      "playlist_id         48839 non-null object\n",
      "track_duration      48830 non-null float64\n",
      "track_id            48830 non-null object\n",
      "track_name          48830 non-null object\n",
      "track_popularity    48830 non-null float64\n",
      "dtypes: float64(2), object(7)\n",
      "memory usage: 3.4+ MB\n"
     ]
    }
   ],
   "source": [
    "tracks_df.info()"
   ]
  },
  {
   "cell_type": "markdown",
   "metadata": {},
   "source": [
    "#### Checking for Null Values"
   ]
  },
  {
   "cell_type": "code",
   "execution_count": 11,
   "metadata": {},
   "outputs": [
    {
     "data": {
      "text/plain": [
       "album_id            9\n",
       "album_name          9\n",
       "artist_id           9\n",
       "artist_name         9\n",
       "playlist_id         0\n",
       "track_duration      9\n",
       "track_id            9\n",
       "track_name          9\n",
       "track_popularity    9\n",
       "dtype: int64"
      ]
     },
     "execution_count": 11,
     "metadata": {},
     "output_type": "execute_result"
    }
   ],
   "source": [
    "tracks_df.isnull().sum()"
   ]
  },
  {
   "cell_type": "code",
   "execution_count": 12,
   "metadata": {},
   "outputs": [
    {
     "data": {
      "text/html": [
       "<div>\n",
       "<style scoped>\n",
       "    .dataframe tbody tr th:only-of-type {\n",
       "        vertical-align: middle;\n",
       "    }\n",
       "\n",
       "    .dataframe tbody tr th {\n",
       "        vertical-align: top;\n",
       "    }\n",
       "\n",
       "    .dataframe thead th {\n",
       "        text-align: right;\n",
       "    }\n",
       "</style>\n",
       "<table border=\"1\" class=\"dataframe\">\n",
       "  <thead>\n",
       "    <tr style=\"text-align: right;\">\n",
       "      <th></th>\n",
       "      <th>album_id</th>\n",
       "      <th>album_name</th>\n",
       "      <th>artist_id</th>\n",
       "      <th>artist_name</th>\n",
       "      <th>playlist_id</th>\n",
       "      <th>track_duration</th>\n",
       "      <th>track_id</th>\n",
       "      <th>track_name</th>\n",
       "      <th>track_popularity</th>\n",
       "    </tr>\n",
       "  </thead>\n",
       "  <tbody>\n",
       "    <tr>\n",
       "      <th>360</th>\n",
       "      <td>NaN</td>\n",
       "      <td>NaN</td>\n",
       "      <td>NaN</td>\n",
       "      <td>NaN</td>\n",
       "      <td>37i9dQZF1DXa41CMuUARjl</td>\n",
       "      <td>NaN</td>\n",
       "      <td>NaN</td>\n",
       "      <td>NaN</td>\n",
       "      <td>NaN</td>\n",
       "    </tr>\n",
       "    <tr>\n",
       "      <th>8759</th>\n",
       "      <td>NaN</td>\n",
       "      <td>NaN</td>\n",
       "      <td>NaN</td>\n",
       "      <td>NaN</td>\n",
       "      <td>37i9dQZF1DWYs2pvwxWA7l</td>\n",
       "      <td>NaN</td>\n",
       "      <td>NaN</td>\n",
       "      <td>NaN</td>\n",
       "      <td>NaN</td>\n",
       "    </tr>\n",
       "    <tr>\n",
       "      <th>10337</th>\n",
       "      <td>NaN</td>\n",
       "      <td>NaN</td>\n",
       "      <td>NaN</td>\n",
       "      <td>NaN</td>\n",
       "      <td>37i9dQZF1DWSf2RDTDayIx</td>\n",
       "      <td>NaN</td>\n",
       "      <td>NaN</td>\n",
       "      <td>NaN</td>\n",
       "      <td>NaN</td>\n",
       "    </tr>\n",
       "    <tr>\n",
       "      <th>10596</th>\n",
       "      <td>NaN</td>\n",
       "      <td>NaN</td>\n",
       "      <td>NaN</td>\n",
       "      <td>NaN</td>\n",
       "      <td>37i9dQZF1DX3YSRoSdA634</td>\n",
       "      <td>NaN</td>\n",
       "      <td>NaN</td>\n",
       "      <td>NaN</td>\n",
       "      <td>NaN</td>\n",
       "    </tr>\n",
       "    <tr>\n",
       "      <th>30008</th>\n",
       "      <td>NaN</td>\n",
       "      <td>NaN</td>\n",
       "      <td>NaN</td>\n",
       "      <td>NaN</td>\n",
       "      <td>37i9dQZF1DWT2jS7NwYPVI</td>\n",
       "      <td>NaN</td>\n",
       "      <td>NaN</td>\n",
       "      <td>NaN</td>\n",
       "      <td>NaN</td>\n",
       "    </tr>\n",
       "    <tr>\n",
       "      <th>31413</th>\n",
       "      <td>NaN</td>\n",
       "      <td>NaN</td>\n",
       "      <td>NaN</td>\n",
       "      <td>NaN</td>\n",
       "      <td>37i9dQZF1DX0Uv9tZ47pWo</td>\n",
       "      <td>NaN</td>\n",
       "      <td>NaN</td>\n",
       "      <td>NaN</td>\n",
       "      <td>NaN</td>\n",
       "    </tr>\n",
       "    <tr>\n",
       "      <th>37510</th>\n",
       "      <td>NaN</td>\n",
       "      <td>NaN</td>\n",
       "      <td>NaN</td>\n",
       "      <td>NaN</td>\n",
       "      <td>37i9dQZF1DWYkaDif7Ztbp</td>\n",
       "      <td>NaN</td>\n",
       "      <td>NaN</td>\n",
       "      <td>NaN</td>\n",
       "      <td>NaN</td>\n",
       "    </tr>\n",
       "    <tr>\n",
       "      <th>39064</th>\n",
       "      <td>NaN</td>\n",
       "      <td>NaN</td>\n",
       "      <td>NaN</td>\n",
       "      <td>NaN</td>\n",
       "      <td>37i9dQZF1DX9mHcd54VItZ</td>\n",
       "      <td>NaN</td>\n",
       "      <td>NaN</td>\n",
       "      <td>NaN</td>\n",
       "      <td>NaN</td>\n",
       "    </tr>\n",
       "    <tr>\n",
       "      <th>41037</th>\n",
       "      <td>NaN</td>\n",
       "      <td>NaN</td>\n",
       "      <td>NaN</td>\n",
       "      <td>NaN</td>\n",
       "      <td>37i9dQZF1DWXepGEFFmQXJ</td>\n",
       "      <td>NaN</td>\n",
       "      <td>NaN</td>\n",
       "      <td>NaN</td>\n",
       "      <td>NaN</td>\n",
       "    </tr>\n",
       "  </tbody>\n",
       "</table>\n",
       "</div>"
      ],
      "text/plain": [
       "      album_id album_name artist_id artist_name             playlist_id  \\\n",
       "360        NaN        NaN       NaN         NaN  37i9dQZF1DXa41CMuUARjl   \n",
       "8759       NaN        NaN       NaN         NaN  37i9dQZF1DWYs2pvwxWA7l   \n",
       "10337      NaN        NaN       NaN         NaN  37i9dQZF1DWSf2RDTDayIx   \n",
       "10596      NaN        NaN       NaN         NaN  37i9dQZF1DX3YSRoSdA634   \n",
       "30008      NaN        NaN       NaN         NaN  37i9dQZF1DWT2jS7NwYPVI   \n",
       "31413      NaN        NaN       NaN         NaN  37i9dQZF1DX0Uv9tZ47pWo   \n",
       "37510      NaN        NaN       NaN         NaN  37i9dQZF1DWYkaDif7Ztbp   \n",
       "39064      NaN        NaN       NaN         NaN  37i9dQZF1DX9mHcd54VItZ   \n",
       "41037      NaN        NaN       NaN         NaN  37i9dQZF1DWXepGEFFmQXJ   \n",
       "\n",
       "       track_duration track_id track_name  track_popularity  \n",
       "360               NaN      NaN        NaN               NaN  \n",
       "8759              NaN      NaN        NaN               NaN  \n",
       "10337             NaN      NaN        NaN               NaN  \n",
       "10596             NaN      NaN        NaN               NaN  \n",
       "30008             NaN      NaN        NaN               NaN  \n",
       "31413             NaN      NaN        NaN               NaN  \n",
       "37510             NaN      NaN        NaN               NaN  \n",
       "39064             NaN      NaN        NaN               NaN  \n",
       "41037             NaN      NaN        NaN               NaN  "
      ]
     },
     "execution_count": 12,
     "metadata": {},
     "output_type": "execute_result"
    }
   ],
   "source": [
    "tracks_df[tracks_df.isnull().any(axis=1)]"
   ]
  },
  {
   "cell_type": "markdown",
   "metadata": {},
   "source": [
    "**Dropping Null Values**"
   ]
  },
  {
   "cell_type": "code",
   "execution_count": 13,
   "metadata": {},
   "outputs": [
    {
     "data": {
      "text/plain": [
       "0"
      ]
     },
     "execution_count": 13,
     "metadata": {},
     "output_type": "execute_result"
    }
   ],
   "source": [
    "tracks_df.dropna(inplace=True)\n",
    "tracks_df.isnull().sum().sum()"
   ]
  },
  {
   "cell_type": "markdown",
   "metadata": {},
   "source": [
    "### Dropping Duplicates (Songs in Multiple Playlists)"
   ]
  },
  {
   "cell_type": "code",
   "execution_count": 14,
   "metadata": {},
   "outputs": [
    {
     "data": {
      "text/plain": [
       "(37786, 9)"
      ]
     },
     "execution_count": 14,
     "metadata": {},
     "output_type": "execute_result"
    }
   ],
   "source": [
    "tracks_df.drop_duplicates(subset='track_id', inplace=True)\n",
    "tracks_df.shape"
   ]
  },
  {
   "cell_type": "markdown",
   "metadata": {},
   "source": [
    "There were about 10-11k duplicate tracks that were removed from the corpus"
   ]
  },
  {
   "cell_type": "markdown",
   "metadata": {},
   "source": [
    "## Loading Artist Meta Data"
   ]
  },
  {
   "cell_type": "markdown",
   "metadata": {},
   "source": [
    "**Artist Meta Data:**\n",
    "- artist_id\n",
    "- artist_name\n",
    "- artist_genres\n",
    "- artist_popularity\n",
    "- artist_follower_total"
   ]
  },
  {
   "cell_type": "code",
   "execution_count": 15,
   "metadata": {},
   "outputs": [
    {
     "data": {
      "text/plain": [
       "18504"
      ]
     },
     "execution_count": 15,
     "metadata": {},
     "output_type": "execute_result"
    }
   ],
   "source": [
    "import pickle\n",
    "infile = open('../data/artist_library','rb')\n",
    "artist_library = pickle.load(infile)\n",
    "infile.close()\n",
    "\n",
    "len(artist_library)"
   ]
  },
  {
   "cell_type": "markdown",
   "metadata": {},
   "source": [
    "There are 18.5k unique artists in the corpus"
   ]
  },
  {
   "cell_type": "code",
   "execution_count": 16,
   "metadata": {},
   "outputs": [
    {
     "data": {
      "text/plain": [
       "{'artist_id': '56dO9zeHKuU5Gvfc2kxHNw',\n",
       " 'artist_name': 'Chevelle',\n",
       " 'artist_genres': ['alternative metal',\n",
       "  'christian rock',\n",
       "  'nu metal',\n",
       "  'post-grunge',\n",
       "  'rap rock',\n",
       "  'rock'],\n",
       " 'artist_popularity': 67,\n",
       " 'artist_follower_total': 848179}"
      ]
     },
     "execution_count": 16,
     "metadata": {},
     "output_type": "execute_result"
    }
   ],
   "source": [
    "artist_library[0]"
   ]
  },
  {
   "cell_type": "markdown",
   "metadata": {},
   "source": [
    "### Convert Dictionary to a Pandas Dictionary"
   ]
  },
  {
   "cell_type": "code",
   "execution_count": 17,
   "metadata": {},
   "outputs": [
    {
     "data": {
      "text/html": [
       "<div>\n",
       "<style scoped>\n",
       "    .dataframe tbody tr th:only-of-type {\n",
       "        vertical-align: middle;\n",
       "    }\n",
       "\n",
       "    .dataframe tbody tr th {\n",
       "        vertical-align: top;\n",
       "    }\n",
       "\n",
       "    .dataframe thead th {\n",
       "        text-align: right;\n",
       "    }\n",
       "</style>\n",
       "<table border=\"1\" class=\"dataframe\">\n",
       "  <thead>\n",
       "    <tr style=\"text-align: right;\">\n",
       "      <th></th>\n",
       "      <th>artist_follower_total</th>\n",
       "      <th>artist_genres</th>\n",
       "      <th>artist_id</th>\n",
       "      <th>artist_name</th>\n",
       "      <th>artist_popularity</th>\n",
       "    </tr>\n",
       "  </thead>\n",
       "  <tbody>\n",
       "    <tr>\n",
       "      <th>0</th>\n",
       "      <td>848179.0</td>\n",
       "      <td>[alternative metal, christian rock, nu metal, ...</td>\n",
       "      <td>56dO9zeHKuU5Gvfc2kxHNw</td>\n",
       "      <td>Chevelle</td>\n",
       "      <td>67</td>\n",
       "    </tr>\n",
       "    <tr>\n",
       "      <th>1</th>\n",
       "      <td>605610.0</td>\n",
       "      <td>[alternative metal, alternative rock, blues-ro...</td>\n",
       "      <td>02NfyD6AlLA12crYzw5YcR</td>\n",
       "      <td>Jane's Addiction</td>\n",
       "      <td>60</td>\n",
       "    </tr>\n",
       "    <tr>\n",
       "      <th>2</th>\n",
       "      <td>8081.0</td>\n",
       "      <td>[nordic house]</td>\n",
       "      <td>6ly2Z6h9dOerORbK1l2N8D</td>\n",
       "      <td>Coucheron</td>\n",
       "      <td>49</td>\n",
       "    </tr>\n",
       "    <tr>\n",
       "      <th>3</th>\n",
       "      <td>761.0</td>\n",
       "      <td>[]</td>\n",
       "      <td>2BBIIe7eBYThLcIrZGZb3I</td>\n",
       "      <td>Athletic Progression</td>\n",
       "      <td>31</td>\n",
       "    </tr>\n",
       "    <tr>\n",
       "      <th>4</th>\n",
       "      <td>82946.0</td>\n",
       "      <td>[britpop]</td>\n",
       "      <td>47Z8LEl3LnQkcpva0xSthT</td>\n",
       "      <td>The La's</td>\n",
       "      <td>58</td>\n",
       "    </tr>\n",
       "  </tbody>\n",
       "</table>\n",
       "</div>"
      ],
      "text/plain": [
       "   artist_follower_total                                      artist_genres  \\\n",
       "0               848179.0  [alternative metal, christian rock, nu metal, ...   \n",
       "1               605610.0  [alternative metal, alternative rock, blues-ro...   \n",
       "2                 8081.0                                     [nordic house]   \n",
       "3                  761.0                                                 []   \n",
       "4                82946.0                                          [britpop]   \n",
       "\n",
       "                artist_id           artist_name  artist_popularity  \n",
       "0  56dO9zeHKuU5Gvfc2kxHNw              Chevelle                 67  \n",
       "1  02NfyD6AlLA12crYzw5YcR      Jane's Addiction                 60  \n",
       "2  6ly2Z6h9dOerORbK1l2N8D             Coucheron                 49  \n",
       "3  2BBIIe7eBYThLcIrZGZb3I  Athletic Progression                 31  \n",
       "4  47Z8LEl3LnQkcpva0xSthT              The La's                 58  "
      ]
     },
     "execution_count": 17,
     "metadata": {},
     "output_type": "execute_result"
    }
   ],
   "source": [
    "artist_df = pd.DataFrame(artist_library)\n",
    "artist_df.head()"
   ]
  },
  {
   "cell_type": "code",
   "execution_count": 18,
   "metadata": {},
   "outputs": [
    {
     "data": {
      "text/html": [
       "<div>\n",
       "<style scoped>\n",
       "    .dataframe tbody tr th:only-of-type {\n",
       "        vertical-align: middle;\n",
       "    }\n",
       "\n",
       "    .dataframe tbody tr th {\n",
       "        vertical-align: top;\n",
       "    }\n",
       "\n",
       "    .dataframe thead th {\n",
       "        text-align: right;\n",
       "    }\n",
       "</style>\n",
       "<table border=\"1\" class=\"dataframe\">\n",
       "  <thead>\n",
       "    <tr style=\"text-align: right;\">\n",
       "      <th></th>\n",
       "      <th>artist_id</th>\n",
       "      <th>artist_name</th>\n",
       "      <th>artist_genres</th>\n",
       "      <th>artist_popularity</th>\n",
       "      <th>artist_follower_total</th>\n",
       "    </tr>\n",
       "  </thead>\n",
       "  <tbody>\n",
       "    <tr>\n",
       "      <th>0</th>\n",
       "      <td>56dO9zeHKuU5Gvfc2kxHNw</td>\n",
       "      <td>Chevelle</td>\n",
       "      <td>[alternative metal, christian rock, nu metal, ...</td>\n",
       "      <td>67</td>\n",
       "      <td>848179.0</td>\n",
       "    </tr>\n",
       "    <tr>\n",
       "      <th>1</th>\n",
       "      <td>02NfyD6AlLA12crYzw5YcR</td>\n",
       "      <td>Jane's Addiction</td>\n",
       "      <td>[alternative metal, alternative rock, blues-ro...</td>\n",
       "      <td>60</td>\n",
       "      <td>605610.0</td>\n",
       "    </tr>\n",
       "    <tr>\n",
       "      <th>2</th>\n",
       "      <td>6ly2Z6h9dOerORbK1l2N8D</td>\n",
       "      <td>Coucheron</td>\n",
       "      <td>[nordic house]</td>\n",
       "      <td>49</td>\n",
       "      <td>8081.0</td>\n",
       "    </tr>\n",
       "    <tr>\n",
       "      <th>3</th>\n",
       "      <td>2BBIIe7eBYThLcIrZGZb3I</td>\n",
       "      <td>Athletic Progression</td>\n",
       "      <td>[]</td>\n",
       "      <td>31</td>\n",
       "      <td>761.0</td>\n",
       "    </tr>\n",
       "    <tr>\n",
       "      <th>4</th>\n",
       "      <td>47Z8LEl3LnQkcpva0xSthT</td>\n",
       "      <td>The La's</td>\n",
       "      <td>[britpop]</td>\n",
       "      <td>58</td>\n",
       "      <td>82946.0</td>\n",
       "    </tr>\n",
       "  </tbody>\n",
       "</table>\n",
       "</div>"
      ],
      "text/plain": [
       "                artist_id           artist_name  \\\n",
       "0  56dO9zeHKuU5Gvfc2kxHNw              Chevelle   \n",
       "1  02NfyD6AlLA12crYzw5YcR      Jane's Addiction   \n",
       "2  6ly2Z6h9dOerORbK1l2N8D             Coucheron   \n",
       "3  2BBIIe7eBYThLcIrZGZb3I  Athletic Progression   \n",
       "4  47Z8LEl3LnQkcpva0xSthT              The La's   \n",
       "\n",
       "                                       artist_genres  artist_popularity  \\\n",
       "0  [alternative metal, christian rock, nu metal, ...                 67   \n",
       "1  [alternative metal, alternative rock, blues-ro...                 60   \n",
       "2                                     [nordic house]                 49   \n",
       "3                                                 []                 31   \n",
       "4                                          [britpop]                 58   \n",
       "\n",
       "   artist_follower_total  \n",
       "0               848179.0  \n",
       "1               605610.0  \n",
       "2                 8081.0  \n",
       "3                  761.0  \n",
       "4                82946.0  "
      ]
     },
     "execution_count": 18,
     "metadata": {},
     "output_type": "execute_result"
    }
   ],
   "source": [
    "col_order = ['artist_id','artist_name', 'artist_genres','artist_popularity', 'artist_follower_total' ]\n",
    "\n",
    "artist_df = artist_df[col_order]\n",
    "artist_df.head()"
   ]
  },
  {
   "cell_type": "markdown",
   "metadata": {},
   "source": [
    "## Load Related Artist List"
   ]
  },
  {
   "cell_type": "code",
   "execution_count": 19,
   "metadata": {},
   "outputs": [
    {
     "data": {
      "text/plain": [
       "18504"
      ]
     },
     "execution_count": 19,
     "metadata": {},
     "output_type": "execute_result"
    }
   ],
   "source": [
    "import pickle\n",
    "infile = open('../data/related_artist_list','rb')\n",
    "related_artist_list = pickle.load(infile)\n",
    "infile.close()\n",
    "\n",
    "len(related_artist_list)"
   ]
  },
  {
   "cell_type": "code",
   "execution_count": 20,
   "metadata": {},
   "outputs": [
    {
     "data": {
      "text/plain": [
       "{'artist_id': '1Bo8Afb2Qbjs4x6kJHyjle',\n",
       " 'related_artist_ids': ['3ZPRZDAAuBrvx1tsIjeFxh',\n",
       "  '0NDElNqwGRCmsYIQFapp6K',\n",
       "  '2pts5B2shsEtIVC4onTFKb',\n",
       "  '3U6FqAuXdKYRrGUIyv9MWa',\n",
       "  '6G6wGudDVkxMg6SaCF0bdF',\n",
       "  '3E4UsjXgFv2GdwshMkkJze',\n",
       "  '0aF0pIALJDBCfFgqiTaK2g',\n",
       "  '6ZPZXXnq3PbxZSR9vu9fso',\n",
       "  '6BVLQfvzlvlNZ43WjbFgbI',\n",
       "  '7yIZvf93cvym5UEV2IGd8D',\n",
       "  '0AfNNw1LS2i9KW4icd7inD',\n",
       "  '0vUTfcBDZZo2OUQJci5UNZ',\n",
       "  '1XFbnj1jNNzzyg46ni3dnr',\n",
       "  '3cIXmCH7iNcslTbwrwS7zy',\n",
       "  '5UVzX8pQe6bb5ueNdfViih',\n",
       "  '0a03X57i18eG1yBzpmhZAs',\n",
       "  '1Zz6NBe8UIZjm88TvehFtx',\n",
       "  '6G5wDM1Vmsscql7qRtcLH0',\n",
       "  '557CpM84Dx90EAXTDqDj9H',\n",
       "  '6xmvWip8eqRc5jqv2bHg9j'],\n",
       " 'related_artist_names': ['Pat Lok',\n",
       "  'Oliver',\n",
       "  'Zimmer',\n",
       "  'Les Loups',\n",
       "  'Sam Padrul',\n",
       "  'Kartell',\n",
       "  'Keljet',\n",
       "  'JackLNDN',\n",
       "  'Jean Tonique',\n",
       "  'Jupiter',\n",
       "  'Fred Falke',\n",
       "  'Classixx',\n",
       "  'Moullinex',\n",
       "  'Moon Boots',\n",
       "  'Chris Malinchak',\n",
       "  'Louis La Roche',\n",
       "  'Le Youth',\n",
       "  'French Horn Rebellion',\n",
       "  'Chordashian',\n",
       "  'Cherokee']}"
      ]
     },
     "execution_count": 20,
     "metadata": {},
     "output_type": "execute_result"
    }
   ],
   "source": [
    "related_artist_list[0]"
   ]
  },
  {
   "cell_type": "markdown",
   "metadata": {},
   "source": [
    "### Create Related Artists Dataframe"
   ]
  },
  {
   "cell_type": "code",
   "execution_count": 21,
   "metadata": {},
   "outputs": [
    {
     "data": {
      "text/html": [
       "<div>\n",
       "<style scoped>\n",
       "    .dataframe tbody tr th:only-of-type {\n",
       "        vertical-align: middle;\n",
       "    }\n",
       "\n",
       "    .dataframe tbody tr th {\n",
       "        vertical-align: top;\n",
       "    }\n",
       "\n",
       "    .dataframe thead th {\n",
       "        text-align: right;\n",
       "    }\n",
       "</style>\n",
       "<table border=\"1\" class=\"dataframe\">\n",
       "  <thead>\n",
       "    <tr style=\"text-align: right;\">\n",
       "      <th></th>\n",
       "      <th>artist_id</th>\n",
       "      <th>related_artist_ids</th>\n",
       "      <th>related_artist_names</th>\n",
       "    </tr>\n",
       "  </thead>\n",
       "  <tbody>\n",
       "    <tr>\n",
       "      <th>0</th>\n",
       "      <td>1Bo8Afb2Qbjs4x6kJHyjle</td>\n",
       "      <td>[3ZPRZDAAuBrvx1tsIjeFxh, 0NDElNqwGRCmsYIQFapp6...</td>\n",
       "      <td>[Pat Lok, Oliver, Zimmer, Les Loups, Sam Padru...</td>\n",
       "    </tr>\n",
       "    <tr>\n",
       "      <th>1</th>\n",
       "      <td>0qLNsNKm8bQcMoRFkR8Hmh</td>\n",
       "      <td>[5fScAXreYFnuqwOgBsJgSd, 3mbVe260Kgvs1P8YFcCyY...</td>\n",
       "      <td>[The Charlatans, The Seahorses, Ian Brown, Cas...</td>\n",
       "    </tr>\n",
       "    <tr>\n",
       "      <th>2</th>\n",
       "      <td>4pMt1AgzE3YyjE784QVkr2</td>\n",
       "      <td>[5cuTmUgh0ZeNgiwcPchqs2, 7GdpM0f8Vw3eXAp55yZ52...</td>\n",
       "      <td>[Bellevue Cadillac, The New Morty Show, Bill E...</td>\n",
       "    </tr>\n",
       "    <tr>\n",
       "      <th>3</th>\n",
       "      <td>3Inrg8cs8oc4q8oPES4a6S</td>\n",
       "      <td>[0U2mUJuJkthantMGmsJygP, 7BFr36uI1dzJyo6tpa5Ue...</td>\n",
       "      <td>[Jerry Butler, The Chi-Lites, The Intruders, T...</td>\n",
       "    </tr>\n",
       "    <tr>\n",
       "      <th>4</th>\n",
       "      <td>1buzCmyYZE4kcdLRudsb8V</td>\n",
       "      <td>[3UAk61T8PItbpgEi9u7ofY, 26GHRG8x1F4AzbCKzUaIb...</td>\n",
       "      <td>[Andrew Belle, Aquilo, Amber Run, BANNERS, Zel...</td>\n",
       "    </tr>\n",
       "  </tbody>\n",
       "</table>\n",
       "</div>"
      ],
      "text/plain": [
       "                artist_id                                 related_artist_ids  \\\n",
       "0  1Bo8Afb2Qbjs4x6kJHyjle  [3ZPRZDAAuBrvx1tsIjeFxh, 0NDElNqwGRCmsYIQFapp6...   \n",
       "1  0qLNsNKm8bQcMoRFkR8Hmh  [5fScAXreYFnuqwOgBsJgSd, 3mbVe260Kgvs1P8YFcCyY...   \n",
       "2  4pMt1AgzE3YyjE784QVkr2  [5cuTmUgh0ZeNgiwcPchqs2, 7GdpM0f8Vw3eXAp55yZ52...   \n",
       "3  3Inrg8cs8oc4q8oPES4a6S  [0U2mUJuJkthantMGmsJygP, 7BFr36uI1dzJyo6tpa5Ue...   \n",
       "4  1buzCmyYZE4kcdLRudsb8V  [3UAk61T8PItbpgEi9u7ofY, 26GHRG8x1F4AzbCKzUaIb...   \n",
       "\n",
       "                                related_artist_names  \n",
       "0  [Pat Lok, Oliver, Zimmer, Les Loups, Sam Padru...  \n",
       "1  [The Charlatans, The Seahorses, Ian Brown, Cas...  \n",
       "2  [Bellevue Cadillac, The New Morty Show, Bill E...  \n",
       "3  [Jerry Butler, The Chi-Lites, The Intruders, T...  \n",
       "4  [Andrew Belle, Aquilo, Amber Run, BANNERS, Zel...  "
      ]
     },
     "execution_count": 21,
     "metadata": {},
     "output_type": "execute_result"
    }
   ],
   "source": [
    "related_artist_df = pd.DataFrame(related_artist_list)\n",
    "related_artist_df.head()"
   ]
  },
  {
   "cell_type": "markdown",
   "metadata": {},
   "source": [
    "## Load Track Audio Features Dictionary"
   ]
  },
  {
   "cell_type": "code",
   "execution_count": 22,
   "metadata": {},
   "outputs": [
    {
     "data": {
      "text/plain": [
       "37786"
      ]
     },
     "execution_count": 22,
     "metadata": {},
     "output_type": "execute_result"
    }
   ],
   "source": [
    "import pickle\n",
    "infile = open('../data/track_features','rb')\n",
    "track_features = pickle.load(infile)\n",
    "infile.close()\n",
    "\n",
    "len(track_features)"
   ]
  },
  {
   "cell_type": "code",
   "execution_count": 23,
   "metadata": {},
   "outputs": [
    {
     "data": {
      "text/plain": [
       "{'danceability': 0.764,\n",
       " 'energy': 0.587,\n",
       " 'key': 5,\n",
       " 'loudness': -7.002,\n",
       " 'mode': 0,\n",
       " 'speechiness': 0.0298,\n",
       " 'acousticness': 0.0721,\n",
       " 'instrumentalness': 6.45e-06,\n",
       " 'liveness': 0.094,\n",
       " 'valence': 0.494,\n",
       " 'tempo': 89.98,\n",
       " 'type': 'audio_features',\n",
       " 'id': '2NEBP8SXEqwZt2PRdPXXuy',\n",
       " 'uri': 'spotify:track:2NEBP8SXEqwZt2PRdPXXuy',\n",
       " 'track_href': 'https://api.spotify.com/v1/tracks/2NEBP8SXEqwZt2PRdPXXuy',\n",
       " 'analysis_url': 'https://api.spotify.com/v1/audio-analysis/2NEBP8SXEqwZt2PRdPXXuy',\n",
       " 'duration_ms': 229573,\n",
       " 'time_signature': 4}"
      ]
     },
     "execution_count": 23,
     "metadata": {},
     "output_type": "execute_result"
    }
   ],
   "source": [
    "track_features[0]"
   ]
  },
  {
   "cell_type": "code",
   "execution_count": 24,
   "metadata": {},
   "outputs": [
    {
     "data": {
      "text/html": [
       "<div>\n",
       "<style scoped>\n",
       "    .dataframe tbody tr th:only-of-type {\n",
       "        vertical-align: middle;\n",
       "    }\n",
       "\n",
       "    .dataframe tbody tr th {\n",
       "        vertical-align: top;\n",
       "    }\n",
       "\n",
       "    .dataframe thead th {\n",
       "        text-align: right;\n",
       "    }\n",
       "</style>\n",
       "<table border=\"1\" class=\"dataframe\">\n",
       "  <thead>\n",
       "    <tr style=\"text-align: right;\">\n",
       "      <th></th>\n",
       "      <th>acousticness</th>\n",
       "      <th>analysis_url</th>\n",
       "      <th>danceability</th>\n",
       "      <th>duration_ms</th>\n",
       "      <th>energy</th>\n",
       "      <th>id</th>\n",
       "      <th>instrumentalness</th>\n",
       "      <th>key</th>\n",
       "      <th>liveness</th>\n",
       "      <th>loudness</th>\n",
       "      <th>mode</th>\n",
       "      <th>speechiness</th>\n",
       "      <th>tempo</th>\n",
       "      <th>time_signature</th>\n",
       "      <th>track_href</th>\n",
       "      <th>type</th>\n",
       "      <th>uri</th>\n",
       "      <th>valence</th>\n",
       "    </tr>\n",
       "  </thead>\n",
       "  <tbody>\n",
       "    <tr>\n",
       "      <th>0</th>\n",
       "      <td>0.0721</td>\n",
       "      <td>https://api.spotify.com/v1/audio-analysis/2NEB...</td>\n",
       "      <td>0.764</td>\n",
       "      <td>229573</td>\n",
       "      <td>0.587</td>\n",
       "      <td>2NEBP8SXEqwZt2PRdPXXuy</td>\n",
       "      <td>0.000006</td>\n",
       "      <td>5</td>\n",
       "      <td>0.0940</td>\n",
       "      <td>-7.002</td>\n",
       "      <td>0</td>\n",
       "      <td>0.0298</td>\n",
       "      <td>89.980</td>\n",
       "      <td>4</td>\n",
       "      <td>https://api.spotify.com/v1/tracks/2NEBP8SXEqwZ...</td>\n",
       "      <td>audio_features</td>\n",
       "      <td>spotify:track:2NEBP8SXEqwZt2PRdPXXuy</td>\n",
       "      <td>0.494</td>\n",
       "    </tr>\n",
       "    <tr>\n",
       "      <th>1</th>\n",
       "      <td>0.1530</td>\n",
       "      <td>https://api.spotify.com/v1/audio-analysis/1xda...</td>\n",
       "      <td>0.758</td>\n",
       "      <td>158219</td>\n",
       "      <td>0.506</td>\n",
       "      <td>1xda2R5cSP7GKlqXY3Pji2</td>\n",
       "      <td>0.012600</td>\n",
       "      <td>0</td>\n",
       "      <td>0.1640</td>\n",
       "      <td>-8.788</td>\n",
       "      <td>1</td>\n",
       "      <td>0.0359</td>\n",
       "      <td>129.935</td>\n",
       "      <td>4</td>\n",
       "      <td>https://api.spotify.com/v1/tracks/1xda2R5cSP7G...</td>\n",
       "      <td>audio_features</td>\n",
       "      <td>spotify:track:1xda2R5cSP7GKlqXY3Pji2</td>\n",
       "      <td>0.687</td>\n",
       "    </tr>\n",
       "    <tr>\n",
       "      <th>2</th>\n",
       "      <td>0.0053</td>\n",
       "      <td>https://api.spotify.com/v1/audio-analysis/16QN...</td>\n",
       "      <td>0.808</td>\n",
       "      <td>172427</td>\n",
       "      <td>0.581</td>\n",
       "      <td>16QN8cBubEq706vNtPpOME</td>\n",
       "      <td>0.000012</td>\n",
       "      <td>11</td>\n",
       "      <td>0.0828</td>\n",
       "      <td>-5.430</td>\n",
       "      <td>1</td>\n",
       "      <td>0.0700</td>\n",
       "      <td>130.012</td>\n",
       "      <td>4</td>\n",
       "      <td>https://api.spotify.com/v1/tracks/16QN8cBubEq7...</td>\n",
       "      <td>audio_features</td>\n",
       "      <td>spotify:track:16QN8cBubEq706vNtPpOME</td>\n",
       "      <td>0.758</td>\n",
       "    </tr>\n",
       "    <tr>\n",
       "      <th>3</th>\n",
       "      <td>0.1150</td>\n",
       "      <td>https://api.spotify.com/v1/audio-analysis/0DVe...</td>\n",
       "      <td>0.829</td>\n",
       "      <td>249000</td>\n",
       "      <td>0.710</td>\n",
       "      <td>0DVevhcLPiHoLaVyl6dSGr</td>\n",
       "      <td>0.145000</td>\n",
       "      <td>11</td>\n",
       "      <td>0.0541</td>\n",
       "      <td>-8.736</td>\n",
       "      <td>1</td>\n",
       "      <td>0.0415</td>\n",
       "      <td>98.293</td>\n",
       "      <td>4</td>\n",
       "      <td>https://api.spotify.com/v1/tracks/0DVevhcLPiHo...</td>\n",
       "      <td>audio_features</td>\n",
       "      <td>spotify:track:0DVevhcLPiHoLaVyl6dSGr</td>\n",
       "      <td>0.949</td>\n",
       "    </tr>\n",
       "    <tr>\n",
       "      <th>4</th>\n",
       "      <td>0.8880</td>\n",
       "      <td>https://api.spotify.com/v1/audio-analysis/78GA...</td>\n",
       "      <td>0.734</td>\n",
       "      <td>182027</td>\n",
       "      <td>0.499</td>\n",
       "      <td>78GAfIYfFDN22ezrrRWiAE</td>\n",
       "      <td>0.000000</td>\n",
       "      <td>4</td>\n",
       "      <td>0.3880</td>\n",
       "      <td>-8.348</td>\n",
       "      <td>0</td>\n",
       "      <td>0.1520</td>\n",
       "      <td>111.125</td>\n",
       "      <td>4</td>\n",
       "      <td>https://api.spotify.com/v1/tracks/78GAfIYfFDN2...</td>\n",
       "      <td>audio_features</td>\n",
       "      <td>spotify:track:78GAfIYfFDN22ezrrRWiAE</td>\n",
       "      <td>0.750</td>\n",
       "    </tr>\n",
       "  </tbody>\n",
       "</table>\n",
       "</div>"
      ],
      "text/plain": [
       "   acousticness                                       analysis_url  \\\n",
       "0        0.0721  https://api.spotify.com/v1/audio-analysis/2NEB...   \n",
       "1        0.1530  https://api.spotify.com/v1/audio-analysis/1xda...   \n",
       "2        0.0053  https://api.spotify.com/v1/audio-analysis/16QN...   \n",
       "3        0.1150  https://api.spotify.com/v1/audio-analysis/0DVe...   \n",
       "4        0.8880  https://api.spotify.com/v1/audio-analysis/78GA...   \n",
       "\n",
       "   danceability  duration_ms  energy                      id  \\\n",
       "0         0.764       229573   0.587  2NEBP8SXEqwZt2PRdPXXuy   \n",
       "1         0.758       158219   0.506  1xda2R5cSP7GKlqXY3Pji2   \n",
       "2         0.808       172427   0.581  16QN8cBubEq706vNtPpOME   \n",
       "3         0.829       249000   0.710  0DVevhcLPiHoLaVyl6dSGr   \n",
       "4         0.734       182027   0.499  78GAfIYfFDN22ezrrRWiAE   \n",
       "\n",
       "   instrumentalness  key  liveness  loudness  mode  speechiness    tempo  \\\n",
       "0          0.000006    5    0.0940    -7.002     0       0.0298   89.980   \n",
       "1          0.012600    0    0.1640    -8.788     1       0.0359  129.935   \n",
       "2          0.000012   11    0.0828    -5.430     1       0.0700  130.012   \n",
       "3          0.145000   11    0.0541    -8.736     1       0.0415   98.293   \n",
       "4          0.000000    4    0.3880    -8.348     0       0.1520  111.125   \n",
       "\n",
       "   time_signature                                         track_href  \\\n",
       "0               4  https://api.spotify.com/v1/tracks/2NEBP8SXEqwZ...   \n",
       "1               4  https://api.spotify.com/v1/tracks/1xda2R5cSP7G...   \n",
       "2               4  https://api.spotify.com/v1/tracks/16QN8cBubEq7...   \n",
       "3               4  https://api.spotify.com/v1/tracks/0DVevhcLPiHo...   \n",
       "4               4  https://api.spotify.com/v1/tracks/78GAfIYfFDN2...   \n",
       "\n",
       "             type                                   uri  valence  \n",
       "0  audio_features  spotify:track:2NEBP8SXEqwZt2PRdPXXuy    0.494  \n",
       "1  audio_features  spotify:track:1xda2R5cSP7GKlqXY3Pji2    0.687  \n",
       "2  audio_features  spotify:track:16QN8cBubEq706vNtPpOME    0.758  \n",
       "3  audio_features  spotify:track:0DVevhcLPiHoLaVyl6dSGr    0.949  \n",
       "4  audio_features  spotify:track:78GAfIYfFDN22ezrrRWiAE    0.750  "
      ]
     },
     "execution_count": 24,
     "metadata": {},
     "output_type": "execute_result"
    }
   ],
   "source": [
    "track_features_df = pd.DataFrame(track_features)\n",
    "track_features_df.head()"
   ]
  },
  {
   "cell_type": "markdown",
   "metadata": {},
   "source": [
    "**Dropping Duplicates**"
   ]
  },
  {
   "cell_type": "code",
   "execution_count": 25,
   "metadata": {},
   "outputs": [
    {
     "data": {
      "text/plain": [
       "(23951, 18)"
      ]
     },
     "execution_count": 25,
     "metadata": {},
     "output_type": "execute_result"
    }
   ],
   "source": [
    "track_features_df.drop_duplicates(inplace=True)\n",
    "track_features_df.shape"
   ]
  },
  {
   "cell_type": "markdown",
   "metadata": {},
   "source": [
    "### Load Missing Tracks"
   ]
  },
  {
   "cell_type": "code",
   "execution_count": 26,
   "metadata": {},
   "outputs": [
    {
     "data": {
      "text/plain": [
       "7917"
      ]
     },
     "execution_count": 26,
     "metadata": {},
     "output_type": "execute_result"
    }
   ],
   "source": [
    "import pickle\n",
    "infile = open('../data/missing_tracks_features','rb')\n",
    "missing_tracks_features = pickle.load(infile)\n",
    "infile.close()\n",
    "\n",
    "len(missing_tracks_features)"
   ]
  },
  {
   "cell_type": "code",
   "execution_count": 27,
   "metadata": {},
   "outputs": [
    {
     "data": {
      "text/html": [
       "<div>\n",
       "<style scoped>\n",
       "    .dataframe tbody tr th:only-of-type {\n",
       "        vertical-align: middle;\n",
       "    }\n",
       "\n",
       "    .dataframe tbody tr th {\n",
       "        vertical-align: top;\n",
       "    }\n",
       "\n",
       "    .dataframe thead th {\n",
       "        text-align: right;\n",
       "    }\n",
       "</style>\n",
       "<table border=\"1\" class=\"dataframe\">\n",
       "  <thead>\n",
       "    <tr style=\"text-align: right;\">\n",
       "      <th></th>\n",
       "      <th>acousticness</th>\n",
       "      <th>analysis_url</th>\n",
       "      <th>danceability</th>\n",
       "      <th>duration_ms</th>\n",
       "      <th>energy</th>\n",
       "      <th>id</th>\n",
       "      <th>instrumentalness</th>\n",
       "      <th>key</th>\n",
       "      <th>liveness</th>\n",
       "      <th>loudness</th>\n",
       "      <th>mode</th>\n",
       "      <th>speechiness</th>\n",
       "      <th>tempo</th>\n",
       "      <th>time_signature</th>\n",
       "      <th>track_href</th>\n",
       "      <th>type</th>\n",
       "      <th>uri</th>\n",
       "      <th>valence</th>\n",
       "    </tr>\n",
       "  </thead>\n",
       "  <tbody>\n",
       "    <tr>\n",
       "      <th>0</th>\n",
       "      <td>0.040400</td>\n",
       "      <td>https://api.spotify.com/v1/audio-analysis/5p1e...</td>\n",
       "      <td>0.677</td>\n",
       "      <td>152913</td>\n",
       "      <td>0.744</td>\n",
       "      <td>5p1ex0pXv6jSPJ6QbumQpD</td>\n",
       "      <td>0.000160</td>\n",
       "      <td>10</td>\n",
       "      <td>0.074</td>\n",
       "      <td>-6.806</td>\n",
       "      <td>0</td>\n",
       "      <td>0.0295</td>\n",
       "      <td>124.080</td>\n",
       "      <td>4</td>\n",
       "      <td>https://api.spotify.com/v1/tracks/5p1ex0pXv6jS...</td>\n",
       "      <td>audio_features</td>\n",
       "      <td>spotify:track:5p1ex0pXv6jSPJ6QbumQpD</td>\n",
       "      <td>0.631</td>\n",
       "    </tr>\n",
       "    <tr>\n",
       "      <th>1</th>\n",
       "      <td>0.129000</td>\n",
       "      <td>https://api.spotify.com/v1/audio-analysis/1ahV...</td>\n",
       "      <td>0.440</td>\n",
       "      <td>207095</td>\n",
       "      <td>0.635</td>\n",
       "      <td>1ahVFh0ViDZr8LvkEVlq3B</td>\n",
       "      <td>0.000000</td>\n",
       "      <td>11</td>\n",
       "      <td>0.121</td>\n",
       "      <td>-6.385</td>\n",
       "      <td>1</td>\n",
       "      <td>0.0326</td>\n",
       "      <td>128.133</td>\n",
       "      <td>4</td>\n",
       "      <td>https://api.spotify.com/v1/tracks/1ahVFh0ViDZr...</td>\n",
       "      <td>audio_features</td>\n",
       "      <td>spotify:track:1ahVFh0ViDZr8LvkEVlq3B</td>\n",
       "      <td>0.327</td>\n",
       "    </tr>\n",
       "    <tr>\n",
       "      <th>2</th>\n",
       "      <td>0.272000</td>\n",
       "      <td>https://api.spotify.com/v1/audio-analysis/6nDK...</td>\n",
       "      <td>0.802</td>\n",
       "      <td>157202</td>\n",
       "      <td>0.645</td>\n",
       "      <td>6nDKrPlXdpomGBgAlO7UdP</td>\n",
       "      <td>0.000000</td>\n",
       "      <td>5</td>\n",
       "      <td>0.119</td>\n",
       "      <td>-6.181</td>\n",
       "      <td>0</td>\n",
       "      <td>0.0715</td>\n",
       "      <td>100.001</td>\n",
       "      <td>4</td>\n",
       "      <td>https://api.spotify.com/v1/tracks/6nDKrPlXdpom...</td>\n",
       "      <td>audio_features</td>\n",
       "      <td>spotify:track:6nDKrPlXdpomGBgAlO7UdP</td>\n",
       "      <td>0.376</td>\n",
       "    </tr>\n",
       "    <tr>\n",
       "      <th>3</th>\n",
       "      <td>0.000156</td>\n",
       "      <td>https://api.spotify.com/v1/audio-analysis/2UkF...</td>\n",
       "      <td>0.427</td>\n",
       "      <td>176378</td>\n",
       "      <td>0.916</td>\n",
       "      <td>2UkF0EWfh0T90ScJzGqnD1</td>\n",
       "      <td>0.000005</td>\n",
       "      <td>4</td>\n",
       "      <td>0.154</td>\n",
       "      <td>-3.716</td>\n",
       "      <td>0</td>\n",
       "      <td>0.1160</td>\n",
       "      <td>123.539</td>\n",
       "      <td>4</td>\n",
       "      <td>https://api.spotify.com/v1/tracks/2UkF0EWfh0T9...</td>\n",
       "      <td>audio_features</td>\n",
       "      <td>spotify:track:2UkF0EWfh0T90ScJzGqnD1</td>\n",
       "      <td>0.688</td>\n",
       "    </tr>\n",
       "    <tr>\n",
       "      <th>4</th>\n",
       "      <td>0.007530</td>\n",
       "      <td>https://api.spotify.com/v1/audio-analysis/2o0w...</td>\n",
       "      <td>0.574</td>\n",
       "      <td>206475</td>\n",
       "      <td>0.625</td>\n",
       "      <td>2o0wnU32TIXI3dfH9rdkEK</td>\n",
       "      <td>0.000000</td>\n",
       "      <td>7</td>\n",
       "      <td>0.487</td>\n",
       "      <td>-6.231</td>\n",
       "      <td>1</td>\n",
       "      <td>0.0439</td>\n",
       "      <td>128.006</td>\n",
       "      <td>4</td>\n",
       "      <td>https://api.spotify.com/v1/tracks/2o0wnU32TIXI...</td>\n",
       "      <td>audio_features</td>\n",
       "      <td>spotify:track:2o0wnU32TIXI3dfH9rdkEK</td>\n",
       "      <td>0.388</td>\n",
       "    </tr>\n",
       "  </tbody>\n",
       "</table>\n",
       "</div>"
      ],
      "text/plain": [
       "   acousticness                                       analysis_url  \\\n",
       "0      0.040400  https://api.spotify.com/v1/audio-analysis/5p1e...   \n",
       "1      0.129000  https://api.spotify.com/v1/audio-analysis/1ahV...   \n",
       "2      0.272000  https://api.spotify.com/v1/audio-analysis/6nDK...   \n",
       "3      0.000156  https://api.spotify.com/v1/audio-analysis/2UkF...   \n",
       "4      0.007530  https://api.spotify.com/v1/audio-analysis/2o0w...   \n",
       "\n",
       "   danceability  duration_ms  energy                      id  \\\n",
       "0         0.677       152913   0.744  5p1ex0pXv6jSPJ6QbumQpD   \n",
       "1         0.440       207095   0.635  1ahVFh0ViDZr8LvkEVlq3B   \n",
       "2         0.802       157202   0.645  6nDKrPlXdpomGBgAlO7UdP   \n",
       "3         0.427       176378   0.916  2UkF0EWfh0T90ScJzGqnD1   \n",
       "4         0.574       206475   0.625  2o0wnU32TIXI3dfH9rdkEK   \n",
       "\n",
       "   instrumentalness  key  liveness  loudness  mode  speechiness    tempo  \\\n",
       "0          0.000160   10     0.074    -6.806     0       0.0295  124.080   \n",
       "1          0.000000   11     0.121    -6.385     1       0.0326  128.133   \n",
       "2          0.000000    5     0.119    -6.181     0       0.0715  100.001   \n",
       "3          0.000005    4     0.154    -3.716     0       0.1160  123.539   \n",
       "4          0.000000    7     0.487    -6.231     1       0.0439  128.006   \n",
       "\n",
       "   time_signature                                         track_href  \\\n",
       "0               4  https://api.spotify.com/v1/tracks/5p1ex0pXv6jS...   \n",
       "1               4  https://api.spotify.com/v1/tracks/1ahVFh0ViDZr...   \n",
       "2               4  https://api.spotify.com/v1/tracks/6nDKrPlXdpom...   \n",
       "3               4  https://api.spotify.com/v1/tracks/2UkF0EWfh0T9...   \n",
       "4               4  https://api.spotify.com/v1/tracks/2o0wnU32TIXI...   \n",
       "\n",
       "             type                                   uri  valence  \n",
       "0  audio_features  spotify:track:5p1ex0pXv6jSPJ6QbumQpD    0.631  \n",
       "1  audio_features  spotify:track:1ahVFh0ViDZr8LvkEVlq3B    0.327  \n",
       "2  audio_features  spotify:track:6nDKrPlXdpomGBgAlO7UdP    0.376  \n",
       "3  audio_features  spotify:track:2UkF0EWfh0T90ScJzGqnD1    0.688  \n",
       "4  audio_features  spotify:track:2o0wnU32TIXI3dfH9rdkEK    0.388  "
      ]
     },
     "execution_count": 27,
     "metadata": {},
     "output_type": "execute_result"
    }
   ],
   "source": [
    "missing_tracks_features_df = pd.DataFrame(missing_tracks_features)\n",
    "missing_tracks_features_df.head()"
   ]
  },
  {
   "cell_type": "markdown",
   "metadata": {},
   "source": [
    "Concatenate Dataframes"
   ]
  },
  {
   "cell_type": "code",
   "execution_count": 28,
   "metadata": {},
   "outputs": [
    {
     "data": {
      "text/plain": [
       "(31868, 18)"
      ]
     },
     "execution_count": 28,
     "metadata": {},
     "output_type": "execute_result"
    }
   ],
   "source": [
    "track_features_df = pd.concat([track_features_df, missing_tracks_features_df])\n",
    "track_features_df.shape"
   ]
  },
  {
   "cell_type": "code",
   "execution_count": 29,
   "metadata": {},
   "outputs": [
    {
     "data": {
      "text/plain": [
       "(31852, 18)"
      ]
     },
     "execution_count": 29,
     "metadata": {},
     "output_type": "execute_result"
    }
   ],
   "source": [
    "track_features_df.drop_duplicates(inplace=True)\n",
    "track_features_df.shape"
   ]
  },
  {
   "cell_type": "markdown",
   "metadata": {},
   "source": [
    "# Combining Meta Data"
   ]
  },
  {
   "cell_type": "markdown",
   "metadata": {},
   "source": [
    "### Append  Artist Genres"
   ]
  },
  {
   "cell_type": "code",
   "execution_count": 30,
   "metadata": {},
   "outputs": [],
   "source": [
    "df_combined = pd.merge(left = tracks_df, \n",
    "              right = artist_df[['artist_id', 'artist_genres','artist_popularity', 'artist_follower_total']], \n",
    "              how = 'left',\n",
    "             on = 'artist_id')"
   ]
  },
  {
   "cell_type": "code",
   "execution_count": 31,
   "metadata": {},
   "outputs": [
    {
     "data": {
      "text/html": [
       "<div>\n",
       "<style scoped>\n",
       "    .dataframe tbody tr th:only-of-type {\n",
       "        vertical-align: middle;\n",
       "    }\n",
       "\n",
       "    .dataframe tbody tr th {\n",
       "        vertical-align: top;\n",
       "    }\n",
       "\n",
       "    .dataframe thead th {\n",
       "        text-align: right;\n",
       "    }\n",
       "</style>\n",
       "<table border=\"1\" class=\"dataframe\">\n",
       "  <thead>\n",
       "    <tr style=\"text-align: right;\">\n",
       "      <th></th>\n",
       "      <th>album_id</th>\n",
       "      <th>album_name</th>\n",
       "      <th>artist_id</th>\n",
       "      <th>artist_name</th>\n",
       "      <th>playlist_id</th>\n",
       "      <th>track_duration</th>\n",
       "      <th>track_id</th>\n",
       "      <th>track_name</th>\n",
       "      <th>track_popularity</th>\n",
       "      <th>artist_genres</th>\n",
       "      <th>artist_popularity</th>\n",
       "      <th>artist_follower_total</th>\n",
       "    </tr>\n",
       "  </thead>\n",
       "  <tbody>\n",
       "    <tr>\n",
       "      <th>0</th>\n",
       "      <td>3g0mfsWlOOUNheV5L3kQKs</td>\n",
       "      <td>Solid Gold</td>\n",
       "      <td>6n28c9qs9hNGriNa72b26u</td>\n",
       "      <td>PNAU</td>\n",
       "      <td>37i9dQZF1DX4dyzvuaRJ0n</td>\n",
       "      <td>208367.0</td>\n",
       "      <td>7DQ5CZjAQdhgDgdnSXxJ7Z</td>\n",
       "      <td>Solid Gold</td>\n",
       "      <td>58.0</td>\n",
       "      <td>[alternative dance, aussietronica, australian ...</td>\n",
       "      <td>65</td>\n",
       "      <td>99538.0</td>\n",
       "    </tr>\n",
       "    <tr>\n",
       "      <th>1</th>\n",
       "      <td>0agqVZjOqVtqHkq3pTFPXb</td>\n",
       "      <td>Piece Of Your Heart</td>\n",
       "      <td>0xRXCcSX89eobfrshSVdyu</td>\n",
       "      <td>MEDUZA</td>\n",
       "      <td>37i9dQZF1DX4dyzvuaRJ0n</td>\n",
       "      <td>152913.0</td>\n",
       "      <td>5p1ex0pXv6jSPJ6QbumQpD</td>\n",
       "      <td>Piece Of Your Heart</td>\n",
       "      <td>87.0</td>\n",
       "      <td>[]</td>\n",
       "      <td>74</td>\n",
       "      <td>6140.0</td>\n",
       "    </tr>\n",
       "    <tr>\n",
       "      <th>2</th>\n",
       "      <td>7KJTuTXYSnBGNgAxte3CSg</td>\n",
       "      <td>No Sleep (feat. Bonn)</td>\n",
       "      <td>60d24wfXkVzDSfLS6hyCjZ</td>\n",
       "      <td>Martin Garrix</td>\n",
       "      <td>37i9dQZF1DX4dyzvuaRJ0n</td>\n",
       "      <td>207094.0</td>\n",
       "      <td>1ahVFh0ViDZr8LvkEVlq3B</td>\n",
       "      <td>No Sleep (feat. Bonn)</td>\n",
       "      <td>84.0</td>\n",
       "      <td>[big room, edm, pop, progressive house, tropic...</td>\n",
       "      <td>86</td>\n",
       "      <td>9913930.0</td>\n",
       "    </tr>\n",
       "    <tr>\n",
       "      <th>3</th>\n",
       "      <td>7Jx7doYIXITyR2LQB0Hvbc</td>\n",
       "      <td>SOS</td>\n",
       "      <td>1vCWHaC5f2uS3yhpwWbIA6</td>\n",
       "      <td>Avicii</td>\n",
       "      <td>37i9dQZF1DX4dyzvuaRJ0n</td>\n",
       "      <td>157202.0</td>\n",
       "      <td>6nDKrPlXdpomGBgAlO7UdP</td>\n",
       "      <td>SOS</td>\n",
       "      <td>95.0</td>\n",
       "      <td>[big room, dance pop, edm, pop]</td>\n",
       "      <td>89</td>\n",
       "      <td>13163990.0</td>\n",
       "    </tr>\n",
       "    <tr>\n",
       "      <th>4</th>\n",
       "      <td>5kwv2A2qAK8pN007hSA56t</td>\n",
       "      <td>Changa</td>\n",
       "      <td>6n28c9qs9hNGriNa72b26u</td>\n",
       "      <td>PNAU</td>\n",
       "      <td>37i9dQZF1DX4dyzvuaRJ0n</td>\n",
       "      <td>188470.0</td>\n",
       "      <td>5TL9e2xgtvJFtNCBsq1CgX</td>\n",
       "      <td>Changa - Blanke Remix</td>\n",
       "      <td>59.0</td>\n",
       "      <td>[alternative dance, aussietronica, australian ...</td>\n",
       "      <td>65</td>\n",
       "      <td>99538.0</td>\n",
       "    </tr>\n",
       "  </tbody>\n",
       "</table>\n",
       "</div>"
      ],
      "text/plain": [
       "                 album_id             album_name               artist_id  \\\n",
       "0  3g0mfsWlOOUNheV5L3kQKs             Solid Gold  6n28c9qs9hNGriNa72b26u   \n",
       "1  0agqVZjOqVtqHkq3pTFPXb    Piece Of Your Heart  0xRXCcSX89eobfrshSVdyu   \n",
       "2  7KJTuTXYSnBGNgAxte3CSg  No Sleep (feat. Bonn)  60d24wfXkVzDSfLS6hyCjZ   \n",
       "3  7Jx7doYIXITyR2LQB0Hvbc                    SOS  1vCWHaC5f2uS3yhpwWbIA6   \n",
       "4  5kwv2A2qAK8pN007hSA56t                 Changa  6n28c9qs9hNGriNa72b26u   \n",
       "\n",
       "     artist_name             playlist_id  track_duration  \\\n",
       "0           PNAU  37i9dQZF1DX4dyzvuaRJ0n        208367.0   \n",
       "1         MEDUZA  37i9dQZF1DX4dyzvuaRJ0n        152913.0   \n",
       "2  Martin Garrix  37i9dQZF1DX4dyzvuaRJ0n        207094.0   \n",
       "3         Avicii  37i9dQZF1DX4dyzvuaRJ0n        157202.0   \n",
       "4           PNAU  37i9dQZF1DX4dyzvuaRJ0n        188470.0   \n",
       "\n",
       "                 track_id             track_name  track_popularity  \\\n",
       "0  7DQ5CZjAQdhgDgdnSXxJ7Z             Solid Gold              58.0   \n",
       "1  5p1ex0pXv6jSPJ6QbumQpD    Piece Of Your Heart              87.0   \n",
       "2  1ahVFh0ViDZr8LvkEVlq3B  No Sleep (feat. Bonn)              84.0   \n",
       "3  6nDKrPlXdpomGBgAlO7UdP                    SOS              95.0   \n",
       "4  5TL9e2xgtvJFtNCBsq1CgX  Changa - Blanke Remix              59.0   \n",
       "\n",
       "                                       artist_genres  artist_popularity  \\\n",
       "0  [alternative dance, aussietronica, australian ...                 65   \n",
       "1                                                 []                 74   \n",
       "2  [big room, edm, pop, progressive house, tropic...                 86   \n",
       "3                    [big room, dance pop, edm, pop]                 89   \n",
       "4  [alternative dance, aussietronica, australian ...                 65   \n",
       "\n",
       "   artist_follower_total  \n",
       "0                99538.0  \n",
       "1                 6140.0  \n",
       "2              9913930.0  \n",
       "3             13163990.0  \n",
       "4                99538.0  "
      ]
     },
     "execution_count": 31,
     "metadata": {},
     "output_type": "execute_result"
    }
   ],
   "source": [
    "df_combined.head()"
   ]
  },
  {
   "cell_type": "code",
   "execution_count": 32,
   "metadata": {},
   "outputs": [
    {
     "data": {
      "text/plain": [
       "(37786, 12)"
      ]
     },
     "execution_count": 32,
     "metadata": {},
     "output_type": "execute_result"
    }
   ],
   "source": [
    "df_combined.shape"
   ]
  },
  {
   "cell_type": "markdown",
   "metadata": {},
   "source": [
    "### Append Related Artists Data"
   ]
  },
  {
   "cell_type": "code",
   "execution_count": 33,
   "metadata": {},
   "outputs": [
    {
     "data": {
      "text/plain": [
       "(37786, 14)"
      ]
     },
     "execution_count": 33,
     "metadata": {},
     "output_type": "execute_result"
    }
   ],
   "source": [
    "df_combined = pd.merge(left = df_combined, \n",
    "              right = related_artist_df, \n",
    "              how = 'left', \n",
    "              on = 'artist_id')\n",
    "df_combined.shape"
   ]
  },
  {
   "cell_type": "markdown",
   "metadata": {},
   "source": [
    "### Append Track Features"
   ]
  },
  {
   "cell_type": "code",
   "execution_count": 34,
   "metadata": {},
   "outputs": [],
   "source": [
    "track_cols = ['danceability',\n",
    "              'energy',\n",
    "              'key',\n",
    "             'loudness',\n",
    "             'mode',\n",
    "             'speechiness',\n",
    "             'acousticness',\n",
    "             'instrumentalness',\n",
    "             'liveness',\n",
    "             'valence',\n",
    "             'tempo',\n",
    "             'id']"
   ]
  },
  {
   "cell_type": "code",
   "execution_count": 35,
   "metadata": {},
   "outputs": [
    {
     "data": {
      "text/html": [
       "<div>\n",
       "<style scoped>\n",
       "    .dataframe tbody tr th:only-of-type {\n",
       "        vertical-align: middle;\n",
       "    }\n",
       "\n",
       "    .dataframe tbody tr th {\n",
       "        vertical-align: top;\n",
       "    }\n",
       "\n",
       "    .dataframe thead th {\n",
       "        text-align: right;\n",
       "    }\n",
       "</style>\n",
       "<table border=\"1\" class=\"dataframe\">\n",
       "  <thead>\n",
       "    <tr style=\"text-align: right;\">\n",
       "      <th></th>\n",
       "      <th>album_id</th>\n",
       "      <th>album_name</th>\n",
       "      <th>artist_id</th>\n",
       "      <th>artist_name</th>\n",
       "      <th>playlist_id</th>\n",
       "      <th>track_duration</th>\n",
       "      <th>track_id</th>\n",
       "      <th>track_name</th>\n",
       "      <th>track_popularity</th>\n",
       "      <th>artist_genres</th>\n",
       "      <th>...</th>\n",
       "      <th>key</th>\n",
       "      <th>loudness</th>\n",
       "      <th>mode</th>\n",
       "      <th>speechiness</th>\n",
       "      <th>acousticness</th>\n",
       "      <th>instrumentalness</th>\n",
       "      <th>liveness</th>\n",
       "      <th>valence</th>\n",
       "      <th>tempo</th>\n",
       "      <th>id</th>\n",
       "    </tr>\n",
       "  </thead>\n",
       "  <tbody>\n",
       "    <tr>\n",
       "      <th>0</th>\n",
       "      <td>3g0mfsWlOOUNheV5L3kQKs</td>\n",
       "      <td>Solid Gold</td>\n",
       "      <td>6n28c9qs9hNGriNa72b26u</td>\n",
       "      <td>PNAU</td>\n",
       "      <td>37i9dQZF1DX4dyzvuaRJ0n</td>\n",
       "      <td>208367.0</td>\n",
       "      <td>7DQ5CZjAQdhgDgdnSXxJ7Z</td>\n",
       "      <td>Solid Gold</td>\n",
       "      <td>58.0</td>\n",
       "      <td>[alternative dance, aussietronica, australian ...</td>\n",
       "      <td>...</td>\n",
       "      <td>5.0</td>\n",
       "      <td>-2.245</td>\n",
       "      <td>0.0</td>\n",
       "      <td>0.0541</td>\n",
       "      <td>0.0978</td>\n",
       "      <td>0.000001</td>\n",
       "      <td>0.0836</td>\n",
       "      <td>0.2950</td>\n",
       "      <td>104.983</td>\n",
       "      <td>7DQ5CZjAQdhgDgdnSXxJ7Z</td>\n",
       "    </tr>\n",
       "    <tr>\n",
       "      <th>1</th>\n",
       "      <td>0agqVZjOqVtqHkq3pTFPXb</td>\n",
       "      <td>Piece Of Your Heart</td>\n",
       "      <td>0xRXCcSX89eobfrshSVdyu</td>\n",
       "      <td>MEDUZA</td>\n",
       "      <td>37i9dQZF1DX4dyzvuaRJ0n</td>\n",
       "      <td>152913.0</td>\n",
       "      <td>5p1ex0pXv6jSPJ6QbumQpD</td>\n",
       "      <td>Piece Of Your Heart</td>\n",
       "      <td>87.0</td>\n",
       "      <td>[]</td>\n",
       "      <td>...</td>\n",
       "      <td>10.0</td>\n",
       "      <td>-6.806</td>\n",
       "      <td>0.0</td>\n",
       "      <td>0.0295</td>\n",
       "      <td>0.0404</td>\n",
       "      <td>0.000160</td>\n",
       "      <td>0.0740</td>\n",
       "      <td>0.6310</td>\n",
       "      <td>124.080</td>\n",
       "      <td>5p1ex0pXv6jSPJ6QbumQpD</td>\n",
       "    </tr>\n",
       "    <tr>\n",
       "      <th>2</th>\n",
       "      <td>7KJTuTXYSnBGNgAxte3CSg</td>\n",
       "      <td>No Sleep (feat. Bonn)</td>\n",
       "      <td>60d24wfXkVzDSfLS6hyCjZ</td>\n",
       "      <td>Martin Garrix</td>\n",
       "      <td>37i9dQZF1DX4dyzvuaRJ0n</td>\n",
       "      <td>207094.0</td>\n",
       "      <td>1ahVFh0ViDZr8LvkEVlq3B</td>\n",
       "      <td>No Sleep (feat. Bonn)</td>\n",
       "      <td>84.0</td>\n",
       "      <td>[big room, edm, pop, progressive house, tropic...</td>\n",
       "      <td>...</td>\n",
       "      <td>11.0</td>\n",
       "      <td>-6.385</td>\n",
       "      <td>1.0</td>\n",
       "      <td>0.0326</td>\n",
       "      <td>0.1290</td>\n",
       "      <td>0.000000</td>\n",
       "      <td>0.1210</td>\n",
       "      <td>0.3270</td>\n",
       "      <td>128.133</td>\n",
       "      <td>1ahVFh0ViDZr8LvkEVlq3B</td>\n",
       "    </tr>\n",
       "    <tr>\n",
       "      <th>3</th>\n",
       "      <td>7Jx7doYIXITyR2LQB0Hvbc</td>\n",
       "      <td>SOS</td>\n",
       "      <td>1vCWHaC5f2uS3yhpwWbIA6</td>\n",
       "      <td>Avicii</td>\n",
       "      <td>37i9dQZF1DX4dyzvuaRJ0n</td>\n",
       "      <td>157202.0</td>\n",
       "      <td>6nDKrPlXdpomGBgAlO7UdP</td>\n",
       "      <td>SOS</td>\n",
       "      <td>95.0</td>\n",
       "      <td>[big room, dance pop, edm, pop]</td>\n",
       "      <td>...</td>\n",
       "      <td>5.0</td>\n",
       "      <td>-6.181</td>\n",
       "      <td>0.0</td>\n",
       "      <td>0.0715</td>\n",
       "      <td>0.2720</td>\n",
       "      <td>0.000000</td>\n",
       "      <td>0.1190</td>\n",
       "      <td>0.3760</td>\n",
       "      <td>100.001</td>\n",
       "      <td>6nDKrPlXdpomGBgAlO7UdP</td>\n",
       "    </tr>\n",
       "    <tr>\n",
       "      <th>4</th>\n",
       "      <td>5kwv2A2qAK8pN007hSA56t</td>\n",
       "      <td>Changa</td>\n",
       "      <td>6n28c9qs9hNGriNa72b26u</td>\n",
       "      <td>PNAU</td>\n",
       "      <td>37i9dQZF1DX4dyzvuaRJ0n</td>\n",
       "      <td>188470.0</td>\n",
       "      <td>5TL9e2xgtvJFtNCBsq1CgX</td>\n",
       "      <td>Changa - Blanke Remix</td>\n",
       "      <td>59.0</td>\n",
       "      <td>[alternative dance, aussietronica, australian ...</td>\n",
       "      <td>...</td>\n",
       "      <td>9.0</td>\n",
       "      <td>-5.546</td>\n",
       "      <td>1.0</td>\n",
       "      <td>0.0431</td>\n",
       "      <td>0.0330</td>\n",
       "      <td>0.119000</td>\n",
       "      <td>0.2720</td>\n",
       "      <td>0.0654</td>\n",
       "      <td>110.086</td>\n",
       "      <td>5TL9e2xgtvJFtNCBsq1CgX</td>\n",
       "    </tr>\n",
       "  </tbody>\n",
       "</table>\n",
       "<p>5 rows × 26 columns</p>\n",
       "</div>"
      ],
      "text/plain": [
       "                 album_id             album_name               artist_id  \\\n",
       "0  3g0mfsWlOOUNheV5L3kQKs             Solid Gold  6n28c9qs9hNGriNa72b26u   \n",
       "1  0agqVZjOqVtqHkq3pTFPXb    Piece Of Your Heart  0xRXCcSX89eobfrshSVdyu   \n",
       "2  7KJTuTXYSnBGNgAxte3CSg  No Sleep (feat. Bonn)  60d24wfXkVzDSfLS6hyCjZ   \n",
       "3  7Jx7doYIXITyR2LQB0Hvbc                    SOS  1vCWHaC5f2uS3yhpwWbIA6   \n",
       "4  5kwv2A2qAK8pN007hSA56t                 Changa  6n28c9qs9hNGriNa72b26u   \n",
       "\n",
       "     artist_name             playlist_id  track_duration  \\\n",
       "0           PNAU  37i9dQZF1DX4dyzvuaRJ0n        208367.0   \n",
       "1         MEDUZA  37i9dQZF1DX4dyzvuaRJ0n        152913.0   \n",
       "2  Martin Garrix  37i9dQZF1DX4dyzvuaRJ0n        207094.0   \n",
       "3         Avicii  37i9dQZF1DX4dyzvuaRJ0n        157202.0   \n",
       "4           PNAU  37i9dQZF1DX4dyzvuaRJ0n        188470.0   \n",
       "\n",
       "                 track_id             track_name  track_popularity  \\\n",
       "0  7DQ5CZjAQdhgDgdnSXxJ7Z             Solid Gold              58.0   \n",
       "1  5p1ex0pXv6jSPJ6QbumQpD    Piece Of Your Heart              87.0   \n",
       "2  1ahVFh0ViDZr8LvkEVlq3B  No Sleep (feat. Bonn)              84.0   \n",
       "3  6nDKrPlXdpomGBgAlO7UdP                    SOS              95.0   \n",
       "4  5TL9e2xgtvJFtNCBsq1CgX  Changa - Blanke Remix              59.0   \n",
       "\n",
       "                                       artist_genres  ...   key  loudness  \\\n",
       "0  [alternative dance, aussietronica, australian ...  ...   5.0    -2.245   \n",
       "1                                                 []  ...  10.0    -6.806   \n",
       "2  [big room, edm, pop, progressive house, tropic...  ...  11.0    -6.385   \n",
       "3                    [big room, dance pop, edm, pop]  ...   5.0    -6.181   \n",
       "4  [alternative dance, aussietronica, australian ...  ...   9.0    -5.546   \n",
       "\n",
       "  mode speechiness  acousticness  instrumentalness  liveness  valence  \\\n",
       "0  0.0      0.0541        0.0978          0.000001    0.0836   0.2950   \n",
       "1  0.0      0.0295        0.0404          0.000160    0.0740   0.6310   \n",
       "2  1.0      0.0326        0.1290          0.000000    0.1210   0.3270   \n",
       "3  0.0      0.0715        0.2720          0.000000    0.1190   0.3760   \n",
       "4  1.0      0.0431        0.0330          0.119000    0.2720   0.0654   \n",
       "\n",
       "     tempo                      id  \n",
       "0  104.983  7DQ5CZjAQdhgDgdnSXxJ7Z  \n",
       "1  124.080  5p1ex0pXv6jSPJ6QbumQpD  \n",
       "2  128.133  1ahVFh0ViDZr8LvkEVlq3B  \n",
       "3  100.001  6nDKrPlXdpomGBgAlO7UdP  \n",
       "4  110.086  5TL9e2xgtvJFtNCBsq1CgX  \n",
       "\n",
       "[5 rows x 26 columns]"
      ]
     },
     "execution_count": 35,
     "metadata": {},
     "output_type": "execute_result"
    }
   ],
   "source": [
    "df_combined = pd.merge(left = df_combined, \n",
    "              right = track_features_df[track_cols], \n",
    "              how = 'left', \n",
    "              left_on = 'track_id',\n",
    "             right_on = 'id')\n",
    "df_combined.head()"
   ]
  },
  {
   "cell_type": "code",
   "execution_count": 36,
   "metadata": {},
   "outputs": [
    {
     "data": {
      "text/plain": [
       "(37786, 26)"
      ]
     },
     "execution_count": 36,
     "metadata": {},
     "output_type": "execute_result"
    }
   ],
   "source": [
    "df_combined.shape"
   ]
  },
  {
   "cell_type": "markdown",
   "metadata": {},
   "source": [
    "#### Checking for Null Track Ids"
   ]
  },
  {
   "cell_type": "code",
   "execution_count": 37,
   "metadata": {},
   "outputs": [
    {
     "data": {
      "text/plain": [
       "album_id                    0\n",
       "album_name                  0\n",
       "artist_id                   0\n",
       "artist_name                 0\n",
       "playlist_id                 0\n",
       "track_duration              0\n",
       "track_id                    0\n",
       "track_name                  0\n",
       "track_popularity            0\n",
       "artist_genres               0\n",
       "artist_popularity           0\n",
       "artist_follower_total      62\n",
       "related_artist_ids          0\n",
       "related_artist_names        0\n",
       "danceability             5934\n",
       "energy                   5934\n",
       "key                      5934\n",
       "loudness                 5934\n",
       "mode                     5934\n",
       "speechiness              5934\n",
       "acousticness             5934\n",
       "instrumentalness         5934\n",
       "liveness                 5934\n",
       "valence                  5934\n",
       "tempo                    5934\n",
       "id                       5934\n",
       "dtype: int64"
      ]
     },
     "execution_count": 37,
     "metadata": {},
     "output_type": "execute_result"
    }
   ],
   "source": [
    "df_combined.isnull().sum()"
   ]
  },
  {
   "cell_type": "code",
   "execution_count": 38,
   "metadata": {},
   "outputs": [],
   "source": [
    "cols_order = ['track_id', 'track_name', 'artist_id', 'artist_name', 'album_id', 'album_name', \n",
    "             'playlist_id', 'track_popularity', 'track_duration', 'artist_popularity',\n",
    "             'artist_follower_total', 'danceability', 'energy',\n",
    "       'key', 'loudness', 'mode', 'speechiness', 'acousticness',\n",
    "       'instrumentalness', 'liveness', 'valence', 'tempo', 'artist_genres', \n",
    "              'related_artist_names']"
   ]
  },
  {
   "cell_type": "code",
   "execution_count": 39,
   "metadata": {},
   "outputs": [],
   "source": [
    "df_combined = df_combined[cols_order]"
   ]
  },
  {
   "cell_type": "code",
   "execution_count": 40,
   "metadata": {},
   "outputs": [
    {
     "data": {
      "text/plain": [
       "(37786, 24)"
      ]
     },
     "execution_count": 40,
     "metadata": {},
     "output_type": "execute_result"
    }
   ],
   "source": [
    "df_combined.shape"
   ]
  },
  {
   "cell_type": "code",
   "execution_count": 41,
   "metadata": {},
   "outputs": [
    {
     "data": {
      "text/html": [
       "<div>\n",
       "<style scoped>\n",
       "    .dataframe tbody tr th:only-of-type {\n",
       "        vertical-align: middle;\n",
       "    }\n",
       "\n",
       "    .dataframe tbody tr th {\n",
       "        vertical-align: top;\n",
       "    }\n",
       "\n",
       "    .dataframe thead th {\n",
       "        text-align: right;\n",
       "    }\n",
       "</style>\n",
       "<table border=\"1\" class=\"dataframe\">\n",
       "  <thead>\n",
       "    <tr style=\"text-align: right;\">\n",
       "      <th></th>\n",
       "      <th>track_id</th>\n",
       "      <th>track_name</th>\n",
       "      <th>artist_id</th>\n",
       "      <th>artist_name</th>\n",
       "      <th>album_id</th>\n",
       "      <th>album_name</th>\n",
       "      <th>playlist_id</th>\n",
       "      <th>track_popularity</th>\n",
       "      <th>track_duration</th>\n",
       "      <th>artist_popularity</th>\n",
       "      <th>...</th>\n",
       "      <th>loudness</th>\n",
       "      <th>mode</th>\n",
       "      <th>speechiness</th>\n",
       "      <th>acousticness</th>\n",
       "      <th>instrumentalness</th>\n",
       "      <th>liveness</th>\n",
       "      <th>valence</th>\n",
       "      <th>tempo</th>\n",
       "      <th>artist_genres</th>\n",
       "      <th>related_artist_names</th>\n",
       "    </tr>\n",
       "  </thead>\n",
       "  <tbody>\n",
       "    <tr>\n",
       "      <th>0</th>\n",
       "      <td>7DQ5CZjAQdhgDgdnSXxJ7Z</td>\n",
       "      <td>Solid Gold</td>\n",
       "      <td>6n28c9qs9hNGriNa72b26u</td>\n",
       "      <td>PNAU</td>\n",
       "      <td>3g0mfsWlOOUNheV5L3kQKs</td>\n",
       "      <td>Solid Gold</td>\n",
       "      <td>37i9dQZF1DX4dyzvuaRJ0n</td>\n",
       "      <td>58.0</td>\n",
       "      <td>208367.0</td>\n",
       "      <td>65</td>\n",
       "      <td>...</td>\n",
       "      <td>-2.245</td>\n",
       "      <td>0.0</td>\n",
       "      <td>0.0541</td>\n",
       "      <td>0.0978</td>\n",
       "      <td>0.000001</td>\n",
       "      <td>0.0836</td>\n",
       "      <td>0.2950</td>\n",
       "      <td>104.983</td>\n",
       "      <td>[alternative dance, aussietronica, australian ...</td>\n",
       "      <td>[Eye of the Enemy, Cypecore, Rise to Fall, Mor...</td>\n",
       "    </tr>\n",
       "    <tr>\n",
       "      <th>1</th>\n",
       "      <td>5p1ex0pXv6jSPJ6QbumQpD</td>\n",
       "      <td>Piece Of Your Heart</td>\n",
       "      <td>0xRXCcSX89eobfrshSVdyu</td>\n",
       "      <td>MEDUZA</td>\n",
       "      <td>0agqVZjOqVtqHkq3pTFPXb</td>\n",
       "      <td>Piece Of Your Heart</td>\n",
       "      <td>37i9dQZF1DX4dyzvuaRJ0n</td>\n",
       "      <td>87.0</td>\n",
       "      <td>152913.0</td>\n",
       "      <td>74</td>\n",
       "      <td>...</td>\n",
       "      <td>-6.806</td>\n",
       "      <td>0.0</td>\n",
       "      <td>0.0295</td>\n",
       "      <td>0.0404</td>\n",
       "      <td>0.000160</td>\n",
       "      <td>0.0740</td>\n",
       "      <td>0.6310</td>\n",
       "      <td>124.080</td>\n",
       "      <td>[]</td>\n",
       "      <td>[Eye of the Enemy, Cypecore, Rise to Fall, Mor...</td>\n",
       "    </tr>\n",
       "    <tr>\n",
       "      <th>2</th>\n",
       "      <td>1ahVFh0ViDZr8LvkEVlq3B</td>\n",
       "      <td>No Sleep (feat. Bonn)</td>\n",
       "      <td>60d24wfXkVzDSfLS6hyCjZ</td>\n",
       "      <td>Martin Garrix</td>\n",
       "      <td>7KJTuTXYSnBGNgAxte3CSg</td>\n",
       "      <td>No Sleep (feat. Bonn)</td>\n",
       "      <td>37i9dQZF1DX4dyzvuaRJ0n</td>\n",
       "      <td>84.0</td>\n",
       "      <td>207094.0</td>\n",
       "      <td>86</td>\n",
       "      <td>...</td>\n",
       "      <td>-6.385</td>\n",
       "      <td>1.0</td>\n",
       "      <td>0.0326</td>\n",
       "      <td>0.1290</td>\n",
       "      <td>0.000000</td>\n",
       "      <td>0.1210</td>\n",
       "      <td>0.3270</td>\n",
       "      <td>128.133</td>\n",
       "      <td>[big room, edm, pop, progressive house, tropic...</td>\n",
       "      <td>[AREA21, Borgeous, KSHMR, Dimitri Vegas &amp; Like...</td>\n",
       "    </tr>\n",
       "    <tr>\n",
       "      <th>3</th>\n",
       "      <td>6nDKrPlXdpomGBgAlO7UdP</td>\n",
       "      <td>SOS</td>\n",
       "      <td>1vCWHaC5f2uS3yhpwWbIA6</td>\n",
       "      <td>Avicii</td>\n",
       "      <td>7Jx7doYIXITyR2LQB0Hvbc</td>\n",
       "      <td>SOS</td>\n",
       "      <td>37i9dQZF1DX4dyzvuaRJ0n</td>\n",
       "      <td>95.0</td>\n",
       "      <td>157202.0</td>\n",
       "      <td>89</td>\n",
       "      <td>...</td>\n",
       "      <td>-6.181</td>\n",
       "      <td>0.0</td>\n",
       "      <td>0.0715</td>\n",
       "      <td>0.2720</td>\n",
       "      <td>0.000000</td>\n",
       "      <td>0.1190</td>\n",
       "      <td>0.3760</td>\n",
       "      <td>100.001</td>\n",
       "      <td>[big room, dance pop, edm, pop]</td>\n",
       "      <td>[Alesso, Afrojack, Swedish House Mafia, John D...</td>\n",
       "    </tr>\n",
       "    <tr>\n",
       "      <th>4</th>\n",
       "      <td>5TL9e2xgtvJFtNCBsq1CgX</td>\n",
       "      <td>Changa - Blanke Remix</td>\n",
       "      <td>6n28c9qs9hNGriNa72b26u</td>\n",
       "      <td>PNAU</td>\n",
       "      <td>5kwv2A2qAK8pN007hSA56t</td>\n",
       "      <td>Changa</td>\n",
       "      <td>37i9dQZF1DX4dyzvuaRJ0n</td>\n",
       "      <td>59.0</td>\n",
       "      <td>188470.0</td>\n",
       "      <td>65</td>\n",
       "      <td>...</td>\n",
       "      <td>-5.546</td>\n",
       "      <td>1.0</td>\n",
       "      <td>0.0431</td>\n",
       "      <td>0.0330</td>\n",
       "      <td>0.119000</td>\n",
       "      <td>0.2720</td>\n",
       "      <td>0.0654</td>\n",
       "      <td>110.086</td>\n",
       "      <td>[alternative dance, aussietronica, australian ...</td>\n",
       "      <td>[Eye of the Enemy, Cypecore, Rise to Fall, Mor...</td>\n",
       "    </tr>\n",
       "  </tbody>\n",
       "</table>\n",
       "<p>5 rows × 24 columns</p>\n",
       "</div>"
      ],
      "text/plain": [
       "                 track_id             track_name               artist_id  \\\n",
       "0  7DQ5CZjAQdhgDgdnSXxJ7Z             Solid Gold  6n28c9qs9hNGriNa72b26u   \n",
       "1  5p1ex0pXv6jSPJ6QbumQpD    Piece Of Your Heart  0xRXCcSX89eobfrshSVdyu   \n",
       "2  1ahVFh0ViDZr8LvkEVlq3B  No Sleep (feat. Bonn)  60d24wfXkVzDSfLS6hyCjZ   \n",
       "3  6nDKrPlXdpomGBgAlO7UdP                    SOS  1vCWHaC5f2uS3yhpwWbIA6   \n",
       "4  5TL9e2xgtvJFtNCBsq1CgX  Changa - Blanke Remix  6n28c9qs9hNGriNa72b26u   \n",
       "\n",
       "     artist_name                album_id             album_name  \\\n",
       "0           PNAU  3g0mfsWlOOUNheV5L3kQKs             Solid Gold   \n",
       "1         MEDUZA  0agqVZjOqVtqHkq3pTFPXb    Piece Of Your Heart   \n",
       "2  Martin Garrix  7KJTuTXYSnBGNgAxte3CSg  No Sleep (feat. Bonn)   \n",
       "3         Avicii  7Jx7doYIXITyR2LQB0Hvbc                    SOS   \n",
       "4           PNAU  5kwv2A2qAK8pN007hSA56t                 Changa   \n",
       "\n",
       "              playlist_id  track_popularity  track_duration  \\\n",
       "0  37i9dQZF1DX4dyzvuaRJ0n              58.0        208367.0   \n",
       "1  37i9dQZF1DX4dyzvuaRJ0n              87.0        152913.0   \n",
       "2  37i9dQZF1DX4dyzvuaRJ0n              84.0        207094.0   \n",
       "3  37i9dQZF1DX4dyzvuaRJ0n              95.0        157202.0   \n",
       "4  37i9dQZF1DX4dyzvuaRJ0n              59.0        188470.0   \n",
       "\n",
       "   artist_popularity  ...  loudness  mode  speechiness  acousticness  \\\n",
       "0                 65  ...    -2.245   0.0       0.0541        0.0978   \n",
       "1                 74  ...    -6.806   0.0       0.0295        0.0404   \n",
       "2                 86  ...    -6.385   1.0       0.0326        0.1290   \n",
       "3                 89  ...    -6.181   0.0       0.0715        0.2720   \n",
       "4                 65  ...    -5.546   1.0       0.0431        0.0330   \n",
       "\n",
       "   instrumentalness  liveness  valence    tempo  \\\n",
       "0          0.000001    0.0836   0.2950  104.983   \n",
       "1          0.000160    0.0740   0.6310  124.080   \n",
       "2          0.000000    0.1210   0.3270  128.133   \n",
       "3          0.000000    0.1190   0.3760  100.001   \n",
       "4          0.119000    0.2720   0.0654  110.086   \n",
       "\n",
       "                                       artist_genres  \\\n",
       "0  [alternative dance, aussietronica, australian ...   \n",
       "1                                                 []   \n",
       "2  [big room, edm, pop, progressive house, tropic...   \n",
       "3                    [big room, dance pop, edm, pop]   \n",
       "4  [alternative dance, aussietronica, australian ...   \n",
       "\n",
       "                                related_artist_names  \n",
       "0  [Eye of the Enemy, Cypecore, Rise to Fall, Mor...  \n",
       "1  [Eye of the Enemy, Cypecore, Rise to Fall, Mor...  \n",
       "2  [AREA21, Borgeous, KSHMR, Dimitri Vegas & Like...  \n",
       "3  [Alesso, Afrojack, Swedish House Mafia, John D...  \n",
       "4  [Eye of the Enemy, Cypecore, Rise to Fall, Mor...  \n",
       "\n",
       "[5 rows x 24 columns]"
      ]
     },
     "execution_count": 41,
     "metadata": {},
     "output_type": "execute_result"
    }
   ],
   "source": [
    "df_combined.head()"
   ]
  },
  {
   "cell_type": "markdown",
   "metadata": {},
   "source": [
    "### Append Playlist Name"
   ]
  },
  {
   "cell_type": "markdown",
   "metadata": {},
   "source": [
    "#### Load Playlist Dictionary"
   ]
  },
  {
   "cell_type": "code",
   "execution_count": 42,
   "metadata": {},
   "outputs": [
    {
     "data": {
      "text/plain": [
       "751"
      ]
     },
     "execution_count": 42,
     "metadata": {},
     "output_type": "execute_result"
    }
   ],
   "source": [
    "import pickle\n",
    "infile = open('../data/playlist_dict','rb')\n",
    "playlist_dictionary = pickle.load(infile)\n",
    "infile.close()\n",
    "\n",
    "len(playlist_dictionary)"
   ]
  },
  {
   "cell_type": "markdown",
   "metadata": {},
   "source": [
    "#### Convert to Dataframe"
   ]
  },
  {
   "cell_type": "code",
   "execution_count": 43,
   "metadata": {},
   "outputs": [],
   "source": [
    "keys_df = pd.DataFrame(playlist_dictionary.keys(), columns = ['playlist_name'])\n"
   ]
  },
  {
   "cell_type": "code",
   "execution_count": 44,
   "metadata": {},
   "outputs": [
    {
     "data": {
      "text/html": [
       "<div>\n",
       "<style scoped>\n",
       "    .dataframe tbody tr th:only-of-type {\n",
       "        vertical-align: middle;\n",
       "    }\n",
       "\n",
       "    .dataframe tbody tr th {\n",
       "        vertical-align: top;\n",
       "    }\n",
       "\n",
       "    .dataframe thead th {\n",
       "        text-align: right;\n",
       "    }\n",
       "</style>\n",
       "<table border=\"1\" class=\"dataframe\">\n",
       "  <thead>\n",
       "    <tr style=\"text-align: right;\">\n",
       "      <th></th>\n",
       "      <th>playlist_name</th>\n",
       "    </tr>\n",
       "  </thead>\n",
       "  <tbody>\n",
       "    <tr>\n",
       "      <th>0</th>\n",
       "      <td>mint</td>\n",
       "    </tr>\n",
       "    <tr>\n",
       "      <th>1</th>\n",
       "      <td>Dance Rising</td>\n",
       "    </tr>\n",
       "    <tr>\n",
       "      <th>2</th>\n",
       "      <td>mint Acoustic</td>\n",
       "    </tr>\n",
       "    <tr>\n",
       "      <th>3</th>\n",
       "      <td>mint India</td>\n",
       "    </tr>\n",
       "    <tr>\n",
       "      <th>4</th>\n",
       "      <td>Friday Cratediggers</td>\n",
       "    </tr>\n",
       "  </tbody>\n",
       "</table>\n",
       "</div>"
      ],
      "text/plain": [
       "         playlist_name\n",
       "0                 mint\n",
       "1         Dance Rising\n",
       "2        mint Acoustic\n",
       "3           mint India\n",
       "4  Friday Cratediggers"
      ]
     },
     "execution_count": 44,
     "metadata": {},
     "output_type": "execute_result"
    }
   ],
   "source": [
    "keys_df.head()"
   ]
  },
  {
   "cell_type": "code",
   "execution_count": 45,
   "metadata": {},
   "outputs": [],
   "source": [
    "playlist_df = keys_df.join(pd.DataFrame(playlist_dictionary.values(),\n",
    "                                       columns = ['playlist_id'],\n",
    "                                       index = keys_df.index))"
   ]
  },
  {
   "cell_type": "code",
   "execution_count": 46,
   "metadata": {},
   "outputs": [
    {
     "data": {
      "text/html": [
       "<div>\n",
       "<style scoped>\n",
       "    .dataframe tbody tr th:only-of-type {\n",
       "        vertical-align: middle;\n",
       "    }\n",
       "\n",
       "    .dataframe tbody tr th {\n",
       "        vertical-align: top;\n",
       "    }\n",
       "\n",
       "    .dataframe thead th {\n",
       "        text-align: right;\n",
       "    }\n",
       "</style>\n",
       "<table border=\"1\" class=\"dataframe\">\n",
       "  <thead>\n",
       "    <tr style=\"text-align: right;\">\n",
       "      <th></th>\n",
       "      <th>playlist_name</th>\n",
       "      <th>playlist_id</th>\n",
       "    </tr>\n",
       "  </thead>\n",
       "  <tbody>\n",
       "    <tr>\n",
       "      <th>0</th>\n",
       "      <td>mint</td>\n",
       "      <td>37i9dQZF1DX4dyzvuaRJ0n</td>\n",
       "    </tr>\n",
       "    <tr>\n",
       "      <th>1</th>\n",
       "      <td>Dance Rising</td>\n",
       "      <td>37i9dQZF1DX8tZsk68tuDw</td>\n",
       "    </tr>\n",
       "    <tr>\n",
       "      <th>2</th>\n",
       "      <td>mint Acoustic</td>\n",
       "      <td>37i9dQZF1DX5GiUwx1edLZ</td>\n",
       "    </tr>\n",
       "    <tr>\n",
       "      <th>3</th>\n",
       "      <td>mint India</td>\n",
       "      <td>37i9dQZF1DXdMbUSbTOEeW</td>\n",
       "    </tr>\n",
       "    <tr>\n",
       "      <th>4</th>\n",
       "      <td>Friday Cratediggers</td>\n",
       "      <td>37i9dQZF1DXa41CMuUARjl</td>\n",
       "    </tr>\n",
       "  </tbody>\n",
       "</table>\n",
       "</div>"
      ],
      "text/plain": [
       "         playlist_name             playlist_id\n",
       "0                 mint  37i9dQZF1DX4dyzvuaRJ0n\n",
       "1         Dance Rising  37i9dQZF1DX8tZsk68tuDw\n",
       "2        mint Acoustic  37i9dQZF1DX5GiUwx1edLZ\n",
       "3           mint India  37i9dQZF1DXdMbUSbTOEeW\n",
       "4  Friday Cratediggers  37i9dQZF1DXa41CMuUARjl"
      ]
     },
     "execution_count": 46,
     "metadata": {},
     "output_type": "execute_result"
    }
   ],
   "source": [
    "playlist_df.head()"
   ]
  },
  {
   "cell_type": "markdown",
   "metadata": {},
   "source": [
    "#### Identify \"This Is\" Playlist"
   ]
  },
  {
   "cell_type": "code",
   "execution_count": 47,
   "metadata": {},
   "outputs": [],
   "source": [
    "playlist_df = playlist_df[~playlist_df['playlist_name'].str.contains(\"This Is\")]"
   ]
  },
  {
   "cell_type": "markdown",
   "metadata": {},
   "source": [
    "#### Remove \"This Is\" Playlist from Corpus"
   ]
  },
  {
   "cell_type": "code",
   "execution_count": 48,
   "metadata": {},
   "outputs": [
    {
     "data": {
      "text/plain": [
       "(37028, 25)"
      ]
     },
     "execution_count": 48,
     "metadata": {},
     "output_type": "execute_result"
    }
   ],
   "source": [
    "df_combined = pd.merge(left = df_combined, \n",
    "              right = playlist_df, \n",
    "              how = 'inner', \n",
    "              left_on = 'playlist_id',\n",
    "             right_on = 'playlist_id')\n",
    "df_combined.shape"
   ]
  },
  {
   "cell_type": "code",
   "execution_count": 49,
   "metadata": {},
   "outputs": [
    {
     "data": {
      "text/html": [
       "<div>\n",
       "<style scoped>\n",
       "    .dataframe tbody tr th:only-of-type {\n",
       "        vertical-align: middle;\n",
       "    }\n",
       "\n",
       "    .dataframe tbody tr th {\n",
       "        vertical-align: top;\n",
       "    }\n",
       "\n",
       "    .dataframe thead th {\n",
       "        text-align: right;\n",
       "    }\n",
       "</style>\n",
       "<table border=\"1\" class=\"dataframe\">\n",
       "  <thead>\n",
       "    <tr style=\"text-align: right;\">\n",
       "      <th></th>\n",
       "      <th>track_id</th>\n",
       "      <th>track_name</th>\n",
       "      <th>artist_id</th>\n",
       "      <th>artist_name</th>\n",
       "      <th>album_id</th>\n",
       "      <th>album_name</th>\n",
       "      <th>playlist_id</th>\n",
       "      <th>track_popularity</th>\n",
       "      <th>track_duration</th>\n",
       "      <th>artist_popularity</th>\n",
       "      <th>...</th>\n",
       "      <th>mode</th>\n",
       "      <th>speechiness</th>\n",
       "      <th>acousticness</th>\n",
       "      <th>instrumentalness</th>\n",
       "      <th>liveness</th>\n",
       "      <th>valence</th>\n",
       "      <th>tempo</th>\n",
       "      <th>artist_genres</th>\n",
       "      <th>related_artist_names</th>\n",
       "      <th>playlist_name</th>\n",
       "    </tr>\n",
       "  </thead>\n",
       "  <tbody>\n",
       "    <tr>\n",
       "      <th>0</th>\n",
       "      <td>7DQ5CZjAQdhgDgdnSXxJ7Z</td>\n",
       "      <td>Solid Gold</td>\n",
       "      <td>6n28c9qs9hNGriNa72b26u</td>\n",
       "      <td>PNAU</td>\n",
       "      <td>3g0mfsWlOOUNheV5L3kQKs</td>\n",
       "      <td>Solid Gold</td>\n",
       "      <td>37i9dQZF1DX4dyzvuaRJ0n</td>\n",
       "      <td>58.0</td>\n",
       "      <td>208367.0</td>\n",
       "      <td>65</td>\n",
       "      <td>...</td>\n",
       "      <td>0.0</td>\n",
       "      <td>0.0541</td>\n",
       "      <td>0.0978</td>\n",
       "      <td>0.000001</td>\n",
       "      <td>0.0836</td>\n",
       "      <td>0.2950</td>\n",
       "      <td>104.983</td>\n",
       "      <td>[alternative dance, aussietronica, australian ...</td>\n",
       "      <td>[Eye of the Enemy, Cypecore, Rise to Fall, Mor...</td>\n",
       "      <td>mint</td>\n",
       "    </tr>\n",
       "    <tr>\n",
       "      <th>1</th>\n",
       "      <td>5p1ex0pXv6jSPJ6QbumQpD</td>\n",
       "      <td>Piece Of Your Heart</td>\n",
       "      <td>0xRXCcSX89eobfrshSVdyu</td>\n",
       "      <td>MEDUZA</td>\n",
       "      <td>0agqVZjOqVtqHkq3pTFPXb</td>\n",
       "      <td>Piece Of Your Heart</td>\n",
       "      <td>37i9dQZF1DX4dyzvuaRJ0n</td>\n",
       "      <td>87.0</td>\n",
       "      <td>152913.0</td>\n",
       "      <td>74</td>\n",
       "      <td>...</td>\n",
       "      <td>0.0</td>\n",
       "      <td>0.0295</td>\n",
       "      <td>0.0404</td>\n",
       "      <td>0.000160</td>\n",
       "      <td>0.0740</td>\n",
       "      <td>0.6310</td>\n",
       "      <td>124.080</td>\n",
       "      <td>[]</td>\n",
       "      <td>[Eye of the Enemy, Cypecore, Rise to Fall, Mor...</td>\n",
       "      <td>mint</td>\n",
       "    </tr>\n",
       "    <tr>\n",
       "      <th>2</th>\n",
       "      <td>1ahVFh0ViDZr8LvkEVlq3B</td>\n",
       "      <td>No Sleep (feat. Bonn)</td>\n",
       "      <td>60d24wfXkVzDSfLS6hyCjZ</td>\n",
       "      <td>Martin Garrix</td>\n",
       "      <td>7KJTuTXYSnBGNgAxte3CSg</td>\n",
       "      <td>No Sleep (feat. Bonn)</td>\n",
       "      <td>37i9dQZF1DX4dyzvuaRJ0n</td>\n",
       "      <td>84.0</td>\n",
       "      <td>207094.0</td>\n",
       "      <td>86</td>\n",
       "      <td>...</td>\n",
       "      <td>1.0</td>\n",
       "      <td>0.0326</td>\n",
       "      <td>0.1290</td>\n",
       "      <td>0.000000</td>\n",
       "      <td>0.1210</td>\n",
       "      <td>0.3270</td>\n",
       "      <td>128.133</td>\n",
       "      <td>[big room, edm, pop, progressive house, tropic...</td>\n",
       "      <td>[AREA21, Borgeous, KSHMR, Dimitri Vegas &amp; Like...</td>\n",
       "      <td>mint</td>\n",
       "    </tr>\n",
       "    <tr>\n",
       "      <th>3</th>\n",
       "      <td>6nDKrPlXdpomGBgAlO7UdP</td>\n",
       "      <td>SOS</td>\n",
       "      <td>1vCWHaC5f2uS3yhpwWbIA6</td>\n",
       "      <td>Avicii</td>\n",
       "      <td>7Jx7doYIXITyR2LQB0Hvbc</td>\n",
       "      <td>SOS</td>\n",
       "      <td>37i9dQZF1DX4dyzvuaRJ0n</td>\n",
       "      <td>95.0</td>\n",
       "      <td>157202.0</td>\n",
       "      <td>89</td>\n",
       "      <td>...</td>\n",
       "      <td>0.0</td>\n",
       "      <td>0.0715</td>\n",
       "      <td>0.2720</td>\n",
       "      <td>0.000000</td>\n",
       "      <td>0.1190</td>\n",
       "      <td>0.3760</td>\n",
       "      <td>100.001</td>\n",
       "      <td>[big room, dance pop, edm, pop]</td>\n",
       "      <td>[Alesso, Afrojack, Swedish House Mafia, John D...</td>\n",
       "      <td>mint</td>\n",
       "    </tr>\n",
       "    <tr>\n",
       "      <th>4</th>\n",
       "      <td>5TL9e2xgtvJFtNCBsq1CgX</td>\n",
       "      <td>Changa - Blanke Remix</td>\n",
       "      <td>6n28c9qs9hNGriNa72b26u</td>\n",
       "      <td>PNAU</td>\n",
       "      <td>5kwv2A2qAK8pN007hSA56t</td>\n",
       "      <td>Changa</td>\n",
       "      <td>37i9dQZF1DX4dyzvuaRJ0n</td>\n",
       "      <td>59.0</td>\n",
       "      <td>188470.0</td>\n",
       "      <td>65</td>\n",
       "      <td>...</td>\n",
       "      <td>1.0</td>\n",
       "      <td>0.0431</td>\n",
       "      <td>0.0330</td>\n",
       "      <td>0.119000</td>\n",
       "      <td>0.2720</td>\n",
       "      <td>0.0654</td>\n",
       "      <td>110.086</td>\n",
       "      <td>[alternative dance, aussietronica, australian ...</td>\n",
       "      <td>[Eye of the Enemy, Cypecore, Rise to Fall, Mor...</td>\n",
       "      <td>mint</td>\n",
       "    </tr>\n",
       "  </tbody>\n",
       "</table>\n",
       "<p>5 rows × 25 columns</p>\n",
       "</div>"
      ],
      "text/plain": [
       "                 track_id             track_name               artist_id  \\\n",
       "0  7DQ5CZjAQdhgDgdnSXxJ7Z             Solid Gold  6n28c9qs9hNGriNa72b26u   \n",
       "1  5p1ex0pXv6jSPJ6QbumQpD    Piece Of Your Heart  0xRXCcSX89eobfrshSVdyu   \n",
       "2  1ahVFh0ViDZr8LvkEVlq3B  No Sleep (feat. Bonn)  60d24wfXkVzDSfLS6hyCjZ   \n",
       "3  6nDKrPlXdpomGBgAlO7UdP                    SOS  1vCWHaC5f2uS3yhpwWbIA6   \n",
       "4  5TL9e2xgtvJFtNCBsq1CgX  Changa - Blanke Remix  6n28c9qs9hNGriNa72b26u   \n",
       "\n",
       "     artist_name                album_id             album_name  \\\n",
       "0           PNAU  3g0mfsWlOOUNheV5L3kQKs             Solid Gold   \n",
       "1         MEDUZA  0agqVZjOqVtqHkq3pTFPXb    Piece Of Your Heart   \n",
       "2  Martin Garrix  7KJTuTXYSnBGNgAxte3CSg  No Sleep (feat. Bonn)   \n",
       "3         Avicii  7Jx7doYIXITyR2LQB0Hvbc                    SOS   \n",
       "4           PNAU  5kwv2A2qAK8pN007hSA56t                 Changa   \n",
       "\n",
       "              playlist_id  track_popularity  track_duration  \\\n",
       "0  37i9dQZF1DX4dyzvuaRJ0n              58.0        208367.0   \n",
       "1  37i9dQZF1DX4dyzvuaRJ0n              87.0        152913.0   \n",
       "2  37i9dQZF1DX4dyzvuaRJ0n              84.0        207094.0   \n",
       "3  37i9dQZF1DX4dyzvuaRJ0n              95.0        157202.0   \n",
       "4  37i9dQZF1DX4dyzvuaRJ0n              59.0        188470.0   \n",
       "\n",
       "   artist_popularity  ...  mode  speechiness  acousticness  instrumentalness  \\\n",
       "0                 65  ...   0.0       0.0541        0.0978          0.000001   \n",
       "1                 74  ...   0.0       0.0295        0.0404          0.000160   \n",
       "2                 86  ...   1.0       0.0326        0.1290          0.000000   \n",
       "3                 89  ...   0.0       0.0715        0.2720          0.000000   \n",
       "4                 65  ...   1.0       0.0431        0.0330          0.119000   \n",
       "\n",
       "   liveness  valence    tempo  \\\n",
       "0    0.0836   0.2950  104.983   \n",
       "1    0.0740   0.6310  124.080   \n",
       "2    0.1210   0.3270  128.133   \n",
       "3    0.1190   0.3760  100.001   \n",
       "4    0.2720   0.0654  110.086   \n",
       "\n",
       "                                       artist_genres  \\\n",
       "0  [alternative dance, aussietronica, australian ...   \n",
       "1                                                 []   \n",
       "2  [big room, edm, pop, progressive house, tropic...   \n",
       "3                    [big room, dance pop, edm, pop]   \n",
       "4  [alternative dance, aussietronica, australian ...   \n",
       "\n",
       "                                related_artist_names  playlist_name  \n",
       "0  [Eye of the Enemy, Cypecore, Rise to Fall, Mor...           mint  \n",
       "1  [Eye of the Enemy, Cypecore, Rise to Fall, Mor...           mint  \n",
       "2  [AREA21, Borgeous, KSHMR, Dimitri Vegas & Like...           mint  \n",
       "3  [Alesso, Afrojack, Swedish House Mafia, John D...           mint  \n",
       "4  [Eye of the Enemy, Cypecore, Rise to Fall, Mor...           mint  \n",
       "\n",
       "[5 rows x 25 columns]"
      ]
     },
     "execution_count": 49,
     "metadata": {},
     "output_type": "execute_result"
    }
   ],
   "source": [
    "df_combined.head()"
   ]
  },
  {
   "cell_type": "markdown",
   "metadata": {},
   "source": [
    "### Save Combined Meta Data"
   ]
  },
  {
   "cell_type": "code",
   "execution_count": 50,
   "metadata": {},
   "outputs": [],
   "source": [
    "# df_combined.to_csv('../data/df_combined.csv')"
   ]
  },
  {
   "cell_type": "markdown",
   "metadata": {},
   "source": [
    "## Create Artist Genres Dataframe"
   ]
  },
  {
   "cell_type": "code",
   "execution_count": 51,
   "metadata": {},
   "outputs": [
    {
     "data": {
      "text/html": [
       "<div>\n",
       "<style scoped>\n",
       "    .dataframe tbody tr th:only-of-type {\n",
       "        vertical-align: middle;\n",
       "    }\n",
       "\n",
       "    .dataframe tbody tr th {\n",
       "        vertical-align: top;\n",
       "    }\n",
       "\n",
       "    .dataframe thead th {\n",
       "        text-align: right;\n",
       "    }\n",
       "</style>\n",
       "<table border=\"1\" class=\"dataframe\">\n",
       "  <thead>\n",
       "    <tr style=\"text-align: right;\">\n",
       "      <th></th>\n",
       "      <th>track_id</th>\n",
       "      <th>track_name</th>\n",
       "      <th>artist_id</th>\n",
       "      <th>artist_name</th>\n",
       "      <th>artist_genres</th>\n",
       "    </tr>\n",
       "  </thead>\n",
       "  <tbody>\n",
       "    <tr>\n",
       "      <th>0</th>\n",
       "      <td>7DQ5CZjAQdhgDgdnSXxJ7Z</td>\n",
       "      <td>Solid Gold</td>\n",
       "      <td>6n28c9qs9hNGriNa72b26u</td>\n",
       "      <td>PNAU</td>\n",
       "      <td>[alternative dance, aussietronica, australian ...</td>\n",
       "    </tr>\n",
       "    <tr>\n",
       "      <th>1</th>\n",
       "      <td>5p1ex0pXv6jSPJ6QbumQpD</td>\n",
       "      <td>Piece Of Your Heart</td>\n",
       "      <td>0xRXCcSX89eobfrshSVdyu</td>\n",
       "      <td>MEDUZA</td>\n",
       "      <td>[]</td>\n",
       "    </tr>\n",
       "    <tr>\n",
       "      <th>2</th>\n",
       "      <td>1ahVFh0ViDZr8LvkEVlq3B</td>\n",
       "      <td>No Sleep (feat. Bonn)</td>\n",
       "      <td>60d24wfXkVzDSfLS6hyCjZ</td>\n",
       "      <td>Martin Garrix</td>\n",
       "      <td>[big room, edm, pop, progressive house, tropic...</td>\n",
       "    </tr>\n",
       "    <tr>\n",
       "      <th>3</th>\n",
       "      <td>6nDKrPlXdpomGBgAlO7UdP</td>\n",
       "      <td>SOS</td>\n",
       "      <td>1vCWHaC5f2uS3yhpwWbIA6</td>\n",
       "      <td>Avicii</td>\n",
       "      <td>[big room, dance pop, edm, pop]</td>\n",
       "    </tr>\n",
       "    <tr>\n",
       "      <th>4</th>\n",
       "      <td>5TL9e2xgtvJFtNCBsq1CgX</td>\n",
       "      <td>Changa - Blanke Remix</td>\n",
       "      <td>6n28c9qs9hNGriNa72b26u</td>\n",
       "      <td>PNAU</td>\n",
       "      <td>[alternative dance, aussietronica, australian ...</td>\n",
       "    </tr>\n",
       "  </tbody>\n",
       "</table>\n",
       "</div>"
      ],
      "text/plain": [
       "                 track_id             track_name               artist_id  \\\n",
       "0  7DQ5CZjAQdhgDgdnSXxJ7Z             Solid Gold  6n28c9qs9hNGriNa72b26u   \n",
       "1  5p1ex0pXv6jSPJ6QbumQpD    Piece Of Your Heart  0xRXCcSX89eobfrshSVdyu   \n",
       "2  1ahVFh0ViDZr8LvkEVlq3B  No Sleep (feat. Bonn)  60d24wfXkVzDSfLS6hyCjZ   \n",
       "3  6nDKrPlXdpomGBgAlO7UdP                    SOS  1vCWHaC5f2uS3yhpwWbIA6   \n",
       "4  5TL9e2xgtvJFtNCBsq1CgX  Changa - Blanke Remix  6n28c9qs9hNGriNa72b26u   \n",
       "\n",
       "     artist_name                                      artist_genres  \n",
       "0           PNAU  [alternative dance, aussietronica, australian ...  \n",
       "1         MEDUZA                                                 []  \n",
       "2  Martin Garrix  [big room, edm, pop, progressive house, tropic...  \n",
       "3         Avicii                    [big room, dance pop, edm, pop]  \n",
       "4           PNAU  [alternative dance, aussietronica, australian ...  "
      ]
     },
     "execution_count": 51,
     "metadata": {},
     "output_type": "execute_result"
    }
   ],
   "source": [
    "df_artist_genres = df_combined[['track_id', 'track_name', 'artist_id', 'artist_name', 'artist_genres']]\n",
    "df_artist_genres.head()"
   ]
  },
  {
   "cell_type": "code",
   "execution_count": 54,
   "metadata": {},
   "outputs": [],
   "source": [
    "# df_artist_genres['artist_genres'].value_counts(ascending=False).head(100)"
   ]
  },
  {
   "cell_type": "markdown",
   "metadata": {},
   "source": [
    "### MultiLabelBinarizer of Artist Genres"
   ]
  },
  {
   "cell_type": "code",
   "execution_count": 55,
   "metadata": {},
   "outputs": [],
   "source": [
    "from sklearn.preprocessing import MultiLabelBinarizer\n",
    "\n",
    "mlb = MultiLabelBinarizer()\n",
    "df_artist_genres_pop = df_artist_genres.join(pd.SparseDataFrame(mlb.fit_transform(df_artist_genres.pop('artist_genres')),\n",
    "                          columns=mlb.classes_,\n",
    "                          index=df_artist_genres.index))"
   ]
  },
  {
   "cell_type": "code",
   "execution_count": 56,
   "metadata": {},
   "outputs": [
    {
     "data": {
      "text/plain": [
       "(37028, 1987)"
      ]
     },
     "execution_count": 56,
     "metadata": {},
     "output_type": "execute_result"
    }
   ],
   "source": [
    "df_artist_genres_pop.shape"
   ]
  },
  {
   "cell_type": "markdown",
   "metadata": {},
   "source": [
    "### Save Genres Data Frame"
   ]
  },
  {
   "cell_type": "code",
   "execution_count": 59,
   "metadata": {},
   "outputs": [],
   "source": [
    "# df_artist_genres.to_csv('../data/df_artist_genres_pop.csv')"
   ]
  },
  {
   "cell_type": "markdown",
   "metadata": {},
   "source": [
    "## Create Related Artist Dataframe"
   ]
  },
  {
   "cell_type": "code",
   "execution_count": 64,
   "metadata": {},
   "outputs": [],
   "source": [
    "# df_related_artists = df_combined[['track_id', 'track_name', 'artist_id', 'artist_name', 'related_artist_names']]"
   ]
  },
  {
   "cell_type": "code",
   "execution_count": 65,
   "metadata": {},
   "outputs": [],
   "source": [
    "# df_related_artists.head()"
   ]
  },
  {
   "cell_type": "code",
   "execution_count": 66,
   "metadata": {},
   "outputs": [],
   "source": [
    "# df_related_artists.related_artist_names.value_counts(ascending=False).head()"
   ]
  },
  {
   "cell_type": "code",
   "execution_count": null,
   "metadata": {},
   "outputs": [],
   "source": [
    "# from sklearn.preprocessing import MultiLabelBinarizer\n",
    "\n",
    "# mlb = MultiLabelBinarizer()\n",
    "# df_related_artists_pop = df_related_artists.join(pd.SparseDataFrame(mlb.fit_transform(df_related_artists.pop('related_artist_names')),\n",
    "#                           columns=mlb.classes_,\n",
    "#                           index=df_related_artists.index))"
   ]
  },
  {
   "cell_type": "code",
   "execution_count": null,
   "metadata": {},
   "outputs": [],
   "source": [
    "# df_related_artists_pop.shape"
   ]
  },
  {
   "cell_type": "code",
   "execution_count": null,
   "metadata": {},
   "outputs": [],
   "source": [
    "# df_related_artists_pop = pd.SparseDataFrame(df_related_artists_pop)"
   ]
  },
  {
   "cell_type": "code",
   "execution_count": null,
   "metadata": {},
   "outputs": [],
   "source": [
    "# df_related_artists_pop.head()"
   ]
  },
  {
   "cell_type": "markdown",
   "metadata": {},
   "source": [
    "### Saving Related Artist Dataframe"
   ]
  },
  {
   "cell_type": "code",
   "execution_count": null,
   "metadata": {},
   "outputs": [],
   "source": [
    "# df_related_artists_pop.to_csv('../data/df_related_artists.csv')"
   ]
  }
 ],
 "metadata": {
  "kernelspec": {
   "display_name": "Python 3",
   "language": "python",
   "name": "python3"
  },
  "language_info": {
   "codemirror_mode": {
    "name": "ipython",
    "version": 3
   },
   "file_extension": ".py",
   "mimetype": "text/x-python",
   "name": "python",
   "nbconvert_exporter": "python",
   "pygments_lexer": "ipython3",
   "version": "3.7.1"
  }
 },
 "nbformat": 4,
 "nbformat_minor": 2
}
